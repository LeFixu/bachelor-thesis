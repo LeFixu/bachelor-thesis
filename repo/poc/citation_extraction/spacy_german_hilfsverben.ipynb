{
 "cells": [
  {
   "cell_type": "code",
   "execution_count": 1,
   "id": "cec691d7",
   "metadata": {},
   "outputs": [],
   "source": [
    "import spacy\n",
    "from spacy.lang.de.examples import sentences \n",
    "\n",
    "nlp = spacy.load(\"de_core_news_lg\")"
   ]
  },
  {
   "cell_type": "code",
   "execution_count": 6,
   "id": "3fcd37a6",
   "metadata": {},
   "outputs": [
    {
     "name": "stdout",
     "output_type": "stream",
     "text": [
      "ROOT,root\n",
      "ac,adpositional case marker\n",
      "adc,adjective component\n",
      "ag,genitive attribute\n",
      "ams,measure argument of adjective\n",
      "app,apposition\n",
      "avc,adverbial phrase component\n",
      "cc,coordinating conjunction\n",
      "cd,coordinating conjunction\n",
      "cj,conjunct\n",
      "cm,comparative conjunction\n",
      "cp,complementizer\n",
      "cvc,collocational verb construction\n",
      "da,dative\n",
      "dep,unclassified dependent\n",
      "dm,discourse marker\n",
      "ep,expletive es\n",
      "ju,junctor\n",
      "mnr,postnominal modifier\n",
      "mo,modifier\n",
      "ng,negation\n",
      "nk,noun kernel element\n",
      "nmc,numerical component\n",
      "oa,accusative object\n",
      "oc,clausal object\n",
      "og,genitive object\n",
      "op,prepositional object\n",
      "par,parenthetical element\n",
      "pd,predicate\n",
      "pg,phrasal genitive\n",
      "ph,placeholder\n",
      "pm,morphological particle\n",
      "pnc,proper noun component\n",
      "punct,punctuation\n",
      "rc,relative clause\n",
      "re,repeated element\n",
      "rs,reported speech\n",
      "sb,subject\n",
      "sbp,passivized subject (PP)\n",
      "svp,separable verb prefix\n",
      "uc,unit component\n",
      "vo,vocative\n"
     ]
    }
   ],
   "source": [
    "dependencies = \"ROOT, ac, adc, ag, ams, app, avc, cc, cd, cj, cm, cp, cvc, da, dep, dm, ep, ju, mnr, mo, ng, nk, nmc, oa, oc, og, op, par, pd, pg, ph, pm, pnc, punct, rc, re, rs, sb, sbp, svp, uc, vo\".split(\", \")\n",
    "for d in dependencies:\n",
    "    print(f\"{d},{spacy.explain(d)}\")"
   ]
  },
  {
   "cell_type": "code",
   "execution_count": 2,
   "id": "6c72c27c",
   "metadata": {},
   "outputs": [],
   "source": [
    "import spacy\n",
    "from spacy import displacy\n",
    "\n",
    "def print_all(doc):\n",
    "    print(\"text\", \"lemma_\", \"pos_\", \"tag_\", \"dep_\", \"shape_\", \"is_alpha\", \"is_stop\")\n",
    "    for token in doc:\n",
    "        print(token.text, token.lemma_, token.pos_, token.tag_, token.dep_,\n",
    "                token.shape_, token.is_alpha, token.is_stop)\n",
    "\n",
    "def print_sentence(sentence):\n",
    "    doc = nlp(sentence)\n",
    "\n",
    "    print(doc.text)\n",
    "    print()\n",
    "    print_all(doc)\n",
    "\n",
    "def print_dependency_diagram(sentence):\n",
    "    doc = nlp(sentence)\n",
    "    displacy.render(doc, style=\"dep\", options={\"compact\":True})"
   ]
  },
  {
   "cell_type": "code",
   "execution_count": 211,
   "id": "994ed164",
   "metadata": {},
   "outputs": [],
   "source": [
    "import spacy\n",
    "from nltk import Tree\n",
    "from spacy.tokens.token import Token\n",
    "from typing import Callable, Optional\n",
    "\n",
    "def to_nltk_tree(sentence: str, tok_format: Optional[Callable[Token, str]] = None):\n",
    "    def tok_format_(tok: Token):\n",
    "        return \"_\".join([tok.orth_, tok.dep_])\n",
    "    \n",
    "    if tok_format is None:\n",
    "        tok_format = tok_format_\n",
    "        \n",
    "    def to_nltk_tree_(node: Token):\n",
    "        if node.n_lefts + node.n_rights > 0:\n",
    "            return Tree(tok_format(node), [to_nltk_tree_(child) for child in node.children])\n",
    "        else:\n",
    "            return tok_format(node)\n",
    "        \n",
    "    doc = nlp(sentence)\n",
    "    return [to_nltk_tree_(sent.root).pretty_print() for sent in doc.sents]"
   ]
  },
  {
   "cell_type": "code",
   "execution_count": 212,
   "id": "330519d7",
   "metadata": {},
   "outputs": [
    {
     "name": "stdout",
     "output_type": "stream",
     "text": [
      "                                                                                                     hat_haben_ROOT                                                                                                                                                               \n",
      "     ______________________________________________________________________________________________________|________________                                                                                                                                                       \n",
      "    |             |                                                                                                  bestätigt_bestät                                                                                                                                             \n",
      "    |             |                                                                                                      igen_oc                                                                                                                                                  \n",
      "    |             |              ___________________________________________________________________________________________|__________________________                                                                                                                            \n",
      "    |             |             |                                                                                                               kommt_kommen_oc                                                                                                                   \n",
      "    |             |             |            __________________________________________________________________________________________________________|_________________________________________________________________________________________________________________          \n",
      "    |             |             |           |           |                       |                                                                                  zur_zu_mo                                                                                             |        \n",
      "    |             |             |           |           |                       |                                                                       _______________|___________________________________________________________                                      |         \n",
      "    |             |             |           |           |                       |                                                               Krönung_Krönung_                                                                   |                                     |        \n",
      "    |             |             |           |           |                       |                                                                      nk                                                                          |                                     |        \n",
      "    |             |             |           |           |                       |                                                                      |                                                                           |                                     |         \n",
      "    |             |             |           |           |                       |                                                                  von_von_pg                                                                      |                                     |        \n",
      "    |             |             |           |           |                       |                                                                      |                                                                           |                                     |         \n",
      "    |             |             |           |           |                 Prinz_Prinz_sb                                                         König_König_nk                                                                    |                                     |        \n",
      "    |             |             |           |           |                       |                           ___________________________________________|______________________________                                             |                                     |         \n",
      "    |             |             |           |           |                 Harry_Harry_nk                   |                              |                                       und_und_cd                                Königin_Königin_                             |        \n",
      "    |             |             |           |           |                       |                          |                              |                                           |                                            cj                                    |        \n",
      "    |             |             |           |           |                       |                          |                              |                                           |                            ________________|_____________                        |         \n",
      "    |      Palast_Palast_sb     |           |           |                   38_38_par                 III._III._nk                    74_74_par                                Ehefrau_Ehefrau_                   |                          75_75_par              nach_nach_mo  \n",
      "    |             |             |           |           |                       |                          |                              |                                           cj                          |                              |                       |        \n",
      "    |             |             |           |           |           ____________|____________              |                 _____________|____________                 ______________|_____________              |                 _____________|_________              |         \n",
      "._--_punct    Der_der_nk    ,_--_punct dass_dass_cp ,_--_punct (_--_punct                )_--_punct Charles_Charles_    (_--_punct                 )_--_punct    dessen_der_ag                  ,_--_punct Camilla_Camilla_    (_--_punct              )_--_punct London_London_nk\n",
      "                                                                                                          pnc                                                                                                     nk                                                              \n",
      "\n"
     ]
    },
    {
     "data": {
      "text/plain": [
       "[None]"
      ]
     },
     "execution_count": 212,
     "metadata": {},
     "output_type": "execute_result"
    }
   ],
   "source": [
    "sentence = 'Der Palast hat bestätigt, dass Prinz Harry (38) zur Krönung von König Charles III. (74) und dessen Ehefrau, Königin Camilla (75), nach London kommt.'\n",
    "to_nltk_tree(sentence, lambda x: f\"{x.text}_{x.lemma_}_{x.dep_}\")"
   ]
  },
  {
   "cell_type": "code",
   "execution_count": 213,
   "id": "f7971d16",
   "metadata": {},
   "outputs": [],
   "source": [
    "def get_roots(string: str):\n",
    "    return list([sent.root for sent in nlp(string).sents])\n",
    "roots = get_roots(sentence)"
   ]
  },
  {
   "cell_type": "code",
   "execution_count": 214,
   "id": "07d16fd1",
   "metadata": {},
   "outputs": [],
   "source": [
    "quotation_verbs_raw = 'sagen meinen erzählen versichern erklären betonen mitteilen ankündigen bestätigen'\n",
    "quotation_verbs_doc = nlp(quotation_verbs_raw)\n",
    "quotation_verbs = list(map( lambda t: t.lemma_, quotation_verbs_doc))"
   ]
  },
  {
   "cell_type": "code",
   "execution_count": 215,
   "id": "a8a3294e",
   "metadata": {},
   "outputs": [],
   "source": [
    "from functools import reduce\n",
    "from operator import iconcat\n",
    "def flatten_list(list_of_lists: List[List]) -> List:\n",
    "    return reduce(iconcat, list_of_lists, [])\n",
    "\n",
    "def flatten_tree(node: Token):\n",
    "    def flatten_tree_(node: Token):\n",
    "        return reduce(iconcat, [flatten_tree_(child) for child in node.children], [node])\n",
    "    return sorted(flatten_tree_(node), key = lambda x: x.i)\n",
    "                  \n",
    "flattened = flatten_tree(roots[0])"
   ]
  },
  {
   "cell_type": "code",
   "execution_count": 216,
   "id": "fd47dd0d",
   "metadata": {},
   "outputs": [],
   "source": [
    "from functools import reduce\n",
    "from operator import iconcat\n",
    "from typing import List, Optional\n",
    "\n",
    "# This does not work so well yet, find a way to do breadth first instead of depth first\n",
    "def get_nearest_tokens_by_condition(node: Token, condition: Callable[Token, bool]) -> List[Token]:\n",
    "    # check current node\n",
    "    if condition(node):\n",
    "        return [node]\n",
    "    \n",
    "    # Recursion step (flatten result)\n",
    "    return flatten_list([get_nearest_tokens_by_condition(n, condition) for n in node.children])\n"
   ]
  },
  {
   "cell_type": "code",
   "execution_count": 217,
   "id": "5f307362",
   "metadata": {},
   "outputs": [],
   "source": [
    "from functools import reduce\n",
    "from operator import iconcat\n",
    "from typing import List, Optional\n",
    "\n",
    "# Breadth First Search\n",
    "def get_nearest_tokens_by_condition(node: Token, condition: Callable[Token, bool]) -> List[Token]:\n",
    "    def get_nearest_by(node: Token, condition: Callable[Token, bool], depth: int) -> List[Tuple[Token, int]]:\n",
    "        # check current node\n",
    "        if condition(node):\n",
    "            return [(node, depth)]\n",
    "\n",
    "        # Recursion step (flatten result)\n",
    "        return flatten_list([get_nearest_by(n, condition, depth + 1) for n in node.children])\n",
    "    \n",
    "    results = get_nearest_by(node, condition, 0)\n",
    "    if len(results) < 1:\n",
    "        return []\n",
    "    min_depth = min(results, key = lambda t: t[1])[1]\n",
    "    print(results)\n",
    "    print(min_depth)\n",
    "    \n",
    "    return list(map(lambda t: t[0], filter(lambda t: t[1] == min_depth, results)))\n"
   ]
  },
  {
   "cell_type": "code",
   "execution_count": 218,
   "id": "acd1c255",
   "metadata": {},
   "outputs": [],
   "source": [
    "def get_text_from_tree(node: Token):\n",
    "    return \"\".join(map(lambda x: x.text_with_ws, flatten_tree(node))).strip()"
   ]
  },
  {
   "cell_type": "code",
   "execution_count": 219,
   "id": "e4d6e78c",
   "metadata": {},
   "outputs": [],
   "source": [
    "from typing import Union\n",
    "\n",
    "def get_subject_node(node: Token) -> Union[Token, None]:\n",
    "    condition = lambda n: n.dep_ == 'sb'\n",
    "    return get_nearest_tokens_by_condition(node, condition)[0]\n",
    "\n",
    "def get_quote_node(node: Token) -> Union[Token, None]:\n",
    "    def condition(node: Token) -> bool:\n",
    "        \n",
    "        def is_quote_node_in_praesens_or_praeteritum(node: Token) -> bool:\n",
    "            return node.dep_ == 'oc' and node.head.lemma_ in quotation_verbs\n",
    "        \n",
    "        def is_quote_node_in_perfekt_plusquamperfekt_or_futur(node_Token) -> bool:\n",
    "            return node.dep_ == 'oc' and node.lemma_ in quotation_verbs and node.head.lemma_ in hilfsverben\n",
    "        \n",
    "        without_hilfsverb = is_quote_node_in_praesens_or_praeteritum(node)\n",
    "        with_hilfsverb = is_quote_node_in_perfekt_plusquamperfekt_or_futur(node)\n",
    "        \n",
    "        print(f\"{node}_{without_hilfsverb}_{with_hilfsverb}\")\n",
    "        \n",
    "        return  without_hilfsverb or with_hilfsverb\n",
    "    return get_nearest_tokens_by_condition(node, condition)[0]\n",
    "\n",
    "def get_subject(node: Token) -> Union[str, None]:\n",
    "    return get_text_from_tree(get_subject_node(node))\n",
    "\n",
    "def get_quote(node: Token) -> Union[str, None]:\n",
    "    return get_text_from_tree(get_quote_node(node))\n"
   ]
  },
  {
   "cell_type": "code",
   "execution_count": 220,
   "id": "a8557289",
   "metadata": {},
   "outputs": [],
   "source": [
    "hilfsverben = ['sein', 'haben']"
   ]
  },
  {
   "cell_type": "code",
   "execution_count": 221,
   "id": "903f5b20",
   "metadata": {},
   "outputs": [],
   "source": [
    "from typing import Union, Tuple\n",
    "\n",
    "# Perfekt, Plusquamperfekt oder Futur\n",
    "def get_quote_node_with_verb(node:Token) -> Union[Tuple[Token, Token], None]:\n",
    "    condition = lambda n: n.lemma_ in hilfsverben and n.dep_ in ['ROOT', 'oc']\n",
    "    quotation_nodes = get_nearest_tokens_by_condition(node, condition)\n",
    "    print(quotation_nodes)\n",
    "    quotation_node = quotation_nodes[0]\n",
    "    \n",
    "    if quotation_node is None:\n",
    "        return None\n",
    "    \n",
    "    verb = get_quote_node(quotation_node)\n",
    "    if verb is None:\n",
    "        return None\n",
    "    \n",
    "    return (quotation_node, verb)"
   ]
  },
  {
   "cell_type": "code",
   "execution_count": 222,
   "id": "4f8350db",
   "metadata": {},
   "outputs": [
    {
     "data": {
      "text/plain": [
       "hat"
      ]
     },
     "execution_count": 222,
     "metadata": {},
     "output_type": "execute_result"
    }
   ],
   "source": [
    "roots[0]"
   ]
  },
  {
   "cell_type": "code",
   "execution_count": 223,
   "id": "19b79193",
   "metadata": {},
   "outputs": [
    {
     "name": "stdout",
     "output_type": "stream",
     "text": [
      "[(hat, 0)]\n",
      "0\n",
      "[hat]\n",
      "hat_False_False\n",
      "Palast_False_False\n",
      "Der_False_False\n",
      "bestätigt_False_True\n",
      "._False_False\n",
      "[(bestätigt, 1)]\n",
      "1\n"
     ]
    },
    {
     "data": {
      "text/plain": [
       "(hat, bestätigt)"
      ]
     },
     "execution_count": 223,
     "metadata": {},
     "output_type": "execute_result"
    }
   ],
   "source": [
    "get_quote_node_with_verb(roots[0])"
   ]
  },
  {
   "cell_type": "code",
   "execution_count": 224,
   "id": "ee2ff655",
   "metadata": {},
   "outputs": [],
   "source": [
    "sentence = \"Macron sagte zu Xi, »Die Aggression hat der Stabilität einen Schlag versetzt«.\"\n",
    "roots = get_roots(sentence)"
   ]
  },
  {
   "cell_type": "code",
   "execution_count": 225,
   "id": "5b0104bb",
   "metadata": {},
   "outputs": [
    {
     "name": "stdout",
     "output_type": "stream",
     "text": [
      "[(hat, 1)]\n",
      "1\n",
      "[hat]\n",
      "hat_True_False\n",
      "[(hat, 0)]\n",
      "0\n"
     ]
    },
    {
     "data": {
      "text/plain": [
       "(hat, hat)"
      ]
     },
     "execution_count": 225,
     "metadata": {},
     "output_type": "execute_result"
    }
   ],
   "source": [
    "get_quote_node_with_verb(roots[0])"
   ]
  },
  {
   "cell_type": "code",
   "execution_count": 226,
   "id": "35fcf61d",
   "metadata": {},
   "outputs": [
    {
     "name": "stdout",
     "output_type": "stream",
     "text": [
      "                                sagte_ROOT                                              \n",
      "     _______________________________|_______________________                             \n",
      "    |        |       |      |                             hat_oc                        \n",
      "    |        |       |      |        _______________________|__________                  \n",
      "    |        |       |      |       |            |                versetzt_oc           \n",
      "    |        |       |      |       |            |           __________|___________      \n",
      "    |        |       |    zu_mo     |      Aggression_sb    |    Stabilität_da Schlag_oa\n",
      "    |        |       |      |       |            |          |          |           |     \n",
      "Macron_sb ,_punct ._punct Xi_nk  »_punct       Die_nk    «_punct     der_nk     einen_nk\n",
      "\n"
     ]
    },
    {
     "data": {
      "text/plain": [
       "[None]"
      ]
     },
     "execution_count": 226,
     "metadata": {},
     "output_type": "execute_result"
    }
   ],
   "source": [
    "to_nltk_tree(sentence)"
   ]
  },
  {
   "cell_type": "code",
   "execution_count": 227,
   "id": "9f8b29d4",
   "metadata": {},
   "outputs": [],
   "source": [
    "def get_quote_nodes(sentence: str) -> List[Token]:\n",
    "    def get_quote_node_(root: Token) -> Token:\n",
    "        if root.lemma_ in hilfsverben:\n",
    "            condition = lambda n: n.head.lemma_ in quotation_verbs and n.dep_ == 'oc'\n",
    "            quotation_verb_nodes = flatten_list([get_nearest_tokens_by_condition(c, condition) for c in root.children])\n",
    "            if len(quotation_verb_nodes) < 1:\n",
    "                return None\n",
    "            return quotation_verb_nodes[0]\n",
    "\n",
    "        if root.lemma_ in quotation_verbs:\n",
    "            quotation_subtrees = [x for x in root.children if x.dep_ == 'oc']\n",
    "            if len(quotation_subtrees) < 1:\n",
    "                return None\n",
    "            return quotation_subtrees[0]\n",
    "\n",
    "        return None\n",
    "    roots = get_roots(sentence)\n",
    "    return list(map(lambda r: get_quote_node_(r), roots))"
   ]
  },
  {
   "cell_type": "code",
   "execution_count": 228,
   "id": "6faf9f7a",
   "metadata": {},
   "outputs": [
    {
     "data": {
      "text/plain": [
       "[hat]"
      ]
     },
     "execution_count": 228,
     "metadata": {},
     "output_type": "execute_result"
    }
   ],
   "source": [
    "get_quote_nodes(\"Macron sagte zu Xi, »Die Aggression hat der Stabilität einen Schlag versetzt«.\")"
   ]
  },
  {
   "cell_type": "code",
   "execution_count": 229,
   "id": "f3730bc4",
   "metadata": {},
   "outputs": [
    {
     "name": "stdout",
     "output_type": "stream",
     "text": [
      "[(kommt, 1)]\n",
      "1\n"
     ]
    },
    {
     "data": {
      "text/plain": [
       "[kommt]"
      ]
     },
     "execution_count": 229,
     "metadata": {},
     "output_type": "execute_result"
    }
   ],
   "source": [
    "get_quote_nodes('Der Palast hat bestätigt, dass Prinz Harry (38) zur Krönung von König Charles III. (74) und dessen Ehefrau, Königin Camilla (75), nach London kommt.')"
   ]
  },
  {
   "cell_type": "code",
   "execution_count": null,
   "id": "b06d6d83",
   "metadata": {},
   "outputs": [],
   "source": []
  },
  {
   "cell_type": "code",
   "execution_count": null,
   "id": "f0d7de0d",
   "metadata": {},
   "outputs": [],
   "source": []
  }
 ],
 "metadata": {
  "kernelspec": {
   "display_name": "Python 3 (ipykernel)",
   "language": "python",
   "name": "python3"
  },
  "language_info": {
   "codemirror_mode": {
    "name": "ipython",
    "version": 3
   },
   "file_extension": ".py",
   "mimetype": "text/x-python",
   "name": "python",
   "nbconvert_exporter": "python",
   "pygments_lexer": "ipython3",
   "version": "3.10.8"
  }
 },
 "nbformat": 4,
 "nbformat_minor": 5
}
