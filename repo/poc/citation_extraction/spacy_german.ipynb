{
 "cells": [
  {
   "cell_type": "code",
   "execution_count": 1,
   "id": "6cdc8b7c",
   "metadata": {},
   "outputs": [],
   "source": [
    "#!python -m spacy download de_core_news_lg"
   ]
  },
  {
   "cell_type": "code",
   "execution_count": 2,
   "id": "31a6d5cf",
   "metadata": {},
   "outputs": [
    {
     "name": "stdout",
     "output_type": "stream",
     "text": [
      "Die ganze Stadt ist ein Startup: Shenzhen ist das Silicon Valley für Hardware-Firmen\n",
      "Die DET nk\n",
      "ganze ADJ nk\n",
      "Stadt NOUN sb\n",
      "ist AUX ROOT\n",
      "ein DET nk\n",
      "Startup NOUN pd\n",
      ": PUNCT punct\n",
      "Shenzhen PROPN sb\n",
      "ist AUX cj\n",
      "das DET nk\n",
      "Silicon PROPN pnc\n",
      "Valley PROPN sb\n",
      "für ADP mnr\n",
      "Hardware-Firmen NOUN nk\n"
     ]
    }
   ],
   "source": [
    "import spacy\n",
    "from spacy.lang.de.examples import sentences \n",
    "\n",
    "nlp = spacy.load(\"de_core_news_lg\")\n",
    "doc = nlp(sentences[0])\n",
    "print(doc.text)\n",
    "for token in doc:\n",
    "    print(token.text, token.pos_, token.dep_)"
   ]
  },
  {
   "cell_type": "code",
   "execution_count": 3,
   "id": "6e04e0da",
   "metadata": {},
   "outputs": [
    {
     "data": {
      "text/plain": [
       "spacy.lang.de.German"
      ]
     },
     "execution_count": 3,
     "metadata": {},
     "output_type": "execute_result"
    }
   ],
   "source": [
    "type(nlp)"
   ]
  },
  {
   "cell_type": "code",
   "execution_count": 4,
   "id": "49837bbc",
   "metadata": {},
   "outputs": [],
   "source": [
    "import spacy\n",
    "from spacy import displacy\n",
    "\n",
    "def print_all(doc):\n",
    "    print(\"text\", \"lemma_\", \"pos_\", \"tag_\", \"dep_\", \"shape_\", \"is_alpha\", \"is_stop\")\n",
    "    for token in doc:\n",
    "        print(token.text, token.lemma_, token.pos_, token.tag_, token.dep_,\n",
    "                token.shape_, token.is_alpha, token.is_stop)\n",
    "\n",
    "def print_sentence(sentence):\n",
    "    doc = nlp(sentence)\n",
    "\n",
    "    print(doc.text)\n",
    "    print()\n",
    "    print_all(doc)\n",
    "\n",
    "def print_dependency_diagram(sentence):\n",
    "    doc = nlp(sentence)\n",
    "    displacy.render(doc, style=\"dep\", options={\"compact\":True})"
   ]
  },
  {
   "cell_type": "code",
   "execution_count": 5,
   "id": "98963d25",
   "metadata": {},
   "outputs": [],
   "source": [
    "import spacy\n",
    "from nltk import Tree\n",
    "from spacy.tokens.token import Token\n",
    "from typing import Callable, Optional\n",
    "\n",
    "def to_nltk_tree(sentence: str, tok_format: Optional[Callable[Token, str]] = None):\n",
    "    def tok_format_(tok: Token):\n",
    "        return \"_\".join([tok.orth_, tok.dep_])\n",
    "    \n",
    "    if tok_format is None:\n",
    "        tok_format = tok_format_\n",
    "        \n",
    "    def to_nltk_tree_(node: Token):\n",
    "        if node.n_lefts + node.n_rights > 0:\n",
    "            return Tree(tok_format(node), [to_nltk_tree_(child) for child in node.children])\n",
    "        else:\n",
    "            return tok_format(node)\n",
    "        \n",
    "    doc = nlp(sentence)\n",
    "    \n",
    "    ret_val = []\n",
    "    for sent in doc.sents:\n",
    "        nltk_tree = to_nltk_tree_(sent.root)\n",
    "        if isinstance(nltk_tree,str):\n",
    "            ret_val.append(nltk_tree)\n",
    "        else:\n",
    "            ret_val.append(nltk_tree.pretty_print())\n",
    "    return ret_val"
   ]
  },
  {
   "cell_type": "markdown",
   "id": "3520623e",
   "metadata": {},
   "source": [
    "# Dependency Trees\n",
    "\n",
    "https://www.spiegel.de/ausland/china-und-frankreich-xi-jinping-empfaengt-emmanuel-macron-in-peking-a-1a1b7402-5428-4ce2-8656-35839d368f02"
   ]
  },
  {
   "cell_type": "code",
   "execution_count": 6,
   "id": "0e2c98b4",
   "metadata": {},
   "outputs": [
    {
     "name": "stdout",
     "output_type": "stream",
     "text": [
      "                                                                               hat_ROOT                                                                                         \n",
      "    ______________________________________________________________________________|____________________________                                                                  \n",
      "   |                  |                                                                                 aufgefordert_oc                                                         \n",
      "   |                  |                      __________________________________________________________________|________________________________                                 \n",
      "   |                  |                     |                Bei_mo                            |                                                |                               \n",
      "   |                  |                     |                  |                               |                                                |                                \n",
      "   |                  |                     |              Besuch_nk                           |                                            bringen_oc                          \n",
      "   |                  |                     |         _________|_________                      |                              __________________|_________________________       \n",
      "   |             Präsident_sb               |        |                 in_mnr            Staatschef_oa                       |         |        |        |      |       zur_mo  \n",
      "   |       ___________|____________         |        |                   |         ____________|_______________              |         |        |        |      |         |      \n",
      "._punct der_nk französische_nk Macron_nk ,_punct seinem_nk           Peking_nk  den_nk  chinesischen_nk      Xi_nk      Russland_oa »_punct wieder_mo  zu_pm «_punct Vernunft_nk\n",
      "\n"
     ]
    },
    {
     "data": {
      "text/plain": [
       "[None]"
      ]
     },
     "execution_count": 6,
     "metadata": {},
     "output_type": "execute_result"
    }
   ],
   "source": [
    "sentence = 'Bei seinem Besuch in Peking hat der französische Präsident Macron den chinesischen Staatschef Xi aufgefordert, Russland »wieder zur Vernunft zu bringen«.'\n",
    "to_nltk_tree(sentence)"
   ]
  },
  {
   "cell_type": "code",
   "execution_count": 7,
   "id": "05cab6ef",
   "metadata": {},
   "outputs": [
    {
     "name": "stdout",
     "output_type": "stream",
     "text": [
      "                                                   sagte_ROOT                                                                          \n",
      "    ___________________________________________________|____________________________________________________________________________    \n",
      "   |        |        |                                           hat_oc                                                             |  \n",
      "   |        |        |        _____________________________________|__________________________________                              |   \n",
      "   |        |        |       |       |           Aggression_sb                                   versetzt_oc                        |  \n",
      "   |        |        |       |       |       __________|___________                     ______________|_____________________        |   \n",
      "   |        |        |       |       |      |          |         in_mnr          Stabilität_da                              |       |  \n",
      "   |        |        |       |       |      |          |           |         __________|______________                      |       |   \n",
      "   |        |        |       |       |      |          |       Ukraine_nk   |                  internationalen_         Schlag_oa zu_mo\n",
      "   |        |        |       |       |      |          |           |        |                         nk                    |       |  \n",
      "   |        |        |       |       |      |          |           |        |           ______________|____________         |       |   \n",
      ",_punct Macron_sb ._punct »_punct «_punct Die_nk  russische_nk   der_nk   der_nk    (_punct                     )_punct  einen_nk Xi_nk\n",
      "\n"
     ]
    },
    {
     "data": {
      "text/plain": [
       "[None]"
      ]
     },
     "execution_count": 7,
     "metadata": {},
     "output_type": "execute_result"
    }
   ],
   "source": [
    "sentence = '»Die russische Aggression in der Ukraine hat der (internationalen) Stabilität einen Schlag versetzt«, sagte Macron zu Xi.'\n",
    "to_nltk_tree(sentence)"
   ]
  },
  {
   "cell_type": "code",
   "execution_count": 8,
   "id": "f1bd095f",
   "metadata": {},
   "outputs": [
    {
     "name": "stdout",
     "output_type": "stream",
     "text": [
      "»Die russische Aggression in der Ukraine hat der (internationalen) Stabilität einen Schlag versetzt«, sagte Macron zu Xi.\n",
      "\n",
      "text lemma_ pos_ tag_ dep_ shape_ is_alpha is_stop\n",
      "» -- PUNCT $( punct » False False\n",
      "Die der DET ART nk Xxx True True\n",
      "russische russisch ADJ ADJA nk xxxx True False\n",
      "Aggression Aggression NOUN NN sb Xxxxx True False\n",
      "in in ADP APPR mnr xx True True\n",
      "der der DET ART nk xxx True True\n",
      "Ukraine Ukraine PROPN NE nk Xxxxx True False\n",
      "hat haben AUX VAFIN oc xxx True True\n",
      "der der DET ART nk xxx True True\n",
      "( -- PUNCT $( punct ( False False\n",
      "internationalen international ADJ ADJA nk xxxx True False\n",
      ") -- PUNCT $( punct ) False False\n",
      "Stabilität Stabilität NOUN NN da Xxxxx True False\n",
      "einen ein DET ART nk xxxx True True\n",
      "Schlag Schlag NOUN NN oa Xxxxx True False\n",
      "versetzt versetzen VERB VVPP oc xxxx True False\n",
      "« -- PUNCT $( punct « False False\n",
      ", -- PUNCT $, punct , False False\n",
      "sagte sagen VERB VVFIN ROOT xxxx True True\n",
      "Macron Macron PROPN NE sb Xxxxx True False\n",
      "zu zu ADP APPR mo xx True True\n",
      "Xi Xi PROPN NE nk Xx True False\n",
      ". -- PUNCT $. punct . False False\n"
     ]
    }
   ],
   "source": [
    "print_sentence(sentence)"
   ]
  },
  {
   "cell_type": "code",
   "execution_count": 9,
   "id": "e2c91231",
   "metadata": {},
   "outputs": [
    {
     "data": {
      "text/plain": [
       "'clausal object'"
      ]
     },
     "execution_count": 9,
     "metadata": {},
     "output_type": "execute_result"
    }
   ],
   "source": [
    "spacy.explain('oc')"
   ]
  },
  {
   "cell_type": "code",
   "execution_count": 10,
   "id": "6b6e080b",
   "metadata": {},
   "outputs": [
    {
     "name": "stdout",
     "output_type": "stream",
     "text": [
      "                                                              weiß_ROOT                                                                                                             \n",
      "    ______________________________________________________________|______________________                                                                                            \n",
      "   |      |       |       |       |                                                   kann_oc                                                                                       \n",
      "   |      |       |       |       |        ______________________________________________|____________________                                                                       \n",
      "   |      |       |       |       |       |      |       |        |                                        geht_mo                                                                  \n",
      "   |      |       |       |       |       |      |       |        |         __________________________________|_________                                                             \n",
      "   |      |       |       |       |       |      |       |        |        |      |      |                           darum_op                                                       \n",
      "   |      |       |       |       |       |      |       |        |        |      |      |                              |                                                            \n",
      "   |      |       |       |       |       |      |       |        |        |      |      |                          bringen_re                                                      \n",
      "   |      |       |       |       |       |      |       |        |        |      |      |          ____________________|_________________________________                           \n",
      "   |      |       |       |       |       |      |       |        |        |      |      |         |          |         |           |                   und_cd                      \n",
      "   |      |       |       |       |       |      |       |        |        |      |      |         |          |         |           |                     |                          \n",
      "   |      |       |       |       |       |      |       |        |        |      |      |         |          |         |           |              zurückzuholen_cj                 \n",
      "   |      |       |       |       |       |      |       |        |        |      |      |         |          |         |           |          ___________|________________          \n",
      "   |      |       |       |       |       |      |       |    zählen_oc    |      |      |         |          |         |           |         |                          an_mo      \n",
      "   |      |       |       |       |       |      |       |        |        |      |      |         |          |         |           |         |                            |         \n",
      "   |      |       |       |       |       |      |       |      auf_op     |      |      |         |          |         |         zur_mo      |                     Verhandlungstisc\n",
      "   |      |       |       |       |       |      |       |        |        |      |      |         |          |         |           |         |                           h_nk      \n",
      "   |      |       |       |       |       |      |       |        |        |      |      |         |          |         |           |         |                            |         \n",
      "»_punct Ich_sb ,_punct ._punct «_punct dass_cp ich_sb ,_punct   Sie_nk  wenn_cp es_ep ,_punct Russland_oa wieder_mo   zu_pm    Vernunft_nk alle_oa                       den_nk     \n",
      "\n"
     ]
    },
    {
     "data": {
      "text/plain": [
       "[None]"
      ]
     },
     "execution_count": 10,
     "metadata": {},
     "output_type": "execute_result"
    }
   ],
   "source": [
    "sentence = '»Ich weiß, dass ich auf Sie zählen kann, wenn es darum geht, Russland wieder zur Vernunft zu bringen und alle an den Verhandlungstisch zurückzuholen.«'\n",
    "to_nltk_tree(sentence)"
   ]
  },
  {
   "cell_type": "code",
   "execution_count": 11,
   "id": "ecacaa4a",
   "metadata": {},
   "outputs": [
    {
     "name": "stdout",
     "output_type": "stream",
     "text": [
      "                                 ist_ROOT                                                                      \n",
      "    ________________________________|________________________                                                   \n",
      "   |                  |                                  worden_oc                                             \n",
      "   |                  |                                      |                                                  \n",
      "   |                  |                                 empfangen_oc                                           \n",
      "   |                  |                          ____________|________________________________________          \n",
      "   |                  |                         |                        vom_sbp                      |        \n",
      "   |                  |                         |                           |                         |         \n",
      "   |             Präsident_sb                   |                     Staatschef_nk                 mit_mo     \n",
      "   |       ___________|_____________            |             ______________|___________              |         \n",
      "   |      |           |         Macron_nk     in_mo          |                      Jinping_nk     Ehren_nk    \n",
      "   |      |           |             |           |            |                          |             |         \n",
      "._punct Der_nk französische_nk Emmanuel_pnc Peking_nk chinesischen_nk                 Xi_pnc   militärischen_nk\n",
      "\n"
     ]
    },
    {
     "data": {
      "text/plain": [
       "[None]"
      ]
     },
     "execution_count": 11,
     "metadata": {},
     "output_type": "execute_result"
    }
   ],
   "source": [
    "sentence = 'Der französische Präsident Emmanuel Macron ist in Peking vom chinesischen Staatschef Xi Jinping mit militärischen Ehren empfangen worden.'\n",
    "to_nltk_tree(sentence)"
   ]
  },
  {
   "cell_type": "code",
   "execution_count": 12,
   "id": "c2931f0f",
   "metadata": {},
   "outputs": [
    {
     "name": "stdout",
     "output_type": "stream",
     "text": [
      "              begrüßte_ROOT                                        \n",
      "   _________________|_______________________________                \n",
      "  |      |        Vor_mo         |                auf_mo           \n",
      "  |      |          |            |                  |               \n",
      "  |      |    Gesprächen_nk   Gast_oa           Teppich_nk         \n",
      "  |      |          |            |         _________|_________      \n",
      "Xi_sb ._punct gemeinsamen_nk seinen_nk einem_nk            roten_nk\n",
      "\n"
     ]
    },
    {
     "data": {
      "text/plain": [
       "[None]"
      ]
     },
     "execution_count": 12,
     "metadata": {},
     "output_type": "execute_result"
    }
   ],
   "source": [
    "sentence = 'Vor gemeinsamen Gesprächen begrüßte Xi seinen Gast auf einem roten Teppich.'\n",
    "to_nltk_tree(sentence)"
   ]
  },
  {
   "cell_type": "code",
   "execution_count": 13,
   "id": "168e70ea",
   "metadata": {},
   "outputs": [
    {
     "name": "stdout",
     "output_type": "stream",
     "text": [
      "                                sagte_ROOT                                              \n",
      "     _______________________________|_______________________                             \n",
      "    |        |       |      |                             hat_oc                        \n",
      "    |        |       |      |        _______________________|__________                  \n",
      "    |        |       |      |       |            |                versetzt_oc           \n",
      "    |        |       |      |       |            |           __________|___________      \n",
      "    |        |       |    zu_mo     |      Aggression_sb    |    Stabilität_da Schlag_oa\n",
      "    |        |       |      |       |            |          |          |           |     \n",
      "Macron_sb ,_punct ._punct Xi_nk  »_punct       Die_nk    «_punct     der_nk     einen_nk\n",
      "\n"
     ]
    },
    {
     "data": {
      "text/plain": [
       "[None]"
      ]
     },
     "execution_count": 13,
     "metadata": {},
     "output_type": "execute_result"
    }
   ],
   "source": [
    "sentence = 'Macron sagte zu Xi, »Die Aggression hat der Stabilität einen Schlag versetzt«.'\n",
    "to_nltk_tree(sentence)"
   ]
  },
  {
   "cell_type": "code",
   "execution_count": 14,
   "id": "9ef00885",
   "metadata": {},
   "outputs": [
    {
     "name": "stdout",
     "output_type": "stream",
     "text": [
      "                                  sagte_ROOT                                                        \n",
      "    __________________________________|__________________________________________________________    \n",
      "   |        |        |                           hat_oc                                          |  \n",
      "   |        |        |        _____________________|__________________________                   |   \n",
      "   |        |        |       |        |            |                     versetzt_oc             |  \n",
      "   |        |        |       |        |            |              ____________|__________        |   \n",
      "   |        |        |       |        |      Aggression_sb Stabilität_da             Schlag_oa zu_mo\n",
      "   |        |        |       |        |            |             |                       |       |   \n",
      ",_punct Macron_sb ._punct »_punct  «_punct       Die_nk        der_nk                 einen_nk Xi_nk\n",
      "\n"
     ]
    },
    {
     "data": {
      "text/plain": [
       "[None]"
      ]
     },
     "execution_count": 14,
     "metadata": {},
     "output_type": "execute_result"
    }
   ],
   "source": [
    "sentence = '»Die Aggression hat der Stabilität einen Schlag versetzt«, sagte Macron zu Xi.'\n",
    "to_nltk_tree(sentence)"
   ]
  },
  {
   "cell_type": "code",
   "execution_count": 15,
   "id": "0b6897a5",
   "metadata": {},
   "outputs": [
    {
     "name": "stdout",
     "output_type": "stream",
     "text": [
      "                        sagte_ROOT                                                \n",
      "     _______________________|_________                                             \n",
      "    |        |      |              habe_oc                                        \n",
      "    |        |      |        _________|_____________________________________       \n",
      "    |        |      |       |              Aggression_sb               versetzt_oc\n",
      "    |        |      |       |          __________|_____________             |      \n",
      "    |        |    zu_mo     |         |                  Stabilität_ag  Schlag_oa \n",
      "    |        |      |       |         |                        |            |      \n",
      "Macron_sb ._punct Xi_nk  dass_cp    die_nk                   der_nk      einen_nk \n",
      "\n"
     ]
    },
    {
     "data": {
      "text/plain": [
       "[None]"
      ]
     },
     "execution_count": 15,
     "metadata": {},
     "output_type": "execute_result"
    }
   ],
   "source": [
    "sentence = 'Macron sagte zu Xi dass die Aggression der Stabilität einen Schlag versetzt habe.'\n",
    "to_nltk_tree(sentence)"
   ]
  },
  {
   "cell_type": "code",
   "execution_count": 16,
   "id": "ae4b1ce3",
   "metadata": {},
   "outputs": [
    {
     "name": "stdout",
     "output_type": "stream",
     "text": [
      "                                                                                                     hat_haben_ROOT                                                                                                                                                               \n",
      "     ______________________________________________________________________________________________________|________________                                                                                                                                                       \n",
      "    |             |                                                                                                  bestätigt_bestät                                                                                                                                             \n",
      "    |             |                                                                                                      igen_oc                                                                                                                                                  \n",
      "    |             |              ___________________________________________________________________________________________|__________________________                                                                                                                            \n",
      "    |             |             |                                                                                                               kommt_kommen_oc                                                                                                                   \n",
      "    |             |             |            __________________________________________________________________________________________________________|_________________________________________________________________________________________________________________          \n",
      "    |             |             |           |           |                       |                                                                                  zur_zu_mo                                                                                             |        \n",
      "    |             |             |           |           |                       |                                                                       _______________|___________________________________________________________                                      |         \n",
      "    |             |             |           |           |                       |                                                               Krönung_Krönung_                                                                   |                                     |        \n",
      "    |             |             |           |           |                       |                                                                      nk                                                                          |                                     |        \n",
      "    |             |             |           |           |                       |                                                                      |                                                                           |                                     |         \n",
      "    |             |             |           |           |                       |                                                                  von_von_pg                                                                      |                                     |        \n",
      "    |             |             |           |           |                       |                                                                      |                                                                           |                                     |         \n",
      "    |             |             |           |           |                 Prinz_Prinz_sb                                                         König_König_nk                                                                    |                                     |        \n",
      "    |             |             |           |           |                       |                           ___________________________________________|______________________________                                             |                                     |         \n",
      "    |             |             |           |           |                 Harry_Harry_nk                   |                              |                                       und_und_cd                                Königin_Königin_                             |        \n",
      "    |             |             |           |           |                       |                          |                              |                                           |                                            cj                                    |        \n",
      "    |             |             |           |           |                       |                          |                              |                                           |                            ________________|_____________                        |         \n",
      "    |      Palast_Palast_sb     |           |           |                   38_38_par                 III._III._nk                    74_74_par                                Ehefrau_Ehefrau_                   |                          75_75_par              nach_nach_mo  \n",
      "    |             |             |           |           |                       |                          |                              |                                           cj                          |                              |                       |        \n",
      "    |             |             |           |           |           ____________|____________              |                 _____________|____________                 ______________|_____________              |                 _____________|_________              |         \n",
      "._--_punct    Der_der_nk    ,_--_punct dass_dass_cp ,_--_punct (_--_punct                )_--_punct Charles_Charles_    (_--_punct                 )_--_punct    dessen_der_ag                  ,_--_punct Camilla_Camilla_    (_--_punct              )_--_punct London_London_nk\n",
      "                                                                                                          pnc                                                                                                     nk                                                              \n",
      "\n",
      "                                                   wird_werden_ROOT                                                                         \n",
      "    ______________________________________________________|_____________________________                                                     \n",
      "   |         |                           |                                       mitbringen_mitbr                                           \n",
      "   |         |                           |                                           ingen_oc                                               \n",
      "   |         |                           |                                ______________|______________________________                      \n",
      "   |         |                    Ehefrau_Ehefrau_                       |              |                           in_in_mo                \n",
      "   |         |                           sb                              |              |                              |                    \n",
      "   |         |             ______________|________________               |              |                              |                     \n",
      "   |         |            |                           und_und_cd         |              |                       Heimat_Heimat_nk            \n",
      "   |         |            |                               |              |              |                ______________|______________       \n",
      "er_er_sb ._--_punct Seine_sein_nk                   Kinder_Kind_cj  aber_aber_mo  nicht_nicht_ng  seine_sein_nk                  alte_alt_nk\n",
      "\n",
      "                                                                                                                         reisen_reisen_RO                                                                                                                                                                           \n",
      "                                                                                                                                OT                                                                                                                                                                                  \n",
      "      __________________________________________________________________________________________________________________________|__________________________________________________________________________________________________________________________________________________________________________          \n",
      "     |             |            |          |          |          |                                                                                         Herzogin_Herzogi                                                                                                       |                        |        \n",
      "     |             |            |          |          |          |                                                                                               n_sb                                                                                                             |                        |        \n",
      "     |             |            |          |          |          |              __________________________________________________________________________________|_______________________                                                                                        |                        |         \n",
      "     |             |            |          |          |          |             |                        |                                                                           Sohn_Sohn_app                                                                                 |                        |        \n",
      "     |             |            |          |          |          |             |                        |                        _________________________________________________________|____________________________                                                           |                        |         \n",
      "     |             |            |          |          |          |             |                        |                       |                |                             |                                   und_und_cd                                                     |                        |        \n",
      "     |             |            |          |          |          |             |                        |                       |                |                             |                                       |                                                          |                        |         \n",
      "     |             |            |          |          |          |             |                        |                       |                |                             |                                Tochter_Tochter_                                              aus_aus_mo                   |        \n",
      "     |             |            |          |          |          |             |                        |                       |                |                             |                                       cj                                                         |                        |        \n",
      "     |             |            |          |          |          |             |                        |                       |                |                             |                         ______________|_______________________                       ____________|__________              |         \n",
      "     |             |            |          |          |          |             |                    41_41_par                   |                |                          3_3_par                     |              |                    1_1_par                  |                   USA_USA_nk   nach_nach_mo  \n",
      "     |             |            |          |          |          |             |              __________|_________              |                |                 ____________|__________              |              |              _________|________             |                       |             |         \n",
      "Doch_doch_ju warum_warum_mo ,_--_punct ,_--_punct mit_mit_mo ?_--_punct Meghan_Meghan_nk (_--_punct           )_--_punct   sein_sein_nk   Archie_Archie_nk    (_--_punct              )_--_punct  seine_sein_nk Lilibet_Lilibet_ (_--_punct         )_--_punct nicht_nicht_ng            den_der_nk England_England_\n",
      "                                                                                                                                                                                                                       nk                                                                                  nk       \n",
      "\n"
     ]
    },
    {
     "data": {
      "text/plain": [
       "[None, None, '\\xa0_\\xa0_dep', None]"
      ]
     },
     "execution_count": 16,
     "metadata": {},
     "output_type": "execute_result"
    }
   ],
   "source": [
    "paragraph = 'Der Palast hat bestätigt, dass Prinz Harry (38) zur Krönung von König Charles III. (74) und dessen Ehefrau, Königin Camilla (75), nach London kommt. Seine Ehefrau und Kinder wird er aber nicht in seine alte Heimat mitbringen. Doch warum reisen Herzogin Meghan (41), sein Sohn Archie (3) und seine Tochter Lilibet (1), nicht aus den USA mit nach England?'\n",
    "to_nltk_tree(paragraph, lambda x: f\"{x.text}_{x.lemma_}_{x.dep_}\")"
   ]
  },
  {
   "cell_type": "code",
   "execution_count": 17,
   "id": "57bbc41c",
   "metadata": {},
   "outputs": [
    {
     "name": "stdout",
     "output_type": "stream",
     "text": [
      "                            sagte_ROOT                                           \n",
      "    ____________________________|_____________________________________________    \n",
      "   |        |        |                     habe_oc                            |  \n",
      "   |        |        |           _____________|____________                   |   \n",
      "   |        |        |          |                     versetzt_oc             |  \n",
      "   |        |        |          |              ____________|__________        |   \n",
      "   |        |        |    Aggression_sb Stabilität_da             Schlag_oa zu_mo\n",
      "   |        |        |          |             |                       |       |   \n",
      ",_punct Macron_sb ._punct     Die_nk        der_nk                 einen_nk Xi_nk\n",
      "\n"
     ]
    },
    {
     "data": {
      "text/plain": [
       "[None]"
      ]
     },
     "execution_count": 17,
     "metadata": {},
     "output_type": "execute_result"
    }
   ],
   "source": [
    "sentence = 'Die Aggression habe der Stabilität einen Schlag versetzt, sagte Macron zu Xi.'\n",
    "to_nltk_tree(sentence)"
   ]
  },
  {
   "cell_type": "code",
   "execution_count": 18,
   "id": "dd615d4d",
   "metadata": {},
   "outputs": [
    {
     "data": {
      "text/plain": [
       "'subject'"
      ]
     },
     "execution_count": 18,
     "metadata": {},
     "output_type": "execute_result"
    }
   ],
   "source": [
    "spacy.explain('sb')"
   ]
  },
  {
   "cell_type": "code",
   "execution_count": 19,
   "id": "3446c25b",
   "metadata": {},
   "outputs": [],
   "source": [
    "def get_roots(string: str):\n",
    "    return list([sent.root for sent in nlp(string).sents])\n",
    "roots = get_roots(sentence)"
   ]
  },
  {
   "cell_type": "code",
   "execution_count": 20,
   "id": "09b0e2fd",
   "metadata": {},
   "outputs": [
    {
     "data": {
      "text/plain": [
       "['sagen',\n",
       " 'meinen',\n",
       " 'erzählen',\n",
       " 'versichern',\n",
       " 'erklären',\n",
       " 'betonen',\n",
       " 'mitteilen',\n",
       " 'ankündigen']"
      ]
     },
     "execution_count": 20,
     "metadata": {},
     "output_type": "execute_result"
    }
   ],
   "source": [
    "quotation_verbs_raw = 'sagen meinen erzählen versichern erklären betonen mitteilen ankündigen'\n",
    "quotation_verbs_doc = nlp(quotation_verbs_raw)\n",
    "quotation_verbs = list(map( lambda t: t.lemma_, quotation_verbs_doc))\n",
    "quotation_verbs"
   ]
  },
  {
   "cell_type": "code",
   "execution_count": 21,
   "id": "1744a5ff",
   "metadata": {},
   "outputs": [
    {
     "name": "stdout",
     "output_type": "stream",
     "text": [
      "[habe]\n",
      "[Macron]\n"
     ]
    }
   ],
   "source": [
    "from functools import reduce\n",
    "from operator import iconcat\n",
    "from typing import List, Optional\n",
    "\n",
    "def condition(node: Token, dep: str, whitelist: Optional[List[str]] = None) -> bool:\n",
    "    return node.dep_ == dep and (whitelist is None or node.head.lemma_ in whitelist)\n",
    "\n",
    "def get_nearest_tokens_with_dep(node: Token, dep: str, whitelist: Optional[List[str]] = None):\n",
    "    # check current node\n",
    "    if condition(node, dep, whitelist):\n",
    "        return [node]\n",
    "        \n",
    "    # Return immediate childrens co's if available\n",
    "    if dep in map(lambda n: n.dep_, node.children):\n",
    "        return list(filter(lambda n: condition(n, dep, whitelist), node.children))\n",
    "    \n",
    "    # Recursion step (flatten result)\n",
    "    return reduce(iconcat, [get_nearest_tokens_with_dep(n, dep, whitelist) for n in node.children], [])\n",
    "\n",
    "\n",
    "print(get_nearest_tokens_with_dep(roots[0], 'oc', quotation_verbs))\n",
    "print(get_nearest_tokens_with_dep(roots[0], 'sb'))"
   ]
  },
  {
   "cell_type": "code",
   "execution_count": 22,
   "id": "f95e4e09",
   "metadata": {},
   "outputs": [],
   "source": [
    "from functools import reduce\n",
    "from operator import iconcat\n",
    "\n",
    "def flatten_tree(node: Token):\n",
    "    def flatten_tree_(node: Token):\n",
    "        return reduce(iconcat, [flatten_tree_(child) for child in node.children], [node])\n",
    "    return sorted(flatten_tree_(node), key = lambda x: x.i)\n",
    "                  \n",
    "flattened = flatten_tree(roots[0])"
   ]
  },
  {
   "cell_type": "code",
   "execution_count": 23,
   "id": "2ea246ae",
   "metadata": {},
   "outputs": [
    {
     "data": {
      "text/plain": [
       "[Die, Aggression, habe, der, Stabilität, einen, Schlag, versetzt]"
      ]
     },
     "execution_count": 23,
     "metadata": {},
     "output_type": "execute_result"
    }
   ],
   "source": [
    "flatten_tree(get_nearest_tokens_with_dep(roots[0], 'oc')[0])"
   ]
  },
  {
   "cell_type": "code",
   "execution_count": 24,
   "id": "1b6c2b66",
   "metadata": {},
   "outputs": [],
   "source": [
    "def get_text_from_tree(node: Token):\n",
    "    return \"\".join(map(lambda x: x.text_with_ws, flatten_tree(node))).strip()"
   ]
  },
  {
   "cell_type": "code",
   "execution_count": 25,
   "id": "790550d1",
   "metadata": {},
   "outputs": [],
   "source": [
    "from typing import Union\n",
    "\n",
    "def get_subject_node(node: Token) -> Union[Token, None]:\n",
    "    return get_nearest_tokens_with_dep(node, 'sb')[0]\n",
    "\n",
    "def get_quote_node(node: Token) -> Union[Token, None]:\n",
    "    return get_nearest_tokens_with_dep(node, 'oc', quotation_verbs)[0]\n",
    "\n",
    "def get_subject(node: Token) -> Union[str, None]:\n",
    "    return get_text_from_tree(get_subject_node(node))\n",
    "\n",
    "def get_quote(node: Token) -> Union[str, None]:\n",
    "    return get_text_from_tree(get_quote_node(node))\n"
   ]
  },
  {
   "cell_type": "code",
   "execution_count": 26,
   "id": "8d099071",
   "metadata": {},
   "outputs": [
    {
     "data": {
      "text/plain": [
       "'Macron'"
      ]
     },
     "execution_count": 26,
     "metadata": {},
     "output_type": "execute_result"
    }
   ],
   "source": [
    "get_subject(roots[0])"
   ]
  },
  {
   "cell_type": "code",
   "execution_count": 27,
   "id": "7772a0ec",
   "metadata": {},
   "outputs": [],
   "source": [
    "from enum import Enum\n",
    "from dataclasses import dataclass\n",
    "\n",
    "class CitationType(Enum):          \n",
    "    SYNTACTIC = 1\n",
    "    FLOATING = 2\n",
    "\n",
    "@dataclass\n",
    "class Citation:\n",
    "    position_in_text: int\n",
    "    citation: str\n",
    "    subject: str                 # der Bundesrat Berset\n",
    "    citation_verb: str       # sagte, meinte, erklärte\n",
    "    citation_type: CitationType\n",
    "    \n",
    "    def __init__(\n",
    "        self,\n",
    "        position_in_text: int,\n",
    "        citation: str,\n",
    "        subject: str,\n",
    "        citation_verb: str,\n",
    "        citation_type: CitationType\n",
    "    ):\n",
    "        self.position_in_text = position_in_text\n",
    "        self.citation = citation\n",
    "        self.subject = subject\n",
    "        self.citation_verb = citation_verb\n",
    "        self.citation_type = citation_type"
   ]
  },
  {
   "cell_type": "code",
   "execution_count": 28,
   "id": "de1a0205",
   "metadata": {},
   "outputs": [
    {
     "data": {
      "text/plain": [
       "spacy.tokens.token.Token"
      ]
     },
     "execution_count": 28,
     "metadata": {},
     "output_type": "execute_result"
    }
   ],
   "source": [
    "type(roots[0])"
   ]
  },
  {
   "cell_type": "code",
   "execution_count": 29,
   "id": "336a55f0",
   "metadata": {},
   "outputs": [
    {
     "name": "stdout",
     "output_type": "stream",
     "text": [
      "sagte\n"
     ]
    },
    {
     "data": {
      "text/plain": [
       "Citation(position_in_text=58, citation='Die Aggression habe der Stabilität einen Schlag versetzt', subject='Macron', citation_verb='sagte', citation_type=<CitationType.SYNTACTIC: 1>)"
      ]
     },
     "execution_count": 29,
     "metadata": {},
     "output_type": "execute_result"
    }
   ],
   "source": [
    "def get_syntactic_quote(node: Token) -> Citation:\n",
    "    try:\n",
    "        position_in_text = node.idx\n",
    "        subject = get_subject(node)\n",
    "        citation = get_quote(node)\n",
    "        citation_verb = get_quote_node(node).head.text\n",
    "        citation_type = CitationType.SYNTACTIC\n",
    "        print(node.text)\n",
    "\n",
    "        return Citation(position_in_text, citation, subject, citation_verb, citation_type)\n",
    "    except IndexError as e:\n",
    "        return None\n",
    "\n",
    "get_syntactic_quote(roots[0])"
   ]
  },
  {
   "cell_type": "code",
   "execution_count": 30,
   "id": "d078f6dd",
   "metadata": {},
   "outputs": [
    {
     "name": "stdout",
     "output_type": "stream",
     "text": [
      "sagte\n"
     ]
    },
    {
     "data": {
      "text/plain": [
       "[Citation(position_in_text=102, citation='»Die russische Aggression in der Ukraine hat der (internationalen) Stabilität einen Schlag versetzt«', subject='Macron', citation_verb='sagte', citation_type=<CitationType.SYNTACTIC: 1>)]"
      ]
     },
     "execution_count": 30,
     "metadata": {},
     "output_type": "execute_result"
    }
   ],
   "source": [
    "def get_syntactic_quotes_from_str(string: str):\n",
    "    roots = get_roots(string)\n",
    "    quotes = map(lambda r: get_syntactic_quote(r), roots)\n",
    "    return list(filter(lambda x: x is not None, quotes))\n",
    "\n",
    "get_syntactic_quotes_from_str(\"»Die russische Aggression in der Ukraine hat der (internationalen) Stabilität einen Schlag versetzt«, sagte Macron zu Xi.\")"
   ]
  },
  {
   "cell_type": "code",
   "execution_count": 31,
   "id": "a3c8783a",
   "metadata": {},
   "outputs": [
    {
     "name": "stdout",
     "output_type": "stream",
     "text": [
      "sagte\n"
     ]
    },
    {
     "data": {
      "text/plain": [
       "[Citation(position_in_text=103, citation='»Die russische Aggression in der Ukraine hat der (internationalen) Stabilität einen Schlag versetzt«', subject='Macron', citation_verb='sagte', citation_type=<CitationType.SYNTACTIC: 1>)]"
      ]
     },
     "execution_count": 31,
     "metadata": {},
     "output_type": "execute_result"
    }
   ],
   "source": [
    "paragraph = \"\"\"\n",
    "»Die russische Aggression in der Ukraine hat der (internationalen) Stabilität einen Schlag versetzt«, sagte Macron zu Xi. »Ich weiß, dass ich auf Sie zählen kann, wenn es darum geht, Russland wieder zur Vernunft zu bringen und alle an den Verhandlungstisch zurückzuholen.«\n",
    "\"\"\"\n",
    "\n",
    "get_syntactic_quotes_from_str(paragraph)"
   ]
  },
  {
   "cell_type": "code",
   "execution_count": 32,
   "id": "34e21254",
   "metadata": {},
   "outputs": [
    {
     "name": "stdout",
     "output_type": "stream",
     "text": [
      "sagte\n",
      "sagte\n",
      "erklärte\n",
      "sagte\n",
      "betonte\n"
     ]
    },
    {
     "data": {
      "text/plain": [
       "[Citation(position_in_text=225, citation='er wisse, dass er auf China zählen könne, um Russland zur Vernunft zu bringen und alle wieder an den Verhandlungstisch zu bringen', subject='Macron', citation_verb='sagte', citation_type=<CitationType.SYNTACTIC: 1>),\n",
       " Citation(position_in_text=520, citation='»Die russische Aggression in der Ukraine hat der (internationalen) Stabilität einen Schlag versetzt«', subject='Macron', citation_verb='sagte', citation_type=<CitationType.SYNTACTIC: 1>),\n",
       " Citation(position_in_text=964, citation='»Ich bin fest davon überzeugt, dass China eine wichtige Rolle bei der Schaffung von Frieden spielt«', subject='Macron', citation_verb='erklärte', citation_type=<CitationType.SYNTACTIC: 1>),\n",
       " Citation(position_in_text=1200, citation='China sei von »großer Bedeutung für Europa«', subject='China', citation_verb='sagte', citation_type=<CitationType.SYNTACTIC: 1>),\n",
       " Citation(position_in_text=1596, citation='welchen Einfluss der Ukraine-Krieg auf die Sicherheit und das globale strategische Gleichgewicht habe', subject='Macron', citation_verb='betonte', citation_type=<CitationType.SYNTACTIC: 1>)]"
      ]
     },
     "execution_count": 32,
     "metadata": {},
     "output_type": "execute_result"
    }
   ],
   "source": [
    "article = \"\"\"\n",
    "\n",
    "\n",
    "Der französische Präsident Emmanuel Macron ist in Peking vom chinesischen Staatschef Xi Jinping mit militärischen Ehren empfangen worden. Vor gemeinsamen Gesprächen begrüßte Xi seinen Gast auf einem roten Teppich.\n",
    "\n",
    "Macron sagte dem chinesischen Präsidenten Xi Jinping am Donnerstag, er wisse, dass er auf China zählen könne, um Russland zur Vernunft zu bringen und alle wieder an den Verhandlungstisch zu bringen.\n",
    "\n",
    "»Die russische Aggression in der Ukraine hat der (internationalen) Stabilität einen Schlag versetzt«, sagte Macron zu Xi. »Ich weiß, dass ich auf Sie zählen kann, wenn es darum geht, Russland wieder zur Vernunft zu bringen und alle an den Verhandlungstisch zurückzuholen.«\n",
    "\n",
    "Nach dem bilateralen Treffen zwischen Macron und Xi steht eine Dreierrunde mit EU-Kommissionschefin Ursula von der Leyen an. Darin soll es etwa um den Ukrainekrieg gehen. »Ich bin fest davon überzeugt, dass China eine wichtige Rolle bei der Schaffung von Frieden spielt«, erklärte Macron bei Twitter. Er wolle das bei seinen Gesprächen »diskutieren und vorantreiben«.\n",
    "\n",
    "Auch wird erwartet, dass wirtschaftliche Themen zwischen China und der EU zur Sprache kommen. China sei von »großer Bedeutung für Europa«, sagte von der Leyen bei einem Gespräch mit dem chinesischen Ministerpräsidenten Li Qiang. Es gebe gegenseitige Abhängigkeiten und eine lange gemeinsame Geschichte, sagte von der Leyen. Zwar hätten China und die EU stark von ihrer gewachsenen Kooperation profitiert, doch seien die Beziehungen in den vergangenen Jahren »komplexer« geworden.\n",
    "\n",
    "Bei einer Begegnung mit Parlamentspräsident Zhao Leji betonte Macron auch, welchen Einfluss der Ukraine-Krieg auf die Sicherheit und das globale strategische Gleichgewicht habe. Außerdem sei es wichtig, dass China internationale Abkommen rasch ratifiziere – etwa eines zur Biodiversität in der Hochsee, die Uno-Konvention zur juristischen Immunität von Staaten und ihren Gütern sowie die Uno-Konvention zu Bürgerrechten und politischen Rechten, teilte der Élysée-Palast mit.\n",
    "\n",
    "\"\"\"\n",
    "\n",
    "get_syntactic_quotes_from_str(article)"
   ]
  },
  {
   "cell_type": "code",
   "execution_count": 33,
   "id": "b16acb2f",
   "metadata": {},
   "outputs": [
    {
     "name": "stdout",
     "output_type": "stream",
     "text": [
      "sagte\n"
     ]
    },
    {
     "data": {
      "text/plain": [
       "[Citation(position_in_text=45, citation='China sei von »großer Bedeutung für Europa«', subject='China', citation_verb='sagte', citation_type=<CitationType.SYNTACTIC: 1>)]"
      ]
     },
     "execution_count": 33,
     "metadata": {},
     "output_type": "execute_result"
    }
   ],
   "source": [
    "sentence = \"China sei von »großer Bedeutung für Europa«, sagte von der Leyen bei einem Gespräch mit dem chinesischen Ministerpräsidenten Li Qiang.\"\n",
    "get_syntactic_quotes_from_str(sentence)"
   ]
  },
  {
   "cell_type": "code",
   "execution_count": 34,
   "id": "3849033d",
   "metadata": {},
   "outputs": [
    {
     "name": "stdout",
     "output_type": "stream",
     "text": [
      "                                          sagte_ROOT                                                                          \n",
      "    __________________________________________|_______________________________________________                                 \n",
      "   |       |                        |                              |                        bei_mo                            \n",
      "   |       |                        |                              |                          |                                \n",
      "   |       |                      sei_oc                           |                     Gespräch_nk                          \n",
      "   |       |        ________________|_________                     |         _________________|_____________                   \n",
      "   |       |       |        |               von_mo                 |        |                             mit_op              \n",
      "   |       |       |        |                 |                    |        |                               |                  \n",
      "   |       |       |        |            Bedeutung_nk            von_mo     |                        Ministerpräsiden         \n",
      "   |       |       |        |                 |                    |        |                             ten_nk              \n",
      "   |       |       |        |        _________|___________         |        |        _______________________|____________      \n",
      "   |       |       |        |       |         |        für_mnr  Leyen_nk    |       |                       |         Qiang_nk\n",
      "   |       |       |        |       |         |           |        |        |       |                       |            |     \n",
      ",_punct ._punct China_sb «_punct »_punct  großer_nk   Europa_nk  der_nk  einem_nk dem_nk             chinesischen_nk   Li_pnc \n",
      "\n"
     ]
    },
    {
     "data": {
      "text/plain": [
       "[None]"
      ]
     },
     "execution_count": 34,
     "metadata": {},
     "output_type": "execute_result"
    }
   ],
   "source": [
    "to_nltk_tree(sentence)"
   ]
  },
  {
   "cell_type": "code",
   "execution_count": 35,
   "id": "41428d62",
   "metadata": {},
   "outputs": [
    {
     "data": {
      "text/plain": [
       "'noun kernel element'"
      ]
     },
     "execution_count": 35,
     "metadata": {},
     "output_type": "execute_result"
    }
   ],
   "source": [
    "spacy.explain(\"nk\")"
   ]
  },
  {
   "cell_type": "code",
   "execution_count": 36,
   "id": "15dc1061",
   "metadata": {},
   "outputs": [
    {
     "data": {
      "text/plain": [
       "'modifier'"
      ]
     },
     "execution_count": 36,
     "metadata": {},
     "output_type": "execute_result"
    }
   ],
   "source": [
    "spacy.explain(\"mo\")"
   ]
  },
  {
   "cell_type": "code",
   "execution_count": 37,
   "id": "e5021198",
   "metadata": {},
   "outputs": [
    {
     "data": {
      "text/html": [
       "<span class=\"tex2jax_ignore\"><svg xmlns=\"http://www.w3.org/2000/svg\" xmlns:xlink=\"http://www.w3.org/1999/xlink\" xml:lang=\"de\" id=\"8857ddf8e0f94436b308e7ae4d899375-0\" class=\"displacy\" width=\"3050\" height=\"362.0\" direction=\"ltr\" style=\"max-width: none; height: 362.0px; color: #000000; background: #ffffff; font-family: Arial; direction: ltr\">\n",
       "<text class=\"displacy-token\" fill=\"currentColor\" text-anchor=\"middle\" y=\"272.0\">\n",
       "    <tspan class=\"displacy-word\" fill=\"currentColor\" x=\"50\">China</tspan>\n",
       "    <tspan class=\"displacy-tag\" dy=\"2em\" fill=\"currentColor\" x=\"50\">PROPN</tspan>\n",
       "</text>\n",
       "\n",
       "<text class=\"displacy-token\" fill=\"currentColor\" text-anchor=\"middle\" y=\"272.0\">\n",
       "    <tspan class=\"displacy-word\" fill=\"currentColor\" x=\"200\">sei</tspan>\n",
       "    <tspan class=\"displacy-tag\" dy=\"2em\" fill=\"currentColor\" x=\"200\">AUX</tspan>\n",
       "</text>\n",
       "\n",
       "<text class=\"displacy-token\" fill=\"currentColor\" text-anchor=\"middle\" y=\"272.0\">\n",
       "    <tspan class=\"displacy-word\" fill=\"currentColor\" x=\"350\">von »</tspan>\n",
       "    <tspan class=\"displacy-tag\" dy=\"2em\" fill=\"currentColor\" x=\"350\">ADP</tspan>\n",
       "</text>\n",
       "\n",
       "<text class=\"displacy-token\" fill=\"currentColor\" text-anchor=\"middle\" y=\"272.0\">\n",
       "    <tspan class=\"displacy-word\" fill=\"currentColor\" x=\"500\">großer</tspan>\n",
       "    <tspan class=\"displacy-tag\" dy=\"2em\" fill=\"currentColor\" x=\"500\">ADJ</tspan>\n",
       "</text>\n",
       "\n",
       "<text class=\"displacy-token\" fill=\"currentColor\" text-anchor=\"middle\" y=\"272.0\">\n",
       "    <tspan class=\"displacy-word\" fill=\"currentColor\" x=\"650\">Bedeutung</tspan>\n",
       "    <tspan class=\"displacy-tag\" dy=\"2em\" fill=\"currentColor\" x=\"650\">NOUN</tspan>\n",
       "</text>\n",
       "\n",
       "<text class=\"displacy-token\" fill=\"currentColor\" text-anchor=\"middle\" y=\"272.0\">\n",
       "    <tspan class=\"displacy-word\" fill=\"currentColor\" x=\"800\">für</tspan>\n",
       "    <tspan class=\"displacy-tag\" dy=\"2em\" fill=\"currentColor\" x=\"800\">ADP</tspan>\n",
       "</text>\n",
       "\n",
       "<text class=\"displacy-token\" fill=\"currentColor\" text-anchor=\"middle\" y=\"272.0\">\n",
       "    <tspan class=\"displacy-word\" fill=\"currentColor\" x=\"950\">Europa«,</tspan>\n",
       "    <tspan class=\"displacy-tag\" dy=\"2em\" fill=\"currentColor\" x=\"950\">PROPN</tspan>\n",
       "</text>\n",
       "\n",
       "<text class=\"displacy-token\" fill=\"currentColor\" text-anchor=\"middle\" y=\"272.0\">\n",
       "    <tspan class=\"displacy-word\" fill=\"currentColor\" x=\"1100\">sagte</tspan>\n",
       "    <tspan class=\"displacy-tag\" dy=\"2em\" fill=\"currentColor\" x=\"1100\">VERB</tspan>\n",
       "</text>\n",
       "\n",
       "<text class=\"displacy-token\" fill=\"currentColor\" text-anchor=\"middle\" y=\"272.0\">\n",
       "    <tspan class=\"displacy-word\" fill=\"currentColor\" x=\"1250\">von</tspan>\n",
       "    <tspan class=\"displacy-tag\" dy=\"2em\" fill=\"currentColor\" x=\"1250\">ADP</tspan>\n",
       "</text>\n",
       "\n",
       "<text class=\"displacy-token\" fill=\"currentColor\" text-anchor=\"middle\" y=\"272.0\">\n",
       "    <tspan class=\"displacy-word\" fill=\"currentColor\" x=\"1400\">der</tspan>\n",
       "    <tspan class=\"displacy-tag\" dy=\"2em\" fill=\"currentColor\" x=\"1400\">DET</tspan>\n",
       "</text>\n",
       "\n",
       "<text class=\"displacy-token\" fill=\"currentColor\" text-anchor=\"middle\" y=\"272.0\">\n",
       "    <tspan class=\"displacy-word\" fill=\"currentColor\" x=\"1550\">Leyen</tspan>\n",
       "    <tspan class=\"displacy-tag\" dy=\"2em\" fill=\"currentColor\" x=\"1550\">PROPN</tspan>\n",
       "</text>\n",
       "\n",
       "<text class=\"displacy-token\" fill=\"currentColor\" text-anchor=\"middle\" y=\"272.0\">\n",
       "    <tspan class=\"displacy-word\" fill=\"currentColor\" x=\"1700\">bei</tspan>\n",
       "    <tspan class=\"displacy-tag\" dy=\"2em\" fill=\"currentColor\" x=\"1700\">ADP</tspan>\n",
       "</text>\n",
       "\n",
       "<text class=\"displacy-token\" fill=\"currentColor\" text-anchor=\"middle\" y=\"272.0\">\n",
       "    <tspan class=\"displacy-word\" fill=\"currentColor\" x=\"1850\">einem</tspan>\n",
       "    <tspan class=\"displacy-tag\" dy=\"2em\" fill=\"currentColor\" x=\"1850\">DET</tspan>\n",
       "</text>\n",
       "\n",
       "<text class=\"displacy-token\" fill=\"currentColor\" text-anchor=\"middle\" y=\"272.0\">\n",
       "    <tspan class=\"displacy-word\" fill=\"currentColor\" x=\"2000\">Gespräch</tspan>\n",
       "    <tspan class=\"displacy-tag\" dy=\"2em\" fill=\"currentColor\" x=\"2000\">NOUN</tspan>\n",
       "</text>\n",
       "\n",
       "<text class=\"displacy-token\" fill=\"currentColor\" text-anchor=\"middle\" y=\"272.0\">\n",
       "    <tspan class=\"displacy-word\" fill=\"currentColor\" x=\"2150\">mit</tspan>\n",
       "    <tspan class=\"displacy-tag\" dy=\"2em\" fill=\"currentColor\" x=\"2150\">ADP</tspan>\n",
       "</text>\n",
       "\n",
       "<text class=\"displacy-token\" fill=\"currentColor\" text-anchor=\"middle\" y=\"272.0\">\n",
       "    <tspan class=\"displacy-word\" fill=\"currentColor\" x=\"2300\">dem</tspan>\n",
       "    <tspan class=\"displacy-tag\" dy=\"2em\" fill=\"currentColor\" x=\"2300\">DET</tspan>\n",
       "</text>\n",
       "\n",
       "<text class=\"displacy-token\" fill=\"currentColor\" text-anchor=\"middle\" y=\"272.0\">\n",
       "    <tspan class=\"displacy-word\" fill=\"currentColor\" x=\"2450\">chinesischen</tspan>\n",
       "    <tspan class=\"displacy-tag\" dy=\"2em\" fill=\"currentColor\" x=\"2450\">ADJ</tspan>\n",
       "</text>\n",
       "\n",
       "<text class=\"displacy-token\" fill=\"currentColor\" text-anchor=\"middle\" y=\"272.0\">\n",
       "    <tspan class=\"displacy-word\" fill=\"currentColor\" x=\"2600\">Ministerpräsidenten</tspan>\n",
       "    <tspan class=\"displacy-tag\" dy=\"2em\" fill=\"currentColor\" x=\"2600\">NOUN</tspan>\n",
       "</text>\n",
       "\n",
       "<text class=\"displacy-token\" fill=\"currentColor\" text-anchor=\"middle\" y=\"272.0\">\n",
       "    <tspan class=\"displacy-word\" fill=\"currentColor\" x=\"2750\">Li</tspan>\n",
       "    <tspan class=\"displacy-tag\" dy=\"2em\" fill=\"currentColor\" x=\"2750\">PROPN</tspan>\n",
       "</text>\n",
       "\n",
       "<text class=\"displacy-token\" fill=\"currentColor\" text-anchor=\"middle\" y=\"272.0\">\n",
       "    <tspan class=\"displacy-word\" fill=\"currentColor\" x=\"2900\">Qiang.</tspan>\n",
       "    <tspan class=\"displacy-tag\" dy=\"2em\" fill=\"currentColor\" x=\"2900\">PROPN</tspan>\n",
       "</text>\n",
       "\n",
       "<g class=\"displacy-arrow\">\n",
       "    <path class=\"displacy-arc\" id=\"arrow-8857ddf8e0f94436b308e7ae4d899375-0-0\" stroke-width=\"2px\" d=\"M62,227.0 62,202.0 194.0,202.0 194.0,227.0\" fill=\"none\" stroke=\"currentColor\"/>\n",
       "    <text dy=\"1.25em\" style=\"font-size: 0.8em; letter-spacing: 1px\">\n",
       "        <textPath xlink:href=\"#arrow-8857ddf8e0f94436b308e7ae4d899375-0-0\" class=\"displacy-label\" startOffset=\"50%\" side=\"left\" fill=\"currentColor\" text-anchor=\"middle\">sb</textPath>\n",
       "    </text>\n",
       "    <path class=\"displacy-arrowhead\" d=\"M62,229.0 L58,221.0 66,221.0\" fill=\"currentColor\"/>\n",
       "</g>\n",
       "\n",
       "<g class=\"displacy-arrow\">\n",
       "    <path class=\"displacy-arc\" id=\"arrow-8857ddf8e0f94436b308e7ae4d899375-0-1\" stroke-width=\"2px\" d=\"M212,227.0 212,152.0 1100.0,152.0 1100.0,227.0\" fill=\"none\" stroke=\"currentColor\"/>\n",
       "    <text dy=\"1.25em\" style=\"font-size: 0.8em; letter-spacing: 1px\">\n",
       "        <textPath xlink:href=\"#arrow-8857ddf8e0f94436b308e7ae4d899375-0-1\" class=\"displacy-label\" startOffset=\"50%\" side=\"left\" fill=\"currentColor\" text-anchor=\"middle\">oc</textPath>\n",
       "    </text>\n",
       "    <path class=\"displacy-arrowhead\" d=\"M212,229.0 L208,221.0 216,221.0\" fill=\"currentColor\"/>\n",
       "</g>\n",
       "\n",
       "<g class=\"displacy-arrow\">\n",
       "    <path class=\"displacy-arc\" id=\"arrow-8857ddf8e0f94436b308e7ae4d899375-0-2\" stroke-width=\"2px\" d=\"M212,227.0 212,202.0 344.0,202.0 344.0,227.0\" fill=\"none\" stroke=\"currentColor\"/>\n",
       "    <text dy=\"1.25em\" style=\"font-size: 0.8em; letter-spacing: 1px\">\n",
       "        <textPath xlink:href=\"#arrow-8857ddf8e0f94436b308e7ae4d899375-0-2\" class=\"displacy-label\" startOffset=\"50%\" side=\"left\" fill=\"currentColor\" text-anchor=\"middle\">mo</textPath>\n",
       "    </text>\n",
       "    <path class=\"displacy-arrowhead\" d=\"M344.0,229.0 L348.0,221.0 340.0,221.0\" fill=\"currentColor\"/>\n",
       "</g>\n",
       "\n",
       "<g class=\"displacy-arrow\">\n",
       "    <path class=\"displacy-arc\" id=\"arrow-8857ddf8e0f94436b308e7ae4d899375-0-3\" stroke-width=\"2px\" d=\"M512,227.0 512,202.0 644.0,202.0 644.0,227.0\" fill=\"none\" stroke=\"currentColor\"/>\n",
       "    <text dy=\"1.25em\" style=\"font-size: 0.8em; letter-spacing: 1px\">\n",
       "        <textPath xlink:href=\"#arrow-8857ddf8e0f94436b308e7ae4d899375-0-3\" class=\"displacy-label\" startOffset=\"50%\" side=\"left\" fill=\"currentColor\" text-anchor=\"middle\">nk</textPath>\n",
       "    </text>\n",
       "    <path class=\"displacy-arrowhead\" d=\"M512,229.0 L508,221.0 516,221.0\" fill=\"currentColor\"/>\n",
       "</g>\n",
       "\n",
       "<g class=\"displacy-arrow\">\n",
       "    <path class=\"displacy-arc\" id=\"arrow-8857ddf8e0f94436b308e7ae4d899375-0-4\" stroke-width=\"2px\" d=\"M362,227.0 362,177.0 647.0,177.0 647.0,227.0\" fill=\"none\" stroke=\"currentColor\"/>\n",
       "    <text dy=\"1.25em\" style=\"font-size: 0.8em; letter-spacing: 1px\">\n",
       "        <textPath xlink:href=\"#arrow-8857ddf8e0f94436b308e7ae4d899375-0-4\" class=\"displacy-label\" startOffset=\"50%\" side=\"left\" fill=\"currentColor\" text-anchor=\"middle\">nk</textPath>\n",
       "    </text>\n",
       "    <path class=\"displacy-arrowhead\" d=\"M647.0,229.0 L651.0,221.0 643.0,221.0\" fill=\"currentColor\"/>\n",
       "</g>\n",
       "\n",
       "<g class=\"displacy-arrow\">\n",
       "    <path class=\"displacy-arc\" id=\"arrow-8857ddf8e0f94436b308e7ae4d899375-0-5\" stroke-width=\"2px\" d=\"M662,227.0 662,202.0 794.0,202.0 794.0,227.0\" fill=\"none\" stroke=\"currentColor\"/>\n",
       "    <text dy=\"1.25em\" style=\"font-size: 0.8em; letter-spacing: 1px\">\n",
       "        <textPath xlink:href=\"#arrow-8857ddf8e0f94436b308e7ae4d899375-0-5\" class=\"displacy-label\" startOffset=\"50%\" side=\"left\" fill=\"currentColor\" text-anchor=\"middle\">mnr</textPath>\n",
       "    </text>\n",
       "    <path class=\"displacy-arrowhead\" d=\"M794.0,229.0 L798.0,221.0 790.0,221.0\" fill=\"currentColor\"/>\n",
       "</g>\n",
       "\n",
       "<g class=\"displacy-arrow\">\n",
       "    <path class=\"displacy-arc\" id=\"arrow-8857ddf8e0f94436b308e7ae4d899375-0-6\" stroke-width=\"2px\" d=\"M812,227.0 812,202.0 944.0,202.0 944.0,227.0\" fill=\"none\" stroke=\"currentColor\"/>\n",
       "    <text dy=\"1.25em\" style=\"font-size: 0.8em; letter-spacing: 1px\">\n",
       "        <textPath xlink:href=\"#arrow-8857ddf8e0f94436b308e7ae4d899375-0-6\" class=\"displacy-label\" startOffset=\"50%\" side=\"left\" fill=\"currentColor\" text-anchor=\"middle\">nk</textPath>\n",
       "    </text>\n",
       "    <path class=\"displacy-arrowhead\" d=\"M944.0,229.0 L948.0,221.0 940.0,221.0\" fill=\"currentColor\"/>\n",
       "</g>\n",
       "\n",
       "<g class=\"displacy-arrow\">\n",
       "    <path class=\"displacy-arc\" id=\"arrow-8857ddf8e0f94436b308e7ae4d899375-0-7\" stroke-width=\"2px\" d=\"M1112,227.0 1112,202.0 1244.0,202.0 1244.0,227.0\" fill=\"none\" stroke=\"currentColor\"/>\n",
       "    <text dy=\"1.25em\" style=\"font-size: 0.8em; letter-spacing: 1px\">\n",
       "        <textPath xlink:href=\"#arrow-8857ddf8e0f94436b308e7ae4d899375-0-7\" class=\"displacy-label\" startOffset=\"50%\" side=\"left\" fill=\"currentColor\" text-anchor=\"middle\">mo</textPath>\n",
       "    </text>\n",
       "    <path class=\"displacy-arrowhead\" d=\"M1244.0,229.0 L1248.0,221.0 1240.0,221.0\" fill=\"currentColor\"/>\n",
       "</g>\n",
       "\n",
       "<g class=\"displacy-arrow\">\n",
       "    <path class=\"displacy-arc\" id=\"arrow-8857ddf8e0f94436b308e7ae4d899375-0-8\" stroke-width=\"2px\" d=\"M1412,227.0 1412,202.0 1544.0,202.0 1544.0,227.0\" fill=\"none\" stroke=\"currentColor\"/>\n",
       "    <text dy=\"1.25em\" style=\"font-size: 0.8em; letter-spacing: 1px\">\n",
       "        <textPath xlink:href=\"#arrow-8857ddf8e0f94436b308e7ae4d899375-0-8\" class=\"displacy-label\" startOffset=\"50%\" side=\"left\" fill=\"currentColor\" text-anchor=\"middle\">nk</textPath>\n",
       "    </text>\n",
       "    <path class=\"displacy-arrowhead\" d=\"M1412,229.0 L1408,221.0 1416,221.0\" fill=\"currentColor\"/>\n",
       "</g>\n",
       "\n",
       "<g class=\"displacy-arrow\">\n",
       "    <path class=\"displacy-arc\" id=\"arrow-8857ddf8e0f94436b308e7ae4d899375-0-9\" stroke-width=\"2px\" d=\"M1262,227.0 1262,177.0 1547.0,177.0 1547.0,227.0\" fill=\"none\" stroke=\"currentColor\"/>\n",
       "    <text dy=\"1.25em\" style=\"font-size: 0.8em; letter-spacing: 1px\">\n",
       "        <textPath xlink:href=\"#arrow-8857ddf8e0f94436b308e7ae4d899375-0-9\" class=\"displacy-label\" startOffset=\"50%\" side=\"left\" fill=\"currentColor\" text-anchor=\"middle\">nk</textPath>\n",
       "    </text>\n",
       "    <path class=\"displacy-arrowhead\" d=\"M1547.0,229.0 L1551.0,221.0 1543.0,221.0\" fill=\"currentColor\"/>\n",
       "</g>\n",
       "\n",
       "<g class=\"displacy-arrow\">\n",
       "    <path class=\"displacy-arc\" id=\"arrow-8857ddf8e0f94436b308e7ae4d899375-0-10\" stroke-width=\"2px\" d=\"M1112,227.0 1112,152.0 1700.0,152.0 1700.0,227.0\" fill=\"none\" stroke=\"currentColor\"/>\n",
       "    <text dy=\"1.25em\" style=\"font-size: 0.8em; letter-spacing: 1px\">\n",
       "        <textPath xlink:href=\"#arrow-8857ddf8e0f94436b308e7ae4d899375-0-10\" class=\"displacy-label\" startOffset=\"50%\" side=\"left\" fill=\"currentColor\" text-anchor=\"middle\">mo</textPath>\n",
       "    </text>\n",
       "    <path class=\"displacy-arrowhead\" d=\"M1700.0,229.0 L1704.0,221.0 1696.0,221.0\" fill=\"currentColor\"/>\n",
       "</g>\n",
       "\n",
       "<g class=\"displacy-arrow\">\n",
       "    <path class=\"displacy-arc\" id=\"arrow-8857ddf8e0f94436b308e7ae4d899375-0-11\" stroke-width=\"2px\" d=\"M1862,227.0 1862,202.0 1994.0,202.0 1994.0,227.0\" fill=\"none\" stroke=\"currentColor\"/>\n",
       "    <text dy=\"1.25em\" style=\"font-size: 0.8em; letter-spacing: 1px\">\n",
       "        <textPath xlink:href=\"#arrow-8857ddf8e0f94436b308e7ae4d899375-0-11\" class=\"displacy-label\" startOffset=\"50%\" side=\"left\" fill=\"currentColor\" text-anchor=\"middle\">nk</textPath>\n",
       "    </text>\n",
       "    <path class=\"displacy-arrowhead\" d=\"M1862,229.0 L1858,221.0 1866,221.0\" fill=\"currentColor\"/>\n",
       "</g>\n",
       "\n",
       "<g class=\"displacy-arrow\">\n",
       "    <path class=\"displacy-arc\" id=\"arrow-8857ddf8e0f94436b308e7ae4d899375-0-12\" stroke-width=\"2px\" d=\"M1712,227.0 1712,177.0 1997.0,177.0 1997.0,227.0\" fill=\"none\" stroke=\"currentColor\"/>\n",
       "    <text dy=\"1.25em\" style=\"font-size: 0.8em; letter-spacing: 1px\">\n",
       "        <textPath xlink:href=\"#arrow-8857ddf8e0f94436b308e7ae4d899375-0-12\" class=\"displacy-label\" startOffset=\"50%\" side=\"left\" fill=\"currentColor\" text-anchor=\"middle\">nk</textPath>\n",
       "    </text>\n",
       "    <path class=\"displacy-arrowhead\" d=\"M1997.0,229.0 L2001.0,221.0 1993.0,221.0\" fill=\"currentColor\"/>\n",
       "</g>\n",
       "\n",
       "<g class=\"displacy-arrow\">\n",
       "    <path class=\"displacy-arc\" id=\"arrow-8857ddf8e0f94436b308e7ae4d899375-0-13\" stroke-width=\"2px\" d=\"M2012,227.0 2012,202.0 2144.0,202.0 2144.0,227.0\" fill=\"none\" stroke=\"currentColor\"/>\n",
       "    <text dy=\"1.25em\" style=\"font-size: 0.8em; letter-spacing: 1px\">\n",
       "        <textPath xlink:href=\"#arrow-8857ddf8e0f94436b308e7ae4d899375-0-13\" class=\"displacy-label\" startOffset=\"50%\" side=\"left\" fill=\"currentColor\" text-anchor=\"middle\">op</textPath>\n",
       "    </text>\n",
       "    <path class=\"displacy-arrowhead\" d=\"M2144.0,229.0 L2148.0,221.0 2140.0,221.0\" fill=\"currentColor\"/>\n",
       "</g>\n",
       "\n",
       "<g class=\"displacy-arrow\">\n",
       "    <path class=\"displacy-arc\" id=\"arrow-8857ddf8e0f94436b308e7ae4d899375-0-14\" stroke-width=\"2px\" d=\"M2312,227.0 2312,177.0 2597.0,177.0 2597.0,227.0\" fill=\"none\" stroke=\"currentColor\"/>\n",
       "    <text dy=\"1.25em\" style=\"font-size: 0.8em; letter-spacing: 1px\">\n",
       "        <textPath xlink:href=\"#arrow-8857ddf8e0f94436b308e7ae4d899375-0-14\" class=\"displacy-label\" startOffset=\"50%\" side=\"left\" fill=\"currentColor\" text-anchor=\"middle\">nk</textPath>\n",
       "    </text>\n",
       "    <path class=\"displacy-arrowhead\" d=\"M2312,229.0 L2308,221.0 2316,221.0\" fill=\"currentColor\"/>\n",
       "</g>\n",
       "\n",
       "<g class=\"displacy-arrow\">\n",
       "    <path class=\"displacy-arc\" id=\"arrow-8857ddf8e0f94436b308e7ae4d899375-0-15\" stroke-width=\"2px\" d=\"M2462,227.0 2462,202.0 2594.0,202.0 2594.0,227.0\" fill=\"none\" stroke=\"currentColor\"/>\n",
       "    <text dy=\"1.25em\" style=\"font-size: 0.8em; letter-spacing: 1px\">\n",
       "        <textPath xlink:href=\"#arrow-8857ddf8e0f94436b308e7ae4d899375-0-15\" class=\"displacy-label\" startOffset=\"50%\" side=\"left\" fill=\"currentColor\" text-anchor=\"middle\">nk</textPath>\n",
       "    </text>\n",
       "    <path class=\"displacy-arrowhead\" d=\"M2462,229.0 L2458,221.0 2466,221.0\" fill=\"currentColor\"/>\n",
       "</g>\n",
       "\n",
       "<g class=\"displacy-arrow\">\n",
       "    <path class=\"displacy-arc\" id=\"arrow-8857ddf8e0f94436b308e7ae4d899375-0-16\" stroke-width=\"2px\" d=\"M2162,227.0 2162,152.0 2600.0,152.0 2600.0,227.0\" fill=\"none\" stroke=\"currentColor\"/>\n",
       "    <text dy=\"1.25em\" style=\"font-size: 0.8em; letter-spacing: 1px\">\n",
       "        <textPath xlink:href=\"#arrow-8857ddf8e0f94436b308e7ae4d899375-0-16\" class=\"displacy-label\" startOffset=\"50%\" side=\"left\" fill=\"currentColor\" text-anchor=\"middle\">nk</textPath>\n",
       "    </text>\n",
       "    <path class=\"displacy-arrowhead\" d=\"M2600.0,229.0 L2604.0,221.0 2596.0,221.0\" fill=\"currentColor\"/>\n",
       "</g>\n",
       "\n",
       "<g class=\"displacy-arrow\">\n",
       "    <path class=\"displacy-arc\" id=\"arrow-8857ddf8e0f94436b308e7ae4d899375-0-17\" stroke-width=\"2px\" d=\"M2762,227.0 2762,202.0 2894.0,202.0 2894.0,227.0\" fill=\"none\" stroke=\"currentColor\"/>\n",
       "    <text dy=\"1.25em\" style=\"font-size: 0.8em; letter-spacing: 1px\">\n",
       "        <textPath xlink:href=\"#arrow-8857ddf8e0f94436b308e7ae4d899375-0-17\" class=\"displacy-label\" startOffset=\"50%\" side=\"left\" fill=\"currentColor\" text-anchor=\"middle\">pnc</textPath>\n",
       "    </text>\n",
       "    <path class=\"displacy-arrowhead\" d=\"M2762,229.0 L2758,221.0 2766,221.0\" fill=\"currentColor\"/>\n",
       "</g>\n",
       "\n",
       "<g class=\"displacy-arrow\">\n",
       "    <path class=\"displacy-arc\" id=\"arrow-8857ddf8e0f94436b308e7ae4d899375-0-18\" stroke-width=\"2px\" d=\"M2612,227.0 2612,177.0 2897.0,177.0 2897.0,227.0\" fill=\"none\" stroke=\"currentColor\"/>\n",
       "    <text dy=\"1.25em\" style=\"font-size: 0.8em; letter-spacing: 1px\">\n",
       "        <textPath xlink:href=\"#arrow-8857ddf8e0f94436b308e7ae4d899375-0-18\" class=\"displacy-label\" startOffset=\"50%\" side=\"left\" fill=\"currentColor\" text-anchor=\"middle\">nk</textPath>\n",
       "    </text>\n",
       "    <path class=\"displacy-arrowhead\" d=\"M2897.0,229.0 L2901.0,221.0 2893.0,221.0\" fill=\"currentColor\"/>\n",
       "</g>\n",
       "</svg></span>"
      ],
      "text/plain": [
       "<IPython.core.display.HTML object>"
      ]
     },
     "metadata": {},
     "output_type": "display_data"
    }
   ],
   "source": [
    "print_dependency_diagram(sentence)"
   ]
  },
  {
   "cell_type": "code",
   "execution_count": 38,
   "id": "cf49ba3a",
   "metadata": {},
   "outputs": [
    {
     "name": "stdout",
     "output_type": "stream",
     "text": [
      "sagte\n"
     ]
    },
    {
     "data": {
      "text/plain": [
       "[Citation(position_in_text=339, citation='»Die Verteidigung und der Schutz unseres Volkes, die Unterstützung unserer Widerstandsfähigkeit, insbesondere unserer Soldaten, ist das Thema Nummer eins bei allen Verhandlungen und Treffen«', subject='Selenskyj', citation_verb='sagte', citation_type=<CitationType.SYNTACTIC: 1>)]"
      ]
     },
     "execution_count": 38,
     "metadata": {},
     "output_type": "execute_result"
    }
   ],
   "source": [
    "paragraphs = \"\"\"\n",
    "Präsident Wolodymyr Selenskyj hat nach seinem Besuch in Warschau betont, wie wichtig solche Zusammenkünfte für die Sicherheit seines Landes sind. »Die Verteidigung und der Schutz unseres Volkes, die Unterstützung unserer Widerstandsfähigkeit, insbesondere unserer Soldaten, ist das Thema Nummer eins bei allen Verhandlungen und Treffen«, sagte Selenskyj in seiner allabendlichen Videoansprache. Er dankte Polen für die Möglichkeit des Besuchs.\n",
    "\n",
    "Polen gilt nach den USA als einer der größten Unterstützer der Ukraine bei der Verteidigung gegen Russland. Kiew hat eine Bestellung von Radschützenpanzern im Nachbarland Polen von 100 auf 150 Exemplare aufgestockt. Dies kündigte Polens Regierungssprecher Piotr Müller nach Angaben der Agentur PAP an. Die Panzer vom Typ KTO Rosomak sollen mit Hilfen der USA und der EU finanziert werden. Es handelt sich um eine Lizenzversion auf Basis des finnischen Militärfahrzeugs Patria AMV.\n",
    "\n",
    "Zudem gab die Ukraine den Bau von mehr als 50 selbstfahrenden Mörsern des Typs M120 Rak (»Krebs«) in Auftrag. Geplant sei zudem die Lieferung von 100 Raketen für Kurzstrecken-Flugabwehrraketensysteme. Vor wenigen Wochen hatte Polens Präsident Andrzej Duda angekündigt, dass man der Ukraine Kampfjets vom Typ MiG-29 liefern werde. Bei Selenskyjs Besuch wurde er nun konkret: Die Ukraine habe von Polen bereits acht MiG-29 geliefert bekommen. Darüber hinaus würden derzeit noch sechs MiG-29 für die Übergabe vorbereitet, kündigte Duda an.\n",
    "\n",
    "\"\"\"\n",
    "\n",
    "get_syntactic_quotes_from_str(paragraphs)"
   ]
  },
  {
   "cell_type": "code",
   "execution_count": 39,
   "id": "6f3b79eb",
   "metadata": {},
   "outputs": [
    {
     "data": {
      "text/html": [
       "<span class=\"tex2jax_ignore\"><svg xmlns=\"http://www.w3.org/2000/svg\" xmlns:xlink=\"http://www.w3.org/1999/xlink\" xml:lang=\"de\" id=\"3387016bc45940b699e5cc133c533872-0\" class=\"displacy\" width=\"8750\" height=\"512.0\" direction=\"ltr\" style=\"max-width: none; height: 512.0px; color: #000000; background: #ffffff; font-family: Arial; direction: ltr\">\n",
       "<text class=\"displacy-token\" fill=\"currentColor\" text-anchor=\"middle\" y=\"422.0\">\n",
       "    <tspan class=\"displacy-word\" fill=\"currentColor\" x=\"50\">Präsident</tspan>\n",
       "    <tspan class=\"displacy-tag\" dy=\"2em\" fill=\"currentColor\" x=\"50\">NOUN</tspan>\n",
       "</text>\n",
       "\n",
       "<text class=\"displacy-token\" fill=\"currentColor\" text-anchor=\"middle\" y=\"422.0\">\n",
       "    <tspan class=\"displacy-word\" fill=\"currentColor\" x=\"200\">Wolodymyr</tspan>\n",
       "    <tspan class=\"displacy-tag\" dy=\"2em\" fill=\"currentColor\" x=\"200\">PROPN</tspan>\n",
       "</text>\n",
       "\n",
       "<text class=\"displacy-token\" fill=\"currentColor\" text-anchor=\"middle\" y=\"422.0\">\n",
       "    <tspan class=\"displacy-word\" fill=\"currentColor\" x=\"350\">Selenskyj</tspan>\n",
       "    <tspan class=\"displacy-tag\" dy=\"2em\" fill=\"currentColor\" x=\"350\">PROPN</tspan>\n",
       "</text>\n",
       "\n",
       "<text class=\"displacy-token\" fill=\"currentColor\" text-anchor=\"middle\" y=\"422.0\">\n",
       "    <tspan class=\"displacy-word\" fill=\"currentColor\" x=\"500\">hat</tspan>\n",
       "    <tspan class=\"displacy-tag\" dy=\"2em\" fill=\"currentColor\" x=\"500\">AUX</tspan>\n",
       "</text>\n",
       "\n",
       "<text class=\"displacy-token\" fill=\"currentColor\" text-anchor=\"middle\" y=\"422.0\">\n",
       "    <tspan class=\"displacy-word\" fill=\"currentColor\" x=\"650\">nach</tspan>\n",
       "    <tspan class=\"displacy-tag\" dy=\"2em\" fill=\"currentColor\" x=\"650\">ADP</tspan>\n",
       "</text>\n",
       "\n",
       "<text class=\"displacy-token\" fill=\"currentColor\" text-anchor=\"middle\" y=\"422.0\">\n",
       "    <tspan class=\"displacy-word\" fill=\"currentColor\" x=\"800\">seinem</tspan>\n",
       "    <tspan class=\"displacy-tag\" dy=\"2em\" fill=\"currentColor\" x=\"800\">DET</tspan>\n",
       "</text>\n",
       "\n",
       "<text class=\"displacy-token\" fill=\"currentColor\" text-anchor=\"middle\" y=\"422.0\">\n",
       "    <tspan class=\"displacy-word\" fill=\"currentColor\" x=\"950\">Besuch</tspan>\n",
       "    <tspan class=\"displacy-tag\" dy=\"2em\" fill=\"currentColor\" x=\"950\">NOUN</tspan>\n",
       "</text>\n",
       "\n",
       "<text class=\"displacy-token\" fill=\"currentColor\" text-anchor=\"middle\" y=\"422.0\">\n",
       "    <tspan class=\"displacy-word\" fill=\"currentColor\" x=\"1100\">in</tspan>\n",
       "    <tspan class=\"displacy-tag\" dy=\"2em\" fill=\"currentColor\" x=\"1100\">ADP</tspan>\n",
       "</text>\n",
       "\n",
       "<text class=\"displacy-token\" fill=\"currentColor\" text-anchor=\"middle\" y=\"422.0\">\n",
       "    <tspan class=\"displacy-word\" fill=\"currentColor\" x=\"1250\">Warschau</tspan>\n",
       "    <tspan class=\"displacy-tag\" dy=\"2em\" fill=\"currentColor\" x=\"1250\">PROPN</tspan>\n",
       "</text>\n",
       "\n",
       "<text class=\"displacy-token\" fill=\"currentColor\" text-anchor=\"middle\" y=\"422.0\">\n",
       "    <tspan class=\"displacy-word\" fill=\"currentColor\" x=\"1400\">betont,</tspan>\n",
       "    <tspan class=\"displacy-tag\" dy=\"2em\" fill=\"currentColor\" x=\"1400\">VERB</tspan>\n",
       "</text>\n",
       "\n",
       "<text class=\"displacy-token\" fill=\"currentColor\" text-anchor=\"middle\" y=\"422.0\">\n",
       "    <tspan class=\"displacy-word\" fill=\"currentColor\" x=\"1550\">wie</tspan>\n",
       "    <tspan class=\"displacy-tag\" dy=\"2em\" fill=\"currentColor\" x=\"1550\">ADV</tspan>\n",
       "</text>\n",
       "\n",
       "<text class=\"displacy-token\" fill=\"currentColor\" text-anchor=\"middle\" y=\"422.0\">\n",
       "    <tspan class=\"displacy-word\" fill=\"currentColor\" x=\"1700\">wichtig</tspan>\n",
       "    <tspan class=\"displacy-tag\" dy=\"2em\" fill=\"currentColor\" x=\"1700\">ADV</tspan>\n",
       "</text>\n",
       "\n",
       "<text class=\"displacy-token\" fill=\"currentColor\" text-anchor=\"middle\" y=\"422.0\">\n",
       "    <tspan class=\"displacy-word\" fill=\"currentColor\" x=\"1850\">solche</tspan>\n",
       "    <tspan class=\"displacy-tag\" dy=\"2em\" fill=\"currentColor\" x=\"1850\">DET</tspan>\n",
       "</text>\n",
       "\n",
       "<text class=\"displacy-token\" fill=\"currentColor\" text-anchor=\"middle\" y=\"422.0\">\n",
       "    <tspan class=\"displacy-word\" fill=\"currentColor\" x=\"2000\">Zusammenkünfte</tspan>\n",
       "    <tspan class=\"displacy-tag\" dy=\"2em\" fill=\"currentColor\" x=\"2000\">NOUN</tspan>\n",
       "</text>\n",
       "\n",
       "<text class=\"displacy-token\" fill=\"currentColor\" text-anchor=\"middle\" y=\"422.0\">\n",
       "    <tspan class=\"displacy-word\" fill=\"currentColor\" x=\"2150\">für</tspan>\n",
       "    <tspan class=\"displacy-tag\" dy=\"2em\" fill=\"currentColor\" x=\"2150\">ADP</tspan>\n",
       "</text>\n",
       "\n",
       "<text class=\"displacy-token\" fill=\"currentColor\" text-anchor=\"middle\" y=\"422.0\">\n",
       "    <tspan class=\"displacy-word\" fill=\"currentColor\" x=\"2300\">die</tspan>\n",
       "    <tspan class=\"displacy-tag\" dy=\"2em\" fill=\"currentColor\" x=\"2300\">DET</tspan>\n",
       "</text>\n",
       "\n",
       "<text class=\"displacy-token\" fill=\"currentColor\" text-anchor=\"middle\" y=\"422.0\">\n",
       "    <tspan class=\"displacy-word\" fill=\"currentColor\" x=\"2450\">Sicherheit</tspan>\n",
       "    <tspan class=\"displacy-tag\" dy=\"2em\" fill=\"currentColor\" x=\"2450\">NOUN</tspan>\n",
       "</text>\n",
       "\n",
       "<text class=\"displacy-token\" fill=\"currentColor\" text-anchor=\"middle\" y=\"422.0\">\n",
       "    <tspan class=\"displacy-word\" fill=\"currentColor\" x=\"2600\">seines</tspan>\n",
       "    <tspan class=\"displacy-tag\" dy=\"2em\" fill=\"currentColor\" x=\"2600\">DET</tspan>\n",
       "</text>\n",
       "\n",
       "<text class=\"displacy-token\" fill=\"currentColor\" text-anchor=\"middle\" y=\"422.0\">\n",
       "    <tspan class=\"displacy-word\" fill=\"currentColor\" x=\"2750\">Landes</tspan>\n",
       "    <tspan class=\"displacy-tag\" dy=\"2em\" fill=\"currentColor\" x=\"2750\">NOUN</tspan>\n",
       "</text>\n",
       "\n",
       "<text class=\"displacy-token\" fill=\"currentColor\" text-anchor=\"middle\" y=\"422.0\">\n",
       "    <tspan class=\"displacy-word\" fill=\"currentColor\" x=\"2900\">sind. »</tspan>\n",
       "    <tspan class=\"displacy-tag\" dy=\"2em\" fill=\"currentColor\" x=\"2900\">AUX</tspan>\n",
       "</text>\n",
       "\n",
       "<text class=\"displacy-token\" fill=\"currentColor\" text-anchor=\"middle\" y=\"422.0\">\n",
       "    <tspan class=\"displacy-word\" fill=\"currentColor\" x=\"3050\">Die</tspan>\n",
       "    <tspan class=\"displacy-tag\" dy=\"2em\" fill=\"currentColor\" x=\"3050\">DET</tspan>\n",
       "</text>\n",
       "\n",
       "<text class=\"displacy-token\" fill=\"currentColor\" text-anchor=\"middle\" y=\"422.0\">\n",
       "    <tspan class=\"displacy-word\" fill=\"currentColor\" x=\"3200\">Verteidigung</tspan>\n",
       "    <tspan class=\"displacy-tag\" dy=\"2em\" fill=\"currentColor\" x=\"3200\">NOUN</tspan>\n",
       "</text>\n",
       "\n",
       "<text class=\"displacy-token\" fill=\"currentColor\" text-anchor=\"middle\" y=\"422.0\">\n",
       "    <tspan class=\"displacy-word\" fill=\"currentColor\" x=\"3350\">und</tspan>\n",
       "    <tspan class=\"displacy-tag\" dy=\"2em\" fill=\"currentColor\" x=\"3350\">CCONJ</tspan>\n",
       "</text>\n",
       "\n",
       "<text class=\"displacy-token\" fill=\"currentColor\" text-anchor=\"middle\" y=\"422.0\">\n",
       "    <tspan class=\"displacy-word\" fill=\"currentColor\" x=\"3500\">der</tspan>\n",
       "    <tspan class=\"displacy-tag\" dy=\"2em\" fill=\"currentColor\" x=\"3500\">DET</tspan>\n",
       "</text>\n",
       "\n",
       "<text class=\"displacy-token\" fill=\"currentColor\" text-anchor=\"middle\" y=\"422.0\">\n",
       "    <tspan class=\"displacy-word\" fill=\"currentColor\" x=\"3650\">Schutz</tspan>\n",
       "    <tspan class=\"displacy-tag\" dy=\"2em\" fill=\"currentColor\" x=\"3650\">NOUN</tspan>\n",
       "</text>\n",
       "\n",
       "<text class=\"displacy-token\" fill=\"currentColor\" text-anchor=\"middle\" y=\"422.0\">\n",
       "    <tspan class=\"displacy-word\" fill=\"currentColor\" x=\"3800\">unseres</tspan>\n",
       "    <tspan class=\"displacy-tag\" dy=\"2em\" fill=\"currentColor\" x=\"3800\">DET</tspan>\n",
       "</text>\n",
       "\n",
       "<text class=\"displacy-token\" fill=\"currentColor\" text-anchor=\"middle\" y=\"422.0\">\n",
       "    <tspan class=\"displacy-word\" fill=\"currentColor\" x=\"3950\">Volkes,</tspan>\n",
       "    <tspan class=\"displacy-tag\" dy=\"2em\" fill=\"currentColor\" x=\"3950\">NOUN</tspan>\n",
       "</text>\n",
       "\n",
       "<text class=\"displacy-token\" fill=\"currentColor\" text-anchor=\"middle\" y=\"422.0\">\n",
       "    <tspan class=\"displacy-word\" fill=\"currentColor\" x=\"4100\">die</tspan>\n",
       "    <tspan class=\"displacy-tag\" dy=\"2em\" fill=\"currentColor\" x=\"4100\">DET</tspan>\n",
       "</text>\n",
       "\n",
       "<text class=\"displacy-token\" fill=\"currentColor\" text-anchor=\"middle\" y=\"422.0\">\n",
       "    <tspan class=\"displacy-word\" fill=\"currentColor\" x=\"4250\">Unterstützung</tspan>\n",
       "    <tspan class=\"displacy-tag\" dy=\"2em\" fill=\"currentColor\" x=\"4250\">NOUN</tspan>\n",
       "</text>\n",
       "\n",
       "<text class=\"displacy-token\" fill=\"currentColor\" text-anchor=\"middle\" y=\"422.0\">\n",
       "    <tspan class=\"displacy-word\" fill=\"currentColor\" x=\"4400\">unserer</tspan>\n",
       "    <tspan class=\"displacy-tag\" dy=\"2em\" fill=\"currentColor\" x=\"4400\">DET</tspan>\n",
       "</text>\n",
       "\n",
       "<text class=\"displacy-token\" fill=\"currentColor\" text-anchor=\"middle\" y=\"422.0\">\n",
       "    <tspan class=\"displacy-word\" fill=\"currentColor\" x=\"4550\">Widerstandsfähigkeit,</tspan>\n",
       "    <tspan class=\"displacy-tag\" dy=\"2em\" fill=\"currentColor\" x=\"4550\">NOUN</tspan>\n",
       "</text>\n",
       "\n",
       "<text class=\"displacy-token\" fill=\"currentColor\" text-anchor=\"middle\" y=\"422.0\">\n",
       "    <tspan class=\"displacy-word\" fill=\"currentColor\" x=\"4700\">insbesondere</tspan>\n",
       "    <tspan class=\"displacy-tag\" dy=\"2em\" fill=\"currentColor\" x=\"4700\">ADV</tspan>\n",
       "</text>\n",
       "\n",
       "<text class=\"displacy-token\" fill=\"currentColor\" text-anchor=\"middle\" y=\"422.0\">\n",
       "    <tspan class=\"displacy-word\" fill=\"currentColor\" x=\"4850\">unserer</tspan>\n",
       "    <tspan class=\"displacy-tag\" dy=\"2em\" fill=\"currentColor\" x=\"4850\">DET</tspan>\n",
       "</text>\n",
       "\n",
       "<text class=\"displacy-token\" fill=\"currentColor\" text-anchor=\"middle\" y=\"422.0\">\n",
       "    <tspan class=\"displacy-word\" fill=\"currentColor\" x=\"5000\">Soldaten,</tspan>\n",
       "    <tspan class=\"displacy-tag\" dy=\"2em\" fill=\"currentColor\" x=\"5000\">NOUN</tspan>\n",
       "</text>\n",
       "\n",
       "<text class=\"displacy-token\" fill=\"currentColor\" text-anchor=\"middle\" y=\"422.0\">\n",
       "    <tspan class=\"displacy-word\" fill=\"currentColor\" x=\"5150\">ist</tspan>\n",
       "    <tspan class=\"displacy-tag\" dy=\"2em\" fill=\"currentColor\" x=\"5150\">AUX</tspan>\n",
       "</text>\n",
       "\n",
       "<text class=\"displacy-token\" fill=\"currentColor\" text-anchor=\"middle\" y=\"422.0\">\n",
       "    <tspan class=\"displacy-word\" fill=\"currentColor\" x=\"5300\">das</tspan>\n",
       "    <tspan class=\"displacy-tag\" dy=\"2em\" fill=\"currentColor\" x=\"5300\">DET</tspan>\n",
       "</text>\n",
       "\n",
       "<text class=\"displacy-token\" fill=\"currentColor\" text-anchor=\"middle\" y=\"422.0\">\n",
       "    <tspan class=\"displacy-word\" fill=\"currentColor\" x=\"5450\">Thema</tspan>\n",
       "    <tspan class=\"displacy-tag\" dy=\"2em\" fill=\"currentColor\" x=\"5450\">NOUN</tspan>\n",
       "</text>\n",
       "\n",
       "<text class=\"displacy-token\" fill=\"currentColor\" text-anchor=\"middle\" y=\"422.0\">\n",
       "    <tspan class=\"displacy-word\" fill=\"currentColor\" x=\"5600\">Nummer</tspan>\n",
       "    <tspan class=\"displacy-tag\" dy=\"2em\" fill=\"currentColor\" x=\"5600\">NOUN</tspan>\n",
       "</text>\n",
       "\n",
       "<text class=\"displacy-token\" fill=\"currentColor\" text-anchor=\"middle\" y=\"422.0\">\n",
       "    <tspan class=\"displacy-word\" fill=\"currentColor\" x=\"5750\">eins</tspan>\n",
       "    <tspan class=\"displacy-tag\" dy=\"2em\" fill=\"currentColor\" x=\"5750\">NUM</tspan>\n",
       "</text>\n",
       "\n",
       "<text class=\"displacy-token\" fill=\"currentColor\" text-anchor=\"middle\" y=\"422.0\">\n",
       "    <tspan class=\"displacy-word\" fill=\"currentColor\" x=\"5900\">bei</tspan>\n",
       "    <tspan class=\"displacy-tag\" dy=\"2em\" fill=\"currentColor\" x=\"5900\">ADP</tspan>\n",
       "</text>\n",
       "\n",
       "<text class=\"displacy-token\" fill=\"currentColor\" text-anchor=\"middle\" y=\"422.0\">\n",
       "    <tspan class=\"displacy-word\" fill=\"currentColor\" x=\"6050\">allen</tspan>\n",
       "    <tspan class=\"displacy-tag\" dy=\"2em\" fill=\"currentColor\" x=\"6050\">DET</tspan>\n",
       "</text>\n",
       "\n",
       "<text class=\"displacy-token\" fill=\"currentColor\" text-anchor=\"middle\" y=\"422.0\">\n",
       "    <tspan class=\"displacy-word\" fill=\"currentColor\" x=\"6200\">Verhandlungen</tspan>\n",
       "    <tspan class=\"displacy-tag\" dy=\"2em\" fill=\"currentColor\" x=\"6200\">NOUN</tspan>\n",
       "</text>\n",
       "\n",
       "<text class=\"displacy-token\" fill=\"currentColor\" text-anchor=\"middle\" y=\"422.0\">\n",
       "    <tspan class=\"displacy-word\" fill=\"currentColor\" x=\"6350\">und</tspan>\n",
       "    <tspan class=\"displacy-tag\" dy=\"2em\" fill=\"currentColor\" x=\"6350\">CCONJ</tspan>\n",
       "</text>\n",
       "\n",
       "<text class=\"displacy-token\" fill=\"currentColor\" text-anchor=\"middle\" y=\"422.0\">\n",
       "    <tspan class=\"displacy-word\" fill=\"currentColor\" x=\"6500\">Treffen«,</tspan>\n",
       "    <tspan class=\"displacy-tag\" dy=\"2em\" fill=\"currentColor\" x=\"6500\">NOUN</tspan>\n",
       "</text>\n",
       "\n",
       "<text class=\"displacy-token\" fill=\"currentColor\" text-anchor=\"middle\" y=\"422.0\">\n",
       "    <tspan class=\"displacy-word\" fill=\"currentColor\" x=\"6650\">sagte</tspan>\n",
       "    <tspan class=\"displacy-tag\" dy=\"2em\" fill=\"currentColor\" x=\"6650\">VERB</tspan>\n",
       "</text>\n",
       "\n",
       "<text class=\"displacy-token\" fill=\"currentColor\" text-anchor=\"middle\" y=\"422.0\">\n",
       "    <tspan class=\"displacy-word\" fill=\"currentColor\" x=\"6800\">Selenskyj</tspan>\n",
       "    <tspan class=\"displacy-tag\" dy=\"2em\" fill=\"currentColor\" x=\"6800\">PROPN</tspan>\n",
       "</text>\n",
       "\n",
       "<text class=\"displacy-token\" fill=\"currentColor\" text-anchor=\"middle\" y=\"422.0\">\n",
       "    <tspan class=\"displacy-word\" fill=\"currentColor\" x=\"6950\">in</tspan>\n",
       "    <tspan class=\"displacy-tag\" dy=\"2em\" fill=\"currentColor\" x=\"6950\">ADP</tspan>\n",
       "</text>\n",
       "\n",
       "<text class=\"displacy-token\" fill=\"currentColor\" text-anchor=\"middle\" y=\"422.0\">\n",
       "    <tspan class=\"displacy-word\" fill=\"currentColor\" x=\"7100\">seiner</tspan>\n",
       "    <tspan class=\"displacy-tag\" dy=\"2em\" fill=\"currentColor\" x=\"7100\">DET</tspan>\n",
       "</text>\n",
       "\n",
       "<text class=\"displacy-token\" fill=\"currentColor\" text-anchor=\"middle\" y=\"422.0\">\n",
       "    <tspan class=\"displacy-word\" fill=\"currentColor\" x=\"7250\">allabendlichen</tspan>\n",
       "    <tspan class=\"displacy-tag\" dy=\"2em\" fill=\"currentColor\" x=\"7250\">ADJ</tspan>\n",
       "</text>\n",
       "\n",
       "<text class=\"displacy-token\" fill=\"currentColor\" text-anchor=\"middle\" y=\"422.0\">\n",
       "    <tspan class=\"displacy-word\" fill=\"currentColor\" x=\"7400\">Videoansprache.</tspan>\n",
       "    <tspan class=\"displacy-tag\" dy=\"2em\" fill=\"currentColor\" x=\"7400\">NOUN</tspan>\n",
       "</text>\n",
       "\n",
       "<text class=\"displacy-token\" fill=\"currentColor\" text-anchor=\"middle\" y=\"422.0\">\n",
       "    <tspan class=\"displacy-word\" fill=\"currentColor\" x=\"7550\">Er</tspan>\n",
       "    <tspan class=\"displacy-tag\" dy=\"2em\" fill=\"currentColor\" x=\"7550\">PRON</tspan>\n",
       "</text>\n",
       "\n",
       "<text class=\"displacy-token\" fill=\"currentColor\" text-anchor=\"middle\" y=\"422.0\">\n",
       "    <tspan class=\"displacy-word\" fill=\"currentColor\" x=\"7700\">dankte</tspan>\n",
       "    <tspan class=\"displacy-tag\" dy=\"2em\" fill=\"currentColor\" x=\"7700\">VERB</tspan>\n",
       "</text>\n",
       "\n",
       "<text class=\"displacy-token\" fill=\"currentColor\" text-anchor=\"middle\" y=\"422.0\">\n",
       "    <tspan class=\"displacy-word\" fill=\"currentColor\" x=\"7850\">Polen</tspan>\n",
       "    <tspan class=\"displacy-tag\" dy=\"2em\" fill=\"currentColor\" x=\"7850\">PROPN</tspan>\n",
       "</text>\n",
       "\n",
       "<text class=\"displacy-token\" fill=\"currentColor\" text-anchor=\"middle\" y=\"422.0\">\n",
       "    <tspan class=\"displacy-word\" fill=\"currentColor\" x=\"8000\">für</tspan>\n",
       "    <tspan class=\"displacy-tag\" dy=\"2em\" fill=\"currentColor\" x=\"8000\">ADP</tspan>\n",
       "</text>\n",
       "\n",
       "<text class=\"displacy-token\" fill=\"currentColor\" text-anchor=\"middle\" y=\"422.0\">\n",
       "    <tspan class=\"displacy-word\" fill=\"currentColor\" x=\"8150\">die</tspan>\n",
       "    <tspan class=\"displacy-tag\" dy=\"2em\" fill=\"currentColor\" x=\"8150\">DET</tspan>\n",
       "</text>\n",
       "\n",
       "<text class=\"displacy-token\" fill=\"currentColor\" text-anchor=\"middle\" y=\"422.0\">\n",
       "    <tspan class=\"displacy-word\" fill=\"currentColor\" x=\"8300\">Möglichkeit</tspan>\n",
       "    <tspan class=\"displacy-tag\" dy=\"2em\" fill=\"currentColor\" x=\"8300\">NOUN</tspan>\n",
       "</text>\n",
       "\n",
       "<text class=\"displacy-token\" fill=\"currentColor\" text-anchor=\"middle\" y=\"422.0\">\n",
       "    <tspan class=\"displacy-word\" fill=\"currentColor\" x=\"8450\">des</tspan>\n",
       "    <tspan class=\"displacy-tag\" dy=\"2em\" fill=\"currentColor\" x=\"8450\">DET</tspan>\n",
       "</text>\n",
       "\n",
       "<text class=\"displacy-token\" fill=\"currentColor\" text-anchor=\"middle\" y=\"422.0\">\n",
       "    <tspan class=\"displacy-word\" fill=\"currentColor\" x=\"8600\">Besuchs.</tspan>\n",
       "    <tspan class=\"displacy-tag\" dy=\"2em\" fill=\"currentColor\" x=\"8600\">NOUN</tspan>\n",
       "</text>\n",
       "\n",
       "<g class=\"displacy-arrow\">\n",
       "    <path class=\"displacy-arc\" id=\"arrow-3387016bc45940b699e5cc133c533872-0-0\" stroke-width=\"2px\" d=\"M62,377.0 62,302.0 494.0,302.0 494.0,377.0\" fill=\"none\" stroke=\"currentColor\"/>\n",
       "    <text dy=\"1.25em\" style=\"font-size: 0.8em; letter-spacing: 1px\">\n",
       "        <textPath xlink:href=\"#arrow-3387016bc45940b699e5cc133c533872-0-0\" class=\"displacy-label\" startOffset=\"50%\" side=\"left\" fill=\"currentColor\" text-anchor=\"middle\">sb</textPath>\n",
       "    </text>\n",
       "    <path class=\"displacy-arrowhead\" d=\"M62,379.0 L58,371.0 66,371.0\" fill=\"currentColor\"/>\n",
       "</g>\n",
       "\n",
       "<g class=\"displacy-arrow\">\n",
       "    <path class=\"displacy-arc\" id=\"arrow-3387016bc45940b699e5cc133c533872-0-1\" stroke-width=\"2px\" d=\"M212,377.0 212,352.0 338.0,352.0 338.0,377.0\" fill=\"none\" stroke=\"currentColor\"/>\n",
       "    <text dy=\"1.25em\" style=\"font-size: 0.8em; letter-spacing: 1px\">\n",
       "        <textPath xlink:href=\"#arrow-3387016bc45940b699e5cc133c533872-0-1\" class=\"displacy-label\" startOffset=\"50%\" side=\"left\" fill=\"currentColor\" text-anchor=\"middle\">pnc</textPath>\n",
       "    </text>\n",
       "    <path class=\"displacy-arrowhead\" d=\"M212,379.0 L208,371.0 216,371.0\" fill=\"currentColor\"/>\n",
       "</g>\n",
       "\n",
       "<g class=\"displacy-arrow\">\n",
       "    <path class=\"displacy-arc\" id=\"arrow-3387016bc45940b699e5cc133c533872-0-2\" stroke-width=\"2px\" d=\"M62,377.0 62,327.0 341.0,327.0 341.0,377.0\" fill=\"none\" stroke=\"currentColor\"/>\n",
       "    <text dy=\"1.25em\" style=\"font-size: 0.8em; letter-spacing: 1px\">\n",
       "        <textPath xlink:href=\"#arrow-3387016bc45940b699e5cc133c533872-0-2\" class=\"displacy-label\" startOffset=\"50%\" side=\"left\" fill=\"currentColor\" text-anchor=\"middle\">nk</textPath>\n",
       "    </text>\n",
       "    <path class=\"displacy-arrowhead\" d=\"M341.0,379.0 L345.0,371.0 337.0,371.0\" fill=\"currentColor\"/>\n",
       "</g>\n",
       "\n",
       "<g class=\"displacy-arrow\">\n",
       "    <path class=\"displacy-arc\" id=\"arrow-3387016bc45940b699e5cc133c533872-0-3\" stroke-width=\"2px\" d=\"M662,377.0 662,302.0 1394.0,302.0 1394.0,377.0\" fill=\"none\" stroke=\"currentColor\"/>\n",
       "    <text dy=\"1.25em\" style=\"font-size: 0.8em; letter-spacing: 1px\">\n",
       "        <textPath xlink:href=\"#arrow-3387016bc45940b699e5cc133c533872-0-3\" class=\"displacy-label\" startOffset=\"50%\" side=\"left\" fill=\"currentColor\" text-anchor=\"middle\">mo</textPath>\n",
       "    </text>\n",
       "    <path class=\"displacy-arrowhead\" d=\"M662,379.0 L658,371.0 666,371.0\" fill=\"currentColor\"/>\n",
       "</g>\n",
       "\n",
       "<g class=\"displacy-arrow\">\n",
       "    <path class=\"displacy-arc\" id=\"arrow-3387016bc45940b699e5cc133c533872-0-4\" stroke-width=\"2px\" d=\"M812,377.0 812,352.0 938.0,352.0 938.0,377.0\" fill=\"none\" stroke=\"currentColor\"/>\n",
       "    <text dy=\"1.25em\" style=\"font-size: 0.8em; letter-spacing: 1px\">\n",
       "        <textPath xlink:href=\"#arrow-3387016bc45940b699e5cc133c533872-0-4\" class=\"displacy-label\" startOffset=\"50%\" side=\"left\" fill=\"currentColor\" text-anchor=\"middle\">nk</textPath>\n",
       "    </text>\n",
       "    <path class=\"displacy-arrowhead\" d=\"M812,379.0 L808,371.0 816,371.0\" fill=\"currentColor\"/>\n",
       "</g>\n",
       "\n",
       "<g class=\"displacy-arrow\">\n",
       "    <path class=\"displacy-arc\" id=\"arrow-3387016bc45940b699e5cc133c533872-0-5\" stroke-width=\"2px\" d=\"M662,377.0 662,327.0 941.0,327.0 941.0,377.0\" fill=\"none\" stroke=\"currentColor\"/>\n",
       "    <text dy=\"1.25em\" style=\"font-size: 0.8em; letter-spacing: 1px\">\n",
       "        <textPath xlink:href=\"#arrow-3387016bc45940b699e5cc133c533872-0-5\" class=\"displacy-label\" startOffset=\"50%\" side=\"left\" fill=\"currentColor\" text-anchor=\"middle\">nk</textPath>\n",
       "    </text>\n",
       "    <path class=\"displacy-arrowhead\" d=\"M941.0,379.0 L945.0,371.0 937.0,371.0\" fill=\"currentColor\"/>\n",
       "</g>\n",
       "\n",
       "<g class=\"displacy-arrow\">\n",
       "    <path class=\"displacy-arc\" id=\"arrow-3387016bc45940b699e5cc133c533872-0-6\" stroke-width=\"2px\" d=\"M962,377.0 962,352.0 1088.0,352.0 1088.0,377.0\" fill=\"none\" stroke=\"currentColor\"/>\n",
       "    <text dy=\"1.25em\" style=\"font-size: 0.8em; letter-spacing: 1px\">\n",
       "        <textPath xlink:href=\"#arrow-3387016bc45940b699e5cc133c533872-0-6\" class=\"displacy-label\" startOffset=\"50%\" side=\"left\" fill=\"currentColor\" text-anchor=\"middle\">mnr</textPath>\n",
       "    </text>\n",
       "    <path class=\"displacy-arrowhead\" d=\"M1088.0,379.0 L1092.0,371.0 1084.0,371.0\" fill=\"currentColor\"/>\n",
       "</g>\n",
       "\n",
       "<g class=\"displacy-arrow\">\n",
       "    <path class=\"displacy-arc\" id=\"arrow-3387016bc45940b699e5cc133c533872-0-7\" stroke-width=\"2px\" d=\"M1112,377.0 1112,352.0 1238.0,352.0 1238.0,377.0\" fill=\"none\" stroke=\"currentColor\"/>\n",
       "    <text dy=\"1.25em\" style=\"font-size: 0.8em; letter-spacing: 1px\">\n",
       "        <textPath xlink:href=\"#arrow-3387016bc45940b699e5cc133c533872-0-7\" class=\"displacy-label\" startOffset=\"50%\" side=\"left\" fill=\"currentColor\" text-anchor=\"middle\">nk</textPath>\n",
       "    </text>\n",
       "    <path class=\"displacy-arrowhead\" d=\"M1238.0,379.0 L1242.0,371.0 1234.0,371.0\" fill=\"currentColor\"/>\n",
       "</g>\n",
       "\n",
       "<g class=\"displacy-arrow\">\n",
       "    <path class=\"displacy-arc\" id=\"arrow-3387016bc45940b699e5cc133c533872-0-8\" stroke-width=\"2px\" d=\"M512,377.0 512,277.0 1397.0,277.0 1397.0,377.0\" fill=\"none\" stroke=\"currentColor\"/>\n",
       "    <text dy=\"1.25em\" style=\"font-size: 0.8em; letter-spacing: 1px\">\n",
       "        <textPath xlink:href=\"#arrow-3387016bc45940b699e5cc133c533872-0-8\" class=\"displacy-label\" startOffset=\"50%\" side=\"left\" fill=\"currentColor\" text-anchor=\"middle\">oc</textPath>\n",
       "    </text>\n",
       "    <path class=\"displacy-arrowhead\" d=\"M1397.0,379.0 L1401.0,371.0 1393.0,371.0\" fill=\"currentColor\"/>\n",
       "</g>\n",
       "\n",
       "<g class=\"displacy-arrow\">\n",
       "    <path class=\"displacy-arc\" id=\"arrow-3387016bc45940b699e5cc133c533872-0-9\" stroke-width=\"2px\" d=\"M1562,377.0 1562,352.0 1688.0,352.0 1688.0,377.0\" fill=\"none\" stroke=\"currentColor\"/>\n",
       "    <text dy=\"1.25em\" style=\"font-size: 0.8em; letter-spacing: 1px\">\n",
       "        <textPath xlink:href=\"#arrow-3387016bc45940b699e5cc133c533872-0-9\" class=\"displacy-label\" startOffset=\"50%\" side=\"left\" fill=\"currentColor\" text-anchor=\"middle\">mo</textPath>\n",
       "    </text>\n",
       "    <path class=\"displacy-arrowhead\" d=\"M1562,379.0 L1558,371.0 1566,371.0\" fill=\"currentColor\"/>\n",
       "</g>\n",
       "\n",
       "<g class=\"displacy-arrow\">\n",
       "    <path class=\"displacy-arc\" id=\"arrow-3387016bc45940b699e5cc133c533872-0-10\" stroke-width=\"2px\" d=\"M1712,377.0 1712,277.0 2897.0,277.0 2897.0,377.0\" fill=\"none\" stroke=\"currentColor\"/>\n",
       "    <text dy=\"1.25em\" style=\"font-size: 0.8em; letter-spacing: 1px\">\n",
       "        <textPath xlink:href=\"#arrow-3387016bc45940b699e5cc133c533872-0-10\" class=\"displacy-label\" startOffset=\"50%\" side=\"left\" fill=\"currentColor\" text-anchor=\"middle\">pd</textPath>\n",
       "    </text>\n",
       "    <path class=\"displacy-arrowhead\" d=\"M1712,379.0 L1708,371.0 1716,371.0\" fill=\"currentColor\"/>\n",
       "</g>\n",
       "\n",
       "<g class=\"displacy-arrow\">\n",
       "    <path class=\"displacy-arc\" id=\"arrow-3387016bc45940b699e5cc133c533872-0-11\" stroke-width=\"2px\" d=\"M1862,377.0 1862,352.0 1988.0,352.0 1988.0,377.0\" fill=\"none\" stroke=\"currentColor\"/>\n",
       "    <text dy=\"1.25em\" style=\"font-size: 0.8em; letter-spacing: 1px\">\n",
       "        <textPath xlink:href=\"#arrow-3387016bc45940b699e5cc133c533872-0-11\" class=\"displacy-label\" startOffset=\"50%\" side=\"left\" fill=\"currentColor\" text-anchor=\"middle\">nk</textPath>\n",
       "    </text>\n",
       "    <path class=\"displacy-arrowhead\" d=\"M1862,379.0 L1858,371.0 1866,371.0\" fill=\"currentColor\"/>\n",
       "</g>\n",
       "\n",
       "<g class=\"displacy-arrow\">\n",
       "    <path class=\"displacy-arc\" id=\"arrow-3387016bc45940b699e5cc133c533872-0-12\" stroke-width=\"2px\" d=\"M2012,377.0 2012,302.0 2894.0,302.0 2894.0,377.0\" fill=\"none\" stroke=\"currentColor\"/>\n",
       "    <text dy=\"1.25em\" style=\"font-size: 0.8em; letter-spacing: 1px\">\n",
       "        <textPath xlink:href=\"#arrow-3387016bc45940b699e5cc133c533872-0-12\" class=\"displacy-label\" startOffset=\"50%\" side=\"left\" fill=\"currentColor\" text-anchor=\"middle\">sb</textPath>\n",
       "    </text>\n",
       "    <path class=\"displacy-arrowhead\" d=\"M2012,379.0 L2008,371.0 2016,371.0\" fill=\"currentColor\"/>\n",
       "</g>\n",
       "\n",
       "<g class=\"displacy-arrow\">\n",
       "    <path class=\"displacy-arc\" id=\"arrow-3387016bc45940b699e5cc133c533872-0-13\" stroke-width=\"2px\" d=\"M2012,377.0 2012,352.0 2138.0,352.0 2138.0,377.0\" fill=\"none\" stroke=\"currentColor\"/>\n",
       "    <text dy=\"1.25em\" style=\"font-size: 0.8em; letter-spacing: 1px\">\n",
       "        <textPath xlink:href=\"#arrow-3387016bc45940b699e5cc133c533872-0-13\" class=\"displacy-label\" startOffset=\"50%\" side=\"left\" fill=\"currentColor\" text-anchor=\"middle\">mnr</textPath>\n",
       "    </text>\n",
       "    <path class=\"displacy-arrowhead\" d=\"M2138.0,379.0 L2142.0,371.0 2134.0,371.0\" fill=\"currentColor\"/>\n",
       "</g>\n",
       "\n",
       "<g class=\"displacy-arrow\">\n",
       "    <path class=\"displacy-arc\" id=\"arrow-3387016bc45940b699e5cc133c533872-0-14\" stroke-width=\"2px\" d=\"M2312,377.0 2312,352.0 2438.0,352.0 2438.0,377.0\" fill=\"none\" stroke=\"currentColor\"/>\n",
       "    <text dy=\"1.25em\" style=\"font-size: 0.8em; letter-spacing: 1px\">\n",
       "        <textPath xlink:href=\"#arrow-3387016bc45940b699e5cc133c533872-0-14\" class=\"displacy-label\" startOffset=\"50%\" side=\"left\" fill=\"currentColor\" text-anchor=\"middle\">nk</textPath>\n",
       "    </text>\n",
       "    <path class=\"displacy-arrowhead\" d=\"M2312,379.0 L2308,371.0 2316,371.0\" fill=\"currentColor\"/>\n",
       "</g>\n",
       "\n",
       "<g class=\"displacy-arrow\">\n",
       "    <path class=\"displacy-arc\" id=\"arrow-3387016bc45940b699e5cc133c533872-0-15\" stroke-width=\"2px\" d=\"M2162,377.0 2162,327.0 2441.0,327.0 2441.0,377.0\" fill=\"none\" stroke=\"currentColor\"/>\n",
       "    <text dy=\"1.25em\" style=\"font-size: 0.8em; letter-spacing: 1px\">\n",
       "        <textPath xlink:href=\"#arrow-3387016bc45940b699e5cc133c533872-0-15\" class=\"displacy-label\" startOffset=\"50%\" side=\"left\" fill=\"currentColor\" text-anchor=\"middle\">nk</textPath>\n",
       "    </text>\n",
       "    <path class=\"displacy-arrowhead\" d=\"M2441.0,379.0 L2445.0,371.0 2437.0,371.0\" fill=\"currentColor\"/>\n",
       "</g>\n",
       "\n",
       "<g class=\"displacy-arrow\">\n",
       "    <path class=\"displacy-arc\" id=\"arrow-3387016bc45940b699e5cc133c533872-0-16\" stroke-width=\"2px\" d=\"M2612,377.0 2612,352.0 2738.0,352.0 2738.0,377.0\" fill=\"none\" stroke=\"currentColor\"/>\n",
       "    <text dy=\"1.25em\" style=\"font-size: 0.8em; letter-spacing: 1px\">\n",
       "        <textPath xlink:href=\"#arrow-3387016bc45940b699e5cc133c533872-0-16\" class=\"displacy-label\" startOffset=\"50%\" side=\"left\" fill=\"currentColor\" text-anchor=\"middle\">nk</textPath>\n",
       "    </text>\n",
       "    <path class=\"displacy-arrowhead\" d=\"M2612,379.0 L2608,371.0 2616,371.0\" fill=\"currentColor\"/>\n",
       "</g>\n",
       "\n",
       "<g class=\"displacy-arrow\">\n",
       "    <path class=\"displacy-arc\" id=\"arrow-3387016bc45940b699e5cc133c533872-0-17\" stroke-width=\"2px\" d=\"M2462,377.0 2462,327.0 2741.0,327.0 2741.0,377.0\" fill=\"none\" stroke=\"currentColor\"/>\n",
       "    <text dy=\"1.25em\" style=\"font-size: 0.8em; letter-spacing: 1px\">\n",
       "        <textPath xlink:href=\"#arrow-3387016bc45940b699e5cc133c533872-0-17\" class=\"displacy-label\" startOffset=\"50%\" side=\"left\" fill=\"currentColor\" text-anchor=\"middle\">ag</textPath>\n",
       "    </text>\n",
       "    <path class=\"displacy-arrowhead\" d=\"M2741.0,379.0 L2745.0,371.0 2737.0,371.0\" fill=\"currentColor\"/>\n",
       "</g>\n",
       "\n",
       "<g class=\"displacy-arrow\">\n",
       "    <path class=\"displacy-arc\" id=\"arrow-3387016bc45940b699e5cc133c533872-0-18\" stroke-width=\"2px\" d=\"M1412,377.0 1412,252.0 2900.0,252.0 2900.0,377.0\" fill=\"none\" stroke=\"currentColor\"/>\n",
       "    <text dy=\"1.25em\" style=\"font-size: 0.8em; letter-spacing: 1px\">\n",
       "        <textPath xlink:href=\"#arrow-3387016bc45940b699e5cc133c533872-0-18\" class=\"displacy-label\" startOffset=\"50%\" side=\"left\" fill=\"currentColor\" text-anchor=\"middle\">oc</textPath>\n",
       "    </text>\n",
       "    <path class=\"displacy-arrowhead\" d=\"M2900.0,379.0 L2904.0,371.0 2896.0,371.0\" fill=\"currentColor\"/>\n",
       "</g>\n",
       "\n",
       "<g class=\"displacy-arrow\">\n",
       "    <path class=\"displacy-arc\" id=\"arrow-3387016bc45940b699e5cc133c533872-0-19\" stroke-width=\"2px\" d=\"M3062,377.0 3062,352.0 3188.0,352.0 3188.0,377.0\" fill=\"none\" stroke=\"currentColor\"/>\n",
       "    <text dy=\"1.25em\" style=\"font-size: 0.8em; letter-spacing: 1px\">\n",
       "        <textPath xlink:href=\"#arrow-3387016bc45940b699e5cc133c533872-0-19\" class=\"displacy-label\" startOffset=\"50%\" side=\"left\" fill=\"currentColor\" text-anchor=\"middle\">nk</textPath>\n",
       "    </text>\n",
       "    <path class=\"displacy-arrowhead\" d=\"M3062,379.0 L3058,371.0 3066,371.0\" fill=\"currentColor\"/>\n",
       "</g>\n",
       "\n",
       "<g class=\"displacy-arrow\">\n",
       "    <path class=\"displacy-arc\" id=\"arrow-3387016bc45940b699e5cc133c533872-0-20\" stroke-width=\"2px\" d=\"M3212,377.0 3212,277.0 5147.0,277.0 5147.0,377.0\" fill=\"none\" stroke=\"currentColor\"/>\n",
       "    <text dy=\"1.25em\" style=\"font-size: 0.8em; letter-spacing: 1px\">\n",
       "        <textPath xlink:href=\"#arrow-3387016bc45940b699e5cc133c533872-0-20\" class=\"displacy-label\" startOffset=\"50%\" side=\"left\" fill=\"currentColor\" text-anchor=\"middle\">sb</textPath>\n",
       "    </text>\n",
       "    <path class=\"displacy-arrowhead\" d=\"M3212,379.0 L3208,371.0 3216,371.0\" fill=\"currentColor\"/>\n",
       "</g>\n",
       "\n",
       "<g class=\"displacy-arrow\">\n",
       "    <path class=\"displacy-arc\" id=\"arrow-3387016bc45940b699e5cc133c533872-0-21\" stroke-width=\"2px\" d=\"M3212,377.0 3212,352.0 3338.0,352.0 3338.0,377.0\" fill=\"none\" stroke=\"currentColor\"/>\n",
       "    <text dy=\"1.25em\" style=\"font-size: 0.8em; letter-spacing: 1px\">\n",
       "        <textPath xlink:href=\"#arrow-3387016bc45940b699e5cc133c533872-0-21\" class=\"displacy-label\" startOffset=\"50%\" side=\"left\" fill=\"currentColor\" text-anchor=\"middle\">cd</textPath>\n",
       "    </text>\n",
       "    <path class=\"displacy-arrowhead\" d=\"M3338.0,379.0 L3342.0,371.0 3334.0,371.0\" fill=\"currentColor\"/>\n",
       "</g>\n",
       "\n",
       "<g class=\"displacy-arrow\">\n",
       "    <path class=\"displacy-arc\" id=\"arrow-3387016bc45940b699e5cc133c533872-0-22\" stroke-width=\"2px\" d=\"M3512,377.0 3512,352.0 3638.0,352.0 3638.0,377.0\" fill=\"none\" stroke=\"currentColor\"/>\n",
       "    <text dy=\"1.25em\" style=\"font-size: 0.8em; letter-spacing: 1px\">\n",
       "        <textPath xlink:href=\"#arrow-3387016bc45940b699e5cc133c533872-0-22\" class=\"displacy-label\" startOffset=\"50%\" side=\"left\" fill=\"currentColor\" text-anchor=\"middle\">nk</textPath>\n",
       "    </text>\n",
       "    <path class=\"displacy-arrowhead\" d=\"M3512,379.0 L3508,371.0 3516,371.0\" fill=\"currentColor\"/>\n",
       "</g>\n",
       "\n",
       "<g class=\"displacy-arrow\">\n",
       "    <path class=\"displacy-arc\" id=\"arrow-3387016bc45940b699e5cc133c533872-0-23\" stroke-width=\"2px\" d=\"M3362,377.0 3362,327.0 3641.0,327.0 3641.0,377.0\" fill=\"none\" stroke=\"currentColor\"/>\n",
       "    <text dy=\"1.25em\" style=\"font-size: 0.8em; letter-spacing: 1px\">\n",
       "        <textPath xlink:href=\"#arrow-3387016bc45940b699e5cc133c533872-0-23\" class=\"displacy-label\" startOffset=\"50%\" side=\"left\" fill=\"currentColor\" text-anchor=\"middle\">cj</textPath>\n",
       "    </text>\n",
       "    <path class=\"displacy-arrowhead\" d=\"M3641.0,379.0 L3645.0,371.0 3637.0,371.0\" fill=\"currentColor\"/>\n",
       "</g>\n",
       "\n",
       "<g class=\"displacy-arrow\">\n",
       "    <path class=\"displacy-arc\" id=\"arrow-3387016bc45940b699e5cc133c533872-0-24\" stroke-width=\"2px\" d=\"M3812,377.0 3812,352.0 3938.0,352.0 3938.0,377.0\" fill=\"none\" stroke=\"currentColor\"/>\n",
       "    <text dy=\"1.25em\" style=\"font-size: 0.8em; letter-spacing: 1px\">\n",
       "        <textPath xlink:href=\"#arrow-3387016bc45940b699e5cc133c533872-0-24\" class=\"displacy-label\" startOffset=\"50%\" side=\"left\" fill=\"currentColor\" text-anchor=\"middle\">nk</textPath>\n",
       "    </text>\n",
       "    <path class=\"displacy-arrowhead\" d=\"M3812,379.0 L3808,371.0 3816,371.0\" fill=\"currentColor\"/>\n",
       "</g>\n",
       "\n",
       "<g class=\"displacy-arrow\">\n",
       "    <path class=\"displacy-arc\" id=\"arrow-3387016bc45940b699e5cc133c533872-0-25\" stroke-width=\"2px\" d=\"M3662,377.0 3662,327.0 3941.0,327.0 3941.0,377.0\" fill=\"none\" stroke=\"currentColor\"/>\n",
       "    <text dy=\"1.25em\" style=\"font-size: 0.8em; letter-spacing: 1px\">\n",
       "        <textPath xlink:href=\"#arrow-3387016bc45940b699e5cc133c533872-0-25\" class=\"displacy-label\" startOffset=\"50%\" side=\"left\" fill=\"currentColor\" text-anchor=\"middle\">ag</textPath>\n",
       "    </text>\n",
       "    <path class=\"displacy-arrowhead\" d=\"M3941.0,379.0 L3945.0,371.0 3937.0,371.0\" fill=\"currentColor\"/>\n",
       "</g>\n",
       "\n",
       "<g class=\"displacy-arrow\">\n",
       "    <path class=\"displacy-arc\" id=\"arrow-3387016bc45940b699e5cc133c533872-0-26\" stroke-width=\"2px\" d=\"M4112,377.0 4112,352.0 4238.0,352.0 4238.0,377.0\" fill=\"none\" stroke=\"currentColor\"/>\n",
       "    <text dy=\"1.25em\" style=\"font-size: 0.8em; letter-spacing: 1px\">\n",
       "        <textPath xlink:href=\"#arrow-3387016bc45940b699e5cc133c533872-0-26\" class=\"displacy-label\" startOffset=\"50%\" side=\"left\" fill=\"currentColor\" text-anchor=\"middle\">nk</textPath>\n",
       "    </text>\n",
       "    <path class=\"displacy-arrowhead\" d=\"M4112,379.0 L4108,371.0 4116,371.0\" fill=\"currentColor\"/>\n",
       "</g>\n",
       "\n",
       "<g class=\"displacy-arrow\">\n",
       "    <path class=\"displacy-arc\" id=\"arrow-3387016bc45940b699e5cc133c533872-0-27\" stroke-width=\"2px\" d=\"M3212,377.0 3212,302.0 4244.0,302.0 4244.0,377.0\" fill=\"none\" stroke=\"currentColor\"/>\n",
       "    <text dy=\"1.25em\" style=\"font-size: 0.8em; letter-spacing: 1px\">\n",
       "        <textPath xlink:href=\"#arrow-3387016bc45940b699e5cc133c533872-0-27\" class=\"displacy-label\" startOffset=\"50%\" side=\"left\" fill=\"currentColor\" text-anchor=\"middle\">cj</textPath>\n",
       "    </text>\n",
       "    <path class=\"displacy-arrowhead\" d=\"M4244.0,379.0 L4248.0,371.0 4240.0,371.0\" fill=\"currentColor\"/>\n",
       "</g>\n",
       "\n",
       "<g class=\"displacy-arrow\">\n",
       "    <path class=\"displacy-arc\" id=\"arrow-3387016bc45940b699e5cc133c533872-0-28\" stroke-width=\"2px\" d=\"M4412,377.0 4412,352.0 4538.0,352.0 4538.0,377.0\" fill=\"none\" stroke=\"currentColor\"/>\n",
       "    <text dy=\"1.25em\" style=\"font-size: 0.8em; letter-spacing: 1px\">\n",
       "        <textPath xlink:href=\"#arrow-3387016bc45940b699e5cc133c533872-0-28\" class=\"displacy-label\" startOffset=\"50%\" side=\"left\" fill=\"currentColor\" text-anchor=\"middle\">nk</textPath>\n",
       "    </text>\n",
       "    <path class=\"displacy-arrowhead\" d=\"M4412,379.0 L4408,371.0 4416,371.0\" fill=\"currentColor\"/>\n",
       "</g>\n",
       "\n",
       "<g class=\"displacy-arrow\">\n",
       "    <path class=\"displacy-arc\" id=\"arrow-3387016bc45940b699e5cc133c533872-0-29\" stroke-width=\"2px\" d=\"M4262,377.0 4262,327.0 4541.0,327.0 4541.0,377.0\" fill=\"none\" stroke=\"currentColor\"/>\n",
       "    <text dy=\"1.25em\" style=\"font-size: 0.8em; letter-spacing: 1px\">\n",
       "        <textPath xlink:href=\"#arrow-3387016bc45940b699e5cc133c533872-0-29\" class=\"displacy-label\" startOffset=\"50%\" side=\"left\" fill=\"currentColor\" text-anchor=\"middle\">ag</textPath>\n",
       "    </text>\n",
       "    <path class=\"displacy-arrowhead\" d=\"M4541.0,379.0 L4545.0,371.0 4537.0,371.0\" fill=\"currentColor\"/>\n",
       "</g>\n",
       "\n",
       "<g class=\"displacy-arrow\">\n",
       "    <path class=\"displacy-arc\" id=\"arrow-3387016bc45940b699e5cc133c533872-0-30\" stroke-width=\"2px\" d=\"M4712,377.0 4712,327.0 4991.0,327.0 4991.0,377.0\" fill=\"none\" stroke=\"currentColor\"/>\n",
       "    <text dy=\"1.25em\" style=\"font-size: 0.8em; letter-spacing: 1px\">\n",
       "        <textPath xlink:href=\"#arrow-3387016bc45940b699e5cc133c533872-0-30\" class=\"displacy-label\" startOffset=\"50%\" side=\"left\" fill=\"currentColor\" text-anchor=\"middle\">mo</textPath>\n",
       "    </text>\n",
       "    <path class=\"displacy-arrowhead\" d=\"M4712,379.0 L4708,371.0 4716,371.0\" fill=\"currentColor\"/>\n",
       "</g>\n",
       "\n",
       "<g class=\"displacy-arrow\">\n",
       "    <path class=\"displacy-arc\" id=\"arrow-3387016bc45940b699e5cc133c533872-0-31\" stroke-width=\"2px\" d=\"M4862,377.0 4862,352.0 4988.0,352.0 4988.0,377.0\" fill=\"none\" stroke=\"currentColor\"/>\n",
       "    <text dy=\"1.25em\" style=\"font-size: 0.8em; letter-spacing: 1px\">\n",
       "        <textPath xlink:href=\"#arrow-3387016bc45940b699e5cc133c533872-0-31\" class=\"displacy-label\" startOffset=\"50%\" side=\"left\" fill=\"currentColor\" text-anchor=\"middle\">nk</textPath>\n",
       "    </text>\n",
       "    <path class=\"displacy-arrowhead\" d=\"M4862,379.0 L4858,371.0 4866,371.0\" fill=\"currentColor\"/>\n",
       "</g>\n",
       "\n",
       "<g class=\"displacy-arrow\">\n",
       "    <path class=\"displacy-arc\" id=\"arrow-3387016bc45940b699e5cc133c533872-0-32\" stroke-width=\"2px\" d=\"M4262,377.0 4262,302.0 4994.0,302.0 4994.0,377.0\" fill=\"none\" stroke=\"currentColor\"/>\n",
       "    <text dy=\"1.25em\" style=\"font-size: 0.8em; letter-spacing: 1px\">\n",
       "        <textPath xlink:href=\"#arrow-3387016bc45940b699e5cc133c533872-0-32\" class=\"displacy-label\" startOffset=\"50%\" side=\"left\" fill=\"currentColor\" text-anchor=\"middle\">app</textPath>\n",
       "    </text>\n",
       "    <path class=\"displacy-arrowhead\" d=\"M4994.0,379.0 L4998.0,371.0 4990.0,371.0\" fill=\"currentColor\"/>\n",
       "</g>\n",
       "\n",
       "<g class=\"displacy-arrow\">\n",
       "    <path class=\"displacy-arc\" id=\"arrow-3387016bc45940b699e5cc133c533872-0-33\" stroke-width=\"2px\" d=\"M5162,377.0 5162,277.0 6647.0,277.0 6647.0,377.0\" fill=\"none\" stroke=\"currentColor\"/>\n",
       "    <text dy=\"1.25em\" style=\"font-size: 0.8em; letter-spacing: 1px\">\n",
       "        <textPath xlink:href=\"#arrow-3387016bc45940b699e5cc133c533872-0-33\" class=\"displacy-label\" startOffset=\"50%\" side=\"left\" fill=\"currentColor\" text-anchor=\"middle\">oc</textPath>\n",
       "    </text>\n",
       "    <path class=\"displacy-arrowhead\" d=\"M5162,379.0 L5158,371.0 5166,371.0\" fill=\"currentColor\"/>\n",
       "</g>\n",
       "\n",
       "<g class=\"displacy-arrow\">\n",
       "    <path class=\"displacy-arc\" id=\"arrow-3387016bc45940b699e5cc133c533872-0-34\" stroke-width=\"2px\" d=\"M5312,377.0 5312,352.0 5438.0,352.0 5438.0,377.0\" fill=\"none\" stroke=\"currentColor\"/>\n",
       "    <text dy=\"1.25em\" style=\"font-size: 0.8em; letter-spacing: 1px\">\n",
       "        <textPath xlink:href=\"#arrow-3387016bc45940b699e5cc133c533872-0-34\" class=\"displacy-label\" startOffset=\"50%\" side=\"left\" fill=\"currentColor\" text-anchor=\"middle\">nk</textPath>\n",
       "    </text>\n",
       "    <path class=\"displacy-arrowhead\" d=\"M5312,379.0 L5308,371.0 5316,371.0\" fill=\"currentColor\"/>\n",
       "</g>\n",
       "\n",
       "<g class=\"displacy-arrow\">\n",
       "    <path class=\"displacy-arc\" id=\"arrow-3387016bc45940b699e5cc133c533872-0-35\" stroke-width=\"2px\" d=\"M5162,377.0 5162,327.0 5441.0,327.0 5441.0,377.0\" fill=\"none\" stroke=\"currentColor\"/>\n",
       "    <text dy=\"1.25em\" style=\"font-size: 0.8em; letter-spacing: 1px\">\n",
       "        <textPath xlink:href=\"#arrow-3387016bc45940b699e5cc133c533872-0-35\" class=\"displacy-label\" startOffset=\"50%\" side=\"left\" fill=\"currentColor\" text-anchor=\"middle\">pd</textPath>\n",
       "    </text>\n",
       "    <path class=\"displacy-arrowhead\" d=\"M5441.0,379.0 L5445.0,371.0 5437.0,371.0\" fill=\"currentColor\"/>\n",
       "</g>\n",
       "\n",
       "<g class=\"displacy-arrow\">\n",
       "    <path class=\"displacy-arc\" id=\"arrow-3387016bc45940b699e5cc133c533872-0-36\" stroke-width=\"2px\" d=\"M5462,377.0 5462,352.0 5588.0,352.0 5588.0,377.0\" fill=\"none\" stroke=\"currentColor\"/>\n",
       "    <text dy=\"1.25em\" style=\"font-size: 0.8em; letter-spacing: 1px\">\n",
       "        <textPath xlink:href=\"#arrow-3387016bc45940b699e5cc133c533872-0-36\" class=\"displacy-label\" startOffset=\"50%\" side=\"left\" fill=\"currentColor\" text-anchor=\"middle\">nk</textPath>\n",
       "    </text>\n",
       "    <path class=\"displacy-arrowhead\" d=\"M5588.0,379.0 L5592.0,371.0 5584.0,371.0\" fill=\"currentColor\"/>\n",
       "</g>\n",
       "\n",
       "<g class=\"displacy-arrow\">\n",
       "    <path class=\"displacy-arc\" id=\"arrow-3387016bc45940b699e5cc133c533872-0-37\" stroke-width=\"2px\" d=\"M5612,377.0 5612,352.0 5738.0,352.0 5738.0,377.0\" fill=\"none\" stroke=\"currentColor\"/>\n",
       "    <text dy=\"1.25em\" style=\"font-size: 0.8em; letter-spacing: 1px\">\n",
       "        <textPath xlink:href=\"#arrow-3387016bc45940b699e5cc133c533872-0-37\" class=\"displacy-label\" startOffset=\"50%\" side=\"left\" fill=\"currentColor\" text-anchor=\"middle\">nk</textPath>\n",
       "    </text>\n",
       "    <path class=\"displacy-arrowhead\" d=\"M5738.0,379.0 L5742.0,371.0 5734.0,371.0\" fill=\"currentColor\"/>\n",
       "</g>\n",
       "\n",
       "<g class=\"displacy-arrow\">\n",
       "    <path class=\"displacy-arc\" id=\"arrow-3387016bc45940b699e5cc133c533872-0-38\" stroke-width=\"2px\" d=\"M5162,377.0 5162,302.0 5894.0,302.0 5894.0,377.0\" fill=\"none\" stroke=\"currentColor\"/>\n",
       "    <text dy=\"1.25em\" style=\"font-size: 0.8em; letter-spacing: 1px\">\n",
       "        <textPath xlink:href=\"#arrow-3387016bc45940b699e5cc133c533872-0-38\" class=\"displacy-label\" startOffset=\"50%\" side=\"left\" fill=\"currentColor\" text-anchor=\"middle\">mo</textPath>\n",
       "    </text>\n",
       "    <path class=\"displacy-arrowhead\" d=\"M5894.0,379.0 L5898.0,371.0 5890.0,371.0\" fill=\"currentColor\"/>\n",
       "</g>\n",
       "\n",
       "<g class=\"displacy-arrow\">\n",
       "    <path class=\"displacy-arc\" id=\"arrow-3387016bc45940b699e5cc133c533872-0-39\" stroke-width=\"2px\" d=\"M6062,377.0 6062,352.0 6188.0,352.0 6188.0,377.0\" fill=\"none\" stroke=\"currentColor\"/>\n",
       "    <text dy=\"1.25em\" style=\"font-size: 0.8em; letter-spacing: 1px\">\n",
       "        <textPath xlink:href=\"#arrow-3387016bc45940b699e5cc133c533872-0-39\" class=\"displacy-label\" startOffset=\"50%\" side=\"left\" fill=\"currentColor\" text-anchor=\"middle\">nk</textPath>\n",
       "    </text>\n",
       "    <path class=\"displacy-arrowhead\" d=\"M6062,379.0 L6058,371.0 6066,371.0\" fill=\"currentColor\"/>\n",
       "</g>\n",
       "\n",
       "<g class=\"displacy-arrow\">\n",
       "    <path class=\"displacy-arc\" id=\"arrow-3387016bc45940b699e5cc133c533872-0-40\" stroke-width=\"2px\" d=\"M5912,377.0 5912,327.0 6191.0,327.0 6191.0,377.0\" fill=\"none\" stroke=\"currentColor\"/>\n",
       "    <text dy=\"1.25em\" style=\"font-size: 0.8em; letter-spacing: 1px\">\n",
       "        <textPath xlink:href=\"#arrow-3387016bc45940b699e5cc133c533872-0-40\" class=\"displacy-label\" startOffset=\"50%\" side=\"left\" fill=\"currentColor\" text-anchor=\"middle\">nk</textPath>\n",
       "    </text>\n",
       "    <path class=\"displacy-arrowhead\" d=\"M6191.0,379.0 L6195.0,371.0 6187.0,371.0\" fill=\"currentColor\"/>\n",
       "</g>\n",
       "\n",
       "<g class=\"displacy-arrow\">\n",
       "    <path class=\"displacy-arc\" id=\"arrow-3387016bc45940b699e5cc133c533872-0-41\" stroke-width=\"2px\" d=\"M6212,377.0 6212,352.0 6338.0,352.0 6338.0,377.0\" fill=\"none\" stroke=\"currentColor\"/>\n",
       "    <text dy=\"1.25em\" style=\"font-size: 0.8em; letter-spacing: 1px\">\n",
       "        <textPath xlink:href=\"#arrow-3387016bc45940b699e5cc133c533872-0-41\" class=\"displacy-label\" startOffset=\"50%\" side=\"left\" fill=\"currentColor\" text-anchor=\"middle\">cd</textPath>\n",
       "    </text>\n",
       "    <path class=\"displacy-arrowhead\" d=\"M6338.0,379.0 L6342.0,371.0 6334.0,371.0\" fill=\"currentColor\"/>\n",
       "</g>\n",
       "\n",
       "<g class=\"displacy-arrow\">\n",
       "    <path class=\"displacy-arc\" id=\"arrow-3387016bc45940b699e5cc133c533872-0-42\" stroke-width=\"2px\" d=\"M6362,377.0 6362,352.0 6488.0,352.0 6488.0,377.0\" fill=\"none\" stroke=\"currentColor\"/>\n",
       "    <text dy=\"1.25em\" style=\"font-size: 0.8em; letter-spacing: 1px\">\n",
       "        <textPath xlink:href=\"#arrow-3387016bc45940b699e5cc133c533872-0-42\" class=\"displacy-label\" startOffset=\"50%\" side=\"left\" fill=\"currentColor\" text-anchor=\"middle\">cj</textPath>\n",
       "    </text>\n",
       "    <path class=\"displacy-arrowhead\" d=\"M6488.0,379.0 L6492.0,371.0 6484.0,371.0\" fill=\"currentColor\"/>\n",
       "</g>\n",
       "\n",
       "<g class=\"displacy-arrow\">\n",
       "    <path class=\"displacy-arc\" id=\"arrow-3387016bc45940b699e5cc133c533872-0-43\" stroke-width=\"2px\" d=\"M6662,377.0 6662,352.0 6788.0,352.0 6788.0,377.0\" fill=\"none\" stroke=\"currentColor\"/>\n",
       "    <text dy=\"1.25em\" style=\"font-size: 0.8em; letter-spacing: 1px\">\n",
       "        <textPath xlink:href=\"#arrow-3387016bc45940b699e5cc133c533872-0-43\" class=\"displacy-label\" startOffset=\"50%\" side=\"left\" fill=\"currentColor\" text-anchor=\"middle\">sb</textPath>\n",
       "    </text>\n",
       "    <path class=\"displacy-arrowhead\" d=\"M6788.0,379.0 L6792.0,371.0 6784.0,371.0\" fill=\"currentColor\"/>\n",
       "</g>\n",
       "\n",
       "<g class=\"displacy-arrow\">\n",
       "    <path class=\"displacy-arc\" id=\"arrow-3387016bc45940b699e5cc133c533872-0-44\" stroke-width=\"2px\" d=\"M6662,377.0 6662,327.0 6941.0,327.0 6941.0,377.0\" fill=\"none\" stroke=\"currentColor\"/>\n",
       "    <text dy=\"1.25em\" style=\"font-size: 0.8em; letter-spacing: 1px\">\n",
       "        <textPath xlink:href=\"#arrow-3387016bc45940b699e5cc133c533872-0-44\" class=\"displacy-label\" startOffset=\"50%\" side=\"left\" fill=\"currentColor\" text-anchor=\"middle\">mo</textPath>\n",
       "    </text>\n",
       "    <path class=\"displacy-arrowhead\" d=\"M6941.0,379.0 L6945.0,371.0 6937.0,371.0\" fill=\"currentColor\"/>\n",
       "</g>\n",
       "\n",
       "<g class=\"displacy-arrow\">\n",
       "    <path class=\"displacy-arc\" id=\"arrow-3387016bc45940b699e5cc133c533872-0-45\" stroke-width=\"2px\" d=\"M7112,377.0 7112,327.0 7391.0,327.0 7391.0,377.0\" fill=\"none\" stroke=\"currentColor\"/>\n",
       "    <text dy=\"1.25em\" style=\"font-size: 0.8em; letter-spacing: 1px\">\n",
       "        <textPath xlink:href=\"#arrow-3387016bc45940b699e5cc133c533872-0-45\" class=\"displacy-label\" startOffset=\"50%\" side=\"left\" fill=\"currentColor\" text-anchor=\"middle\">nk</textPath>\n",
       "    </text>\n",
       "    <path class=\"displacy-arrowhead\" d=\"M7112,379.0 L7108,371.0 7116,371.0\" fill=\"currentColor\"/>\n",
       "</g>\n",
       "\n",
       "<g class=\"displacy-arrow\">\n",
       "    <path class=\"displacy-arc\" id=\"arrow-3387016bc45940b699e5cc133c533872-0-46\" stroke-width=\"2px\" d=\"M7262,377.0 7262,352.0 7388.0,352.0 7388.0,377.0\" fill=\"none\" stroke=\"currentColor\"/>\n",
       "    <text dy=\"1.25em\" style=\"font-size: 0.8em; letter-spacing: 1px\">\n",
       "        <textPath xlink:href=\"#arrow-3387016bc45940b699e5cc133c533872-0-46\" class=\"displacy-label\" startOffset=\"50%\" side=\"left\" fill=\"currentColor\" text-anchor=\"middle\">nk</textPath>\n",
       "    </text>\n",
       "    <path class=\"displacy-arrowhead\" d=\"M7262,379.0 L7258,371.0 7266,371.0\" fill=\"currentColor\"/>\n",
       "</g>\n",
       "\n",
       "<g class=\"displacy-arrow\">\n",
       "    <path class=\"displacy-arc\" id=\"arrow-3387016bc45940b699e5cc133c533872-0-47\" stroke-width=\"2px\" d=\"M6962,377.0 6962,302.0 7394.0,302.0 7394.0,377.0\" fill=\"none\" stroke=\"currentColor\"/>\n",
       "    <text dy=\"1.25em\" style=\"font-size: 0.8em; letter-spacing: 1px\">\n",
       "        <textPath xlink:href=\"#arrow-3387016bc45940b699e5cc133c533872-0-47\" class=\"displacy-label\" startOffset=\"50%\" side=\"left\" fill=\"currentColor\" text-anchor=\"middle\">nk</textPath>\n",
       "    </text>\n",
       "    <path class=\"displacy-arrowhead\" d=\"M7394.0,379.0 L7398.0,371.0 7390.0,371.0\" fill=\"currentColor\"/>\n",
       "</g>\n",
       "\n",
       "<g class=\"displacy-arrow\">\n",
       "    <path class=\"displacy-arc\" id=\"arrow-3387016bc45940b699e5cc133c533872-0-48\" stroke-width=\"2px\" d=\"M7562,377.0 7562,352.0 7688.0,352.0 7688.0,377.0\" fill=\"none\" stroke=\"currentColor\"/>\n",
       "    <text dy=\"1.25em\" style=\"font-size: 0.8em; letter-spacing: 1px\">\n",
       "        <textPath xlink:href=\"#arrow-3387016bc45940b699e5cc133c533872-0-48\" class=\"displacy-label\" startOffset=\"50%\" side=\"left\" fill=\"currentColor\" text-anchor=\"middle\">sb</textPath>\n",
       "    </text>\n",
       "    <path class=\"displacy-arrowhead\" d=\"M7562,379.0 L7558,371.0 7566,371.0\" fill=\"currentColor\"/>\n",
       "</g>\n",
       "\n",
       "<g class=\"displacy-arrow\">\n",
       "    <path class=\"displacy-arc\" id=\"arrow-3387016bc45940b699e5cc133c533872-0-49\" stroke-width=\"2px\" d=\"M7712,377.0 7712,352.0 7838.0,352.0 7838.0,377.0\" fill=\"none\" stroke=\"currentColor\"/>\n",
       "    <text dy=\"1.25em\" style=\"font-size: 0.8em; letter-spacing: 1px\">\n",
       "        <textPath xlink:href=\"#arrow-3387016bc45940b699e5cc133c533872-0-49\" class=\"displacy-label\" startOffset=\"50%\" side=\"left\" fill=\"currentColor\" text-anchor=\"middle\">oa</textPath>\n",
       "    </text>\n",
       "    <path class=\"displacy-arrowhead\" d=\"M7838.0,379.0 L7842.0,371.0 7834.0,371.0\" fill=\"currentColor\"/>\n",
       "</g>\n",
       "\n",
       "<g class=\"displacy-arrow\">\n",
       "    <path class=\"displacy-arc\" id=\"arrow-3387016bc45940b699e5cc133c533872-0-50\" stroke-width=\"2px\" d=\"M7712,377.0 7712,327.0 7991.0,327.0 7991.0,377.0\" fill=\"none\" stroke=\"currentColor\"/>\n",
       "    <text dy=\"1.25em\" style=\"font-size: 0.8em; letter-spacing: 1px\">\n",
       "        <textPath xlink:href=\"#arrow-3387016bc45940b699e5cc133c533872-0-50\" class=\"displacy-label\" startOffset=\"50%\" side=\"left\" fill=\"currentColor\" text-anchor=\"middle\">mo</textPath>\n",
       "    </text>\n",
       "    <path class=\"displacy-arrowhead\" d=\"M7991.0,379.0 L7995.0,371.0 7987.0,371.0\" fill=\"currentColor\"/>\n",
       "</g>\n",
       "\n",
       "<g class=\"displacy-arrow\">\n",
       "    <path class=\"displacy-arc\" id=\"arrow-3387016bc45940b699e5cc133c533872-0-51\" stroke-width=\"2px\" d=\"M8162,377.0 8162,352.0 8288.0,352.0 8288.0,377.0\" fill=\"none\" stroke=\"currentColor\"/>\n",
       "    <text dy=\"1.25em\" style=\"font-size: 0.8em; letter-spacing: 1px\">\n",
       "        <textPath xlink:href=\"#arrow-3387016bc45940b699e5cc133c533872-0-51\" class=\"displacy-label\" startOffset=\"50%\" side=\"left\" fill=\"currentColor\" text-anchor=\"middle\">nk</textPath>\n",
       "    </text>\n",
       "    <path class=\"displacy-arrowhead\" d=\"M8162,379.0 L8158,371.0 8166,371.0\" fill=\"currentColor\"/>\n",
       "</g>\n",
       "\n",
       "<g class=\"displacy-arrow\">\n",
       "    <path class=\"displacy-arc\" id=\"arrow-3387016bc45940b699e5cc133c533872-0-52\" stroke-width=\"2px\" d=\"M8012,377.0 8012,327.0 8291.0,327.0 8291.0,377.0\" fill=\"none\" stroke=\"currentColor\"/>\n",
       "    <text dy=\"1.25em\" style=\"font-size: 0.8em; letter-spacing: 1px\">\n",
       "        <textPath xlink:href=\"#arrow-3387016bc45940b699e5cc133c533872-0-52\" class=\"displacy-label\" startOffset=\"50%\" side=\"left\" fill=\"currentColor\" text-anchor=\"middle\">nk</textPath>\n",
       "    </text>\n",
       "    <path class=\"displacy-arrowhead\" d=\"M8291.0,379.0 L8295.0,371.0 8287.0,371.0\" fill=\"currentColor\"/>\n",
       "</g>\n",
       "\n",
       "<g class=\"displacy-arrow\">\n",
       "    <path class=\"displacy-arc\" id=\"arrow-3387016bc45940b699e5cc133c533872-0-53\" stroke-width=\"2px\" d=\"M8462,377.0 8462,352.0 8588.0,352.0 8588.0,377.0\" fill=\"none\" stroke=\"currentColor\"/>\n",
       "    <text dy=\"1.25em\" style=\"font-size: 0.8em; letter-spacing: 1px\">\n",
       "        <textPath xlink:href=\"#arrow-3387016bc45940b699e5cc133c533872-0-53\" class=\"displacy-label\" startOffset=\"50%\" side=\"left\" fill=\"currentColor\" text-anchor=\"middle\">nk</textPath>\n",
       "    </text>\n",
       "    <path class=\"displacy-arrowhead\" d=\"M8462,379.0 L8458,371.0 8466,371.0\" fill=\"currentColor\"/>\n",
       "</g>\n",
       "\n",
       "<g class=\"displacy-arrow\">\n",
       "    <path class=\"displacy-arc\" id=\"arrow-3387016bc45940b699e5cc133c533872-0-54\" stroke-width=\"2px\" d=\"M8312,377.0 8312,327.0 8591.0,327.0 8591.0,377.0\" fill=\"none\" stroke=\"currentColor\"/>\n",
       "    <text dy=\"1.25em\" style=\"font-size: 0.8em; letter-spacing: 1px\">\n",
       "        <textPath xlink:href=\"#arrow-3387016bc45940b699e5cc133c533872-0-54\" class=\"displacy-label\" startOffset=\"50%\" side=\"left\" fill=\"currentColor\" text-anchor=\"middle\">ag</textPath>\n",
       "    </text>\n",
       "    <path class=\"displacy-arrowhead\" d=\"M8591.0,379.0 L8595.0,371.0 8587.0,371.0\" fill=\"currentColor\"/>\n",
       "</g>\n",
       "</svg></span>"
      ],
      "text/plain": [
       "<IPython.core.display.HTML object>"
      ]
     },
     "metadata": {},
     "output_type": "display_data"
    }
   ],
   "source": [
    "sentence = \"Präsident Wolodymyr Selenskyj hat nach seinem Besuch in Warschau betont, wie wichtig solche Zusammenkünfte für die Sicherheit seines Landes sind. »Die Verteidigung und der Schutz unseres Volkes, die Unterstützung unserer Widerstandsfähigkeit, insbesondere unserer Soldaten, ist das Thema Nummer eins bei allen Verhandlungen und Treffen«, sagte Selenskyj in seiner allabendlichen Videoansprache. Er dankte Polen für die Möglichkeit des Besuchs.\"\n",
    "print_dependency_diagram(sentence)"
   ]
  },
  {
   "cell_type": "markdown",
   "id": "ba5d9e92",
   "metadata": {},
   "source": [
    "# Indirekte Rede"
   ]
  },
  {
   "cell_type": "code",
   "execution_count": 40,
   "id": "6b42d96e",
   "metadata": {},
   "outputs": [],
   "source": [
    "sentence = \"Macron sagte zu Xi dass die Aggression der Stabilität einen Schlag versetzt habe.\""
   ]
  },
  {
   "cell_type": "code",
   "execution_count": 41,
   "id": "969ec2fd",
   "metadata": {},
   "outputs": [
    {
     "name": "stdout",
     "output_type": "stream",
     "text": [
      "sagte\n"
     ]
    },
    {
     "data": {
      "text/plain": [
       "[Citation(position_in_text=7, citation='dass die Aggression der Stabilität einen Schlag versetzt habe', subject='Macron', citation_verb='sagte', citation_type=<CitationType.SYNTACTIC: 1>)]"
      ]
     },
     "execution_count": 41,
     "metadata": {},
     "output_type": "execute_result"
    }
   ],
   "source": [
    "get_syntactic_quotes_from_str(sentence)"
   ]
  },
  {
   "cell_type": "code",
   "execution_count": 42,
   "id": "065f8803",
   "metadata": {},
   "outputs": [
    {
     "name": "stdout",
     "output_type": "stream",
     "text": [
      "                        sagte_ROOT                                                \n",
      "     _______________________|_________                                             \n",
      "    |        |      |              habe_oc                                        \n",
      "    |        |      |        _________|_____________________________________       \n",
      "    |        |      |       |              Aggression_sb               versetzt_oc\n",
      "    |        |      |       |          __________|_____________             |      \n",
      "    |        |    zu_mo     |         |                  Stabilität_ag  Schlag_oa \n",
      "    |        |      |       |         |                        |            |      \n",
      "Macron_sb ._punct Xi_nk  dass_cp    die_nk                   der_nk      einen_nk \n",
      "\n"
     ]
    },
    {
     "data": {
      "text/plain": [
       "[None]"
      ]
     },
     "execution_count": 42,
     "metadata": {},
     "output_type": "execute_result"
    }
   ],
   "source": [
    "to_nltk_tree(sentence)"
   ]
  },
  {
   "cell_type": "markdown",
   "id": "d5a2b7d4",
   "metadata": {},
   "source": [
    "# 20min Artikel\n",
    "https://www.20min.ch/story/frau-wird-von-auto-ueberrollt-meine-tochter-hat-sie-schreien-gehoert-839730623558"
   ]
  },
  {
   "cell_type": "code",
   "execution_count": 43,
   "id": "e9d93fc1",
   "metadata": {},
   "outputs": [
    {
     "name": "stdout",
     "output_type": "stream",
     "text": [
      "sagt\n"
     ]
    },
    {
     "data": {
      "text/plain": [
       "[Citation(position_in_text=1075, citation='«Meine Tochter ist nachts aufgewacht, weil sie eine Frau schreien gehört hat', subject='Ein Anwohner', citation_verb='sagt', citation_type=<CitationType.SYNTACTIC: 1>)]"
      ]
     },
     "execution_count": 43,
     "metadata": {},
     "output_type": "execute_result"
    }
   ],
   "source": [
    "article = \"\"\"\n",
    "In der Nacht auf Samstag, um zirka 1.15 Uhr, wurde der Kantonspolizei Solothurn gemeldet, dass im Bereich der Kaselfeldstrasse in Bellach SO ein Auto von der Strasse abgekommen und ins dortige Wiesland gefahren sei. Beim Eintreffen der Polizei konnte das Auto in der Wiese angetroffen werden, ebenfalls vor Ort war der mutmassliche Fahrzeuglenker. Wie die Kapo SO mitteilt, lag unter dem Auto eine Frau, bei welcher nur noch deren Tod festgestellt werden konnte.\n",
    "\n",
    "Die Polizei und die Staatsanwaltschaft Solothurn haben umgehend Ermittlungen zum Hergang und den Umständen eingeleitet. Nebst mehreren Patrouillen und Spezialdiensten der Kantonspolizei Solothurn, standen die Staatsanwaltschaft Kanton Solothurn, der Rettungsdienst, Angehörige der Feuerwehr Bellach, Angehörige der Kantonspolizei Bern, ein Institut für Rechtsmedizin, ein Care-Team und ein Abschleppunternehmen im Einsatz.\n",
    "\n",
    "Personen, die sachdienliche Angaben zu diesem Ereignis machen können, werden gebeten, sich mit der Kantonspolizei Solothurn in Verbindung zu setzen, Telefon 032 627 70 00.\n",
    "\n",
    "Ein Anwohner sagt gegenüber 20 Minuten: «Meine Tochter ist nachts aufgewacht, weil sie eine Frau schreien gehört hat.»  \n",
    "\"\"\"\n",
    "\n",
    "get_syntactic_quotes_from_str(article)"
   ]
  },
  {
   "cell_type": "code",
   "execution_count": 44,
   "id": "a2a8de20",
   "metadata": {},
   "outputs": [
    {
     "name": "stdout",
     "output_type": "stream",
     "text": [
      "sagt\n"
     ]
    },
    {
     "data": {
      "text/plain": [
       "[Citation(position_in_text=407, citation='«Wir wissen nicht, ob und wenn ja, wie viele Leute verschüttet wurden»', subject='ein Sprecher', citation_verb='sagt', citation_type=<CitationType.SYNTACTIC: 1>)]"
      ]
     },
     "execution_count": 44,
     "metadata": {},
     "output_type": "execute_result"
    }
   ],
   "source": [
    "article = \"\"\"\n",
    "Wie das Portal «Walliser Bote» berichtet, ist die Lawine am Samstagmorgen im Saastal im Gebiet «Alphubel» niedergegangen. Die Kantonspolizei Wallis spricht auf Anfrage von 20 Minuten von einem «grossen Lawinenniedergang», derzeit läuft ein Grosseinsatz. Es stünden fünf Helikopter und die Feuerwehr im Einsatz, so die Kantonspolizei. «Wir wissen nicht, ob und wenn ja, wie viele Leute verschüttet wurden», sagt ein Sprecher.\n",
    "\n",
    "Die Nachrichtenagentur DPA berichtet, dass die Lawine ausserhalb der markierten Piste abgegangen sei. Es habe zunächst keine Vermisstenmeldungen gegeben, möglich sei aber, dass vier oder fünf Personen verschüttet wurden. Zwei Personen hätten ohne grössere Verletzungen befreit werden können, berichtet die Polizei.\n",
    "\"\"\"\n",
    "\n",
    "\n",
    "get_syntactic_quotes_from_str(article)"
   ]
  },
  {
   "cell_type": "code",
   "execution_count": 45,
   "id": "51cb0017",
   "metadata": {},
   "outputs": [
    {
     "name": "stdout",
     "output_type": "stream",
     "text": [
      "sagt\n"
     ]
    },
    {
     "data": {
      "text/plain": [
       "[Citation(position_in_text=1738, citation='«Derjenige, der ein Fahrzeug verleiht, kann sich strafbar machen, wenn er sich nicht vergewissert, dass derjenige auch eine Fahrerlaubnis besitzt, an den das Fahrzeug verliehen wird»', subject='der stellvertretende Leiter der Staatsanwaltschaft Mühlhausen', citation_verb='sagt', citation_type=<CitationType.SYNTACTIC: 1>)]"
      ]
     },
     "execution_count": 45,
     "metadata": {},
     "output_type": "execute_result"
    }
   ],
   "source": [
    "article = \"\"\"\n",
    "Sieben Menschen haben ihr Leben bei einem Verkehrsunfall am vergangenen Samstag in Thüringen (D) verloren. Unter den Todesopfern befinden sich fünf 19-Jährige, die in ihrem Wagen verbrannten. Neben den Teenagern im Mercedes starben der 60-jährige Fahrer des VW und ein Insasse des BMW. Nun gibt es neue Erkenntnisse, wie der Unfall ablief.\n",
    "\n",
    "Laut der «Bild»-Zeitung soll der betrunkene 34-jährige Unfallfahrer, der zuerst für den Beifahrer gehalten wurde, den BMW privat geliehen haben und damit in der langgezogenen Linkskurve nach rechts von der Fahrbahn abgekommen sein. Der Fahrer soll dann damit reagiert haben, dass er nach links gelenkt hatte, und geriet dadurch auf die Gegenfahrbahn, auf der er in den entgegenkommenden Mercedes raste. Das Fahrzeug ging in Flammen auf, fünf Teenager sind gestorben. \n",
    "\n",
    "Hinter dem Mercedes folgte ein 60-Jähriger mit seinem VW Caddy. Er konnte nicht mehr bremsen und krachte in der Folge in den Mercedes, auch der VW fing Feuer und der Fahrer verstarb. Die 73-jährige Beifahrerin konnte sich aus dem Wrack retten und überlebte mit einem Rippenbruch, Nackenschmerzen und einer Brandverletzung an der Hand. \n",
    "\n",
    "Weshalb der Mercedes sofort in Brand geriet, ist bisher nicht bekannt. Laut der «Bild» fing der VW Feuer, da der Tank abgerissen wurde und sich das Benzin entzündete. Der Unfallverursacher, der ohne Führerschein unterwegs war, schwebt noch immer in Lebensgefahr. Sein 45-jähriger Beifahrer überlebte den Crash. Ein 44-Jähriger in dem BMW starb. Der Besitzer des geliehenen BMW könnte eine Strafe erwarten. «Derjenige, der ein Fahrzeug verleiht, kann sich strafbar machen, wenn er sich nicht vergewissert, dass derjenige auch eine Fahrerlaubnis besitzt, an den das Fahrzeug verliehen wird», sagt der stellvertretende Leiter der Staatsanwaltschaft Mühlhausen gegenüber der «Bild». Es müsse nun geprüft werden, ob ein «Gestatten des Fahrens ohne Fahrerlaubnis» vorliege. \n",
    "\"\"\"\n",
    "\n",
    "get_syntactic_quotes_from_str(article)"
   ]
  },
  {
   "cell_type": "code",
   "execution_count": 46,
   "id": "50090ee7",
   "metadata": {},
   "outputs": [
    {
     "data": {
      "text/plain": [
       "[]"
      ]
     },
     "execution_count": 46,
     "metadata": {},
     "output_type": "execute_result"
    }
   ],
   "source": [
    "article = \"\"\"Mittlerweile wohnt Schenkel im Hotel Wartmann, beim Hauptbahnhof in Winterthur. «Ich muss den Gürtel enger schnallen, auch das Mietauto habe ich abgegeben», so der 70-Jährige. «Wenn ich bis dann keinen Job finde, muss ich in den sauren Apfel beissen und nach Berg am Irchel ziehen.» Dort habe er in einer Wohnung auch einen Grossteil seiner Sachen, unter anderem Familienerbstücke, wie das Inventar aus dem Restaurant Rossberg, wie der «Landbote» schreibt. «Es gibt da keine Infrastruktur, keine Läden, keine Bank und keine Post. Ich würde überschnappen.»\"\"\"\n",
    "get_syntactic_quotes_from_str(article)"
   ]
  },
  {
   "cell_type": "code",
   "execution_count": 47,
   "id": "46a95be1",
   "metadata": {
    "scrolled": false
   },
   "outputs": [
    {
     "name": "stdout",
     "output_type": "stream",
     "text": [
      "                            wohnt_ROOT                                    \n",
      "        ________________________|_________________________________         \n",
      "       |             |          |         |         |          beim_mo    \n",
      "       |             |          |         |         |             |        \n",
      "       |             |          |         |       im_mo    Hauptbahnhof_nk\n",
      "       |             |          |         |         |             |        \n",
      "       |             |          |         |      Hotel_nk       in_mnr    \n",
      "       |             |          |         |         |             |        \n",
      "Mittlerweile_mo Schenkel_sb  ,_punct   ._punct Wartmann_nk  Winterthur_nk \n",
      "\n",
      "                                      70-Jährige_ROOT                                                                                               \n",
      "   __________________________________________|___________                                                                                            \n",
      "  |       |                                            so_mo                                                                                        \n",
      "  |       |        ______________________________________|______________________                                                                     \n",
      "  |       |       |                                                          muss_re                                                                \n",
      "  |       |       |        _____________________________________________________|___________________________________                                 \n",
      "  |       |       |       |      |           |                 schnallen_oc                                      habe_cj                            \n",
      "  |       |       |       |      |           |            __________|___________                    ________________|________________                \n",
      "  |       |       |       |      |           |           |                  Gürtel_oa         Mietauto_sb                       abgegeben_oc        \n",
      "  |       |       |       |      |           |           |                      |         _________|________                _________|__________     \n",
      "der_nk ._punct ,_punct «_punct Ich_sb     ,_punct     enger_mo                den_nk  auch_mo             das_nk         ich_oa              »_punct\n",
      "\n",
      "                                               muss_ROOT                                                                                   \n",
      "    _______________________________________________|_____________________________________________________                                   \n",
      "   |       |      |       |       |                |                                                 beissen_oc                            \n",
      "   |       |      |       |       |                |                                  ___________________|__________________                \n",
      "   |       |      |       |       |                |                                 |                                    und_cd           \n",
      "   |       |      |       |       |                |                                 |                                      |               \n",
      "   |       |      |       |       |             finde_mo                           in_mo                                ziehen_cj          \n",
      "   |       |      |       |       |        ________|_________________                |                              ________|_________      \n",
      "   |       |      |       |       |       |        |      bis_mo   Job_oa         Apfel_nk                      nach_mo             am_mo  \n",
      "   |       |      |       |       |       |        |        |        |        _______|_________                    |                  |     \n",
      "«_punct ,_punct ich_sb ._punct »_punct Wenn_cp   ich_sb  dann_nk keinen_nk den_nk          sauren_nk            Berg_nk           Irchel_nk\n",
      "\n",
      "                                                                                                     habe_ROOT                                                                                              \n",
      "   ______________________________________________________________________________________________________|_______________________________                                                                    \n",
      "  |      |        |                            |                                                                                    schreibt_oc                                                             \n",
      "  |      |        |                            |                                                          _______________________________|____________________________________________________               \n",
      "  |      |        |                       Grossteil_oa                                                   |       |      |                       Inventar_sb                                   |             \n",
      "  |      |        |          __________________|________________________________                         |       |      |       _____________________|____________                            |              \n",
      "  |      |      in_mo       |       |          |           |             Familienerbstück                |       |      |      |                               aus_mnr                        |             \n",
      "  |      |        |         |       |          |           |                  e_par                      |       |      |      |                                  |                           |             \n",
      "  |      |        |         |       |          |           |         ___________|_____________           |       |      |      |                                  |                           |              \n",
      "  |      |    Wohnung_nk    |       |          |       Sachen_ag    |                      unter_mo      |       |      |      |                            Restaurant_nk                Landbote_sb        \n",
      "  |      |        |         |       |          |           |        |                         |          |       |      |      |          ________________________|__________        _________|_________     \n",
      "er_sb ._punct  einer_nk  auch_mo einen_nk   ,_punct    seiner_nk ,_punct                  anderem_nk  Dort_mo  wie_mo wie_mo das_nk    dem_nk                Rossberg_nk  ,_punct der_nk   «_punct   »_punct\n",
      "\n",
      "                            gibt_ROOT                                                            \n",
      "    ____________________________|____________________                                             \n",
      "   |      |     |      |                      Infrastruktur_oa                                   \n",
      "   |      |     |      |         ____________________|______________________________              \n",
      "   |      |     |      |        |        |           |            |              Bank_cj         \n",
      "   |      |     |      |        |        |           |            |         ________|_______      \n",
      "   |      |     |      |        |        |           |            |        |              und_cd \n",
      "   |      |     |      |        |        |           |            |        |                |     \n",
      "   |      |     |      |        |        |           |         Läden_cj    |             Post_cj \n",
      "   |      |     |      |        |        |           |            |        |                |     \n",
      "«_punct Es_ep da_mo ._punct  keine_nk ,_punct     ,_punct      keine_nk keine_nk         keine_nk\n",
      "\n",
      "          würde_ROOT           \n",
      "   ___________|____________     \n",
      "Ich_sb überschnappen_oc ._punct\n",
      "\n"
     ]
    },
    {
     "data": {
      "text/plain": [
       "[None, None, None, None, None, None, '»_ROOT']"
      ]
     },
     "execution_count": 47,
     "metadata": {},
     "output_type": "execute_result"
    }
   ],
   "source": [
    "to_nltk_tree(article)"
   ]
  },
  {
   "cell_type": "code",
   "execution_count": null,
   "id": "2d4dd55d",
   "metadata": {},
   "outputs": [],
   "source": []
  }
 ],
 "metadata": {
  "kernelspec": {
   "display_name": "Python 3 (ipykernel)",
   "language": "python",
   "name": "python3"
  },
  "language_info": {
   "codemirror_mode": {
    "name": "ipython",
    "version": 3
   },
   "file_extension": ".py",
   "mimetype": "text/x-python",
   "name": "python",
   "nbconvert_exporter": "python",
   "pygments_lexer": "ipython3",
   "version": "3.10.8"
  }
 },
 "nbformat": 4,
 "nbformat_minor": 5
}
