{
 "cells": [
  {
   "cell_type": "code",
   "execution_count": 8,
   "metadata": {},
   "outputs": [],
   "source": [
    "def remove_duplicates(lst):\n",
    "    \"\"\"\n",
    "    Remove duplicates from a list of string arrays\n",
    "    \"\"\"\n",
    "    result = []\n",
    "    for arr in lst:\n",
    "        if not any(set(arr) <= set(x) for x in result):\n",
    "            result.append(arr)\n",
    "    return result"
   ]
  },
  {
   "cell_type": "code",
   "execution_count": 71,
   "metadata": {},
   "outputs": [
    {
     "name": "stdout",
     "output_type": "stream",
     "text": [
      "[['Sex'], ['Marlène', 'Schiappa'], ['Schiappas'], ['Élisabeth', 'Borne']]\n"
     ]
    }
   ],
   "source": [
    "original_list = [['Sex'],\n",
    "                 ['Marlène', 'Schiappa'],\n",
    "                 ['Schiappa'],\n",
    "                 ['Schiappas'],\n",
    "                 ['Élisabeth', 'Borne'],\n",
    "                 ['Borne']]\n",
    "\n",
    "unique_list = []\n",
    "for sublist in original_list:\n",
    "    is_duplicate = False\n",
    "    for unique_sublist in unique_list:\n",
    "        if all(name in unique_sublist for name in sublist) or all(name in sublist for name in unique_sublist):\n",
    "            unique_sublist.extend([name for name in sublist if name not in unique_sublist])\n",
    "            is_duplicate = True\n",
    "            break\n",
    "    if not is_duplicate:\n",
    "        unique_list.append(sublist)\n",
    "\n",
    "print(unique_list)"
   ]
  },
  {
   "cell_type": "code",
   "execution_count": 72,
   "metadata": {},
   "outputs": [
    {
     "name": "stdout",
     "output_type": "stream",
     "text": [
      "[['Sex'], ['Marlène', 'Schiappa'], ['Schiappas'], ['Élisabeth', 'Borne']]\n"
     ]
    }
   ],
   "source": [
    "original_list = [['Sex'],\n",
    "                 ['Marlène', 'Schiappa'],\n",
    "                 ['Schiappa'],\n",
    "                 ['Schiappas'],\n",
    "                 ['Élisabeth', 'Borne'],\n",
    "                 ['Borne']]\n",
    "\n",
    "unique_list = []\n",
    "for sublist in original_list:\n",
    "    is_duplicate = False\n",
    "    for unique_sublist in unique_list:\n",
    "        if all(name in unique_sublist for name in sublist) or \\\n",
    "           all(name in sublist for name in unique_sublist):\n",
    "            is_duplicate = True\n",
    "            if len(sublist) > len(unique_sublist):\n",
    "                unique_list.remove(unique_sublist)\n",
    "                unique_list.append(sublist)\n",
    "            break\n",
    "    if not is_duplicate:\n",
    "        unique_list.append(sublist)\n",
    "\n",
    "print(unique_list)"
   ]
  },
  {
   "cell_type": "code",
   "execution_count": 73,
   "metadata": {},
   "outputs": [
    {
     "name": "stdout",
     "output_type": "stream",
     "text": [
      "[['Sex'], ['Marlène', 'Schiappa'], ['Schiappas'], ['Élisabeth', 'Borne']]\n"
     ]
    }
   ],
   "source": [
    "original_list = [['Sex'],\n",
    "                 ['Marlène', 'Schiappa'],\n",
    "                 ['Schiappa'],\n",
    "                 ['Schiappas'],\n",
    "                 ['Élisabeth', 'Borne'],\n",
    "                 ['Borne']]\n",
    "\n",
    "unique_list = []\n",
    "for sublist in original_list:\n",
    "    is_duplicate = False\n",
    "    for unique_sublist in unique_list:\n",
    "        if all(name in unique_sublist for name in sublist) or \\\n",
    "           all(name in sublist for name in unique_sublist):\n",
    "            is_duplicate = True\n",
    "            if len(sublist) > len(unique_sublist):\n",
    "                unique_list.remove(unique_sublist)\n",
    "                unique_list.append(sublist)\n",
    "            break\n",
    "    if not is_duplicate:\n",
    "        unique_list.append(sublist)\n",
    "\n",
    "final_list = []\n",
    "for sublist in unique_list:\n",
    "    is_duplicate = False\n",
    "    for other_sublist in unique_list:\n",
    "        if sublist != other_sublist and all(name in other_sublist for name in sublist):\n",
    "            is_duplicate = True\n",
    "            break\n",
    "    if not is_duplicate:\n",
    "        final_list.append(sublist)\n",
    "\n",
    "print(final_list)"
   ]
  },
  {
   "cell_type": "code",
   "execution_count": 3,
   "metadata": {},
   "outputs": [
    {
     "name": "stdout",
     "output_type": "stream",
     "text": [
      "[['Sex'], ['Marlène', 'Schiappa'], ['Schiappas'], ['Élisabeth', 'Borne']]\n"
     ]
    }
   ],
   "source": [
    "input_lst = [['Sex'],\n",
    "                 ['Marlène', 'Schiappa'],\n",
    "                 ['Schiappa'],\n",
    "                 ['Schiappas'],\n",
    "                 ['Élisabeth', 'Borne'],\n",
    "                 ['Borne']]\n",
    "output_lst = remove_duplicates(input_lst)\n",
    "print(output_lst)  # [['Sex'], ['Marlène', 'Schiappa'], ['Élisabeth', 'Borne']]\n"
   ]
  },
  {
   "cell_type": "code",
   "execution_count": null,
   "metadata": {},
   "outputs": [],
   "source": [
    "input_lst = [['Sex'],\n",
    "                 ['Marlène', 'Schiappa'],\n",
    "                 ['Schiappa'],\n",
    "                 ['Schiappas'],\n",
    "                 ['Élisabeth', 'Borne'],\n",
    "                 ['Borne'], \n",
    "                 ['Simonet'], \n",
    "                 ['Sandro', 'Simonet']]\n",
    "output_lst = remove_duplicates(input_lst)\n",
    "print(output_lst)  # [['Sex'], ['Marlène', 'Schiappa'], ['Élisabeth', 'Borne']]\n",
    "# [['Sex'], ['Marlène', 'Schiappa'], ['Schiappas'], ['Élisabeth', 'Borne'], ['Sandro', 'Simonet']]\n",
    "# [['Sex'], ['Marlène', 'Schiappa'], ['Élisabeth', 'Borne'], ['Sandro', 'Simonet']]"
   ]
  }
 ],
 "metadata": {
  "kernelspec": {
   "display_name": "Project2",
   "language": "python",
   "name": "python3"
  },
  "language_info": {
   "codemirror_mode": {
    "name": "ipython",
    "version": 3
   },
   "file_extension": ".py",
   "mimetype": "text/x-python",
   "name": "python",
   "nbconvert_exporter": "python",
   "pygments_lexer": "ipython3",
   "version": "3.10.8"
  },
  "orig_nbformat": 4
 },
 "nbformat": 4,
 "nbformat_minor": 2
}
