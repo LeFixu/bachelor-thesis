{
 "cells": [
  {
   "attachments": {},
   "cell_type": "markdown",
   "metadata": {},
   "source": [
    "# Use spaCy NER to find People"
   ]
  },
  {
   "attachments": {},
   "cell_type": "markdown",
   "metadata": {},
   "source": [
    "https://www.analyticsvidhya.com/blog/2021/06/nlp-application-named-entity-recognition-ner-in-python-with-spacy/\n",
    "\n",
    "Einmalig vorher in Powershell Promt : `python -m spacy download de_core_news_lg`"
   ]
  },
  {
   "cell_type": "code",
   "execution_count": 1,
   "metadata": {},
   "outputs": [
    {
     "name": "stdout",
     "output_type": "stream",
     "text": [
      "<class 'tuple'>\n",
      "Meyer PER\n",
      "Urs Rohner PER\n"
     ]
    }
   ],
   "source": [
    "import spacy\n",
    "\n",
    "NER = spacy.load(\"de_core_news_lg\")\n",
    "\n",
    "raw_text = f'Meyer entgegnet: «Dieser Unterschied macht gerade dann viel aus, wenn eine Bank hopsgeht. Gerade deshalb ist es wichtig, wenn eine Bank auch einen grossen Teil vom Risiko selbst trägt.» Weiter sagt sie: «Gerade, weil Ex-CS-Chef Urs Rohner wusste, dass er ein hohes Risiko eingehen kann – und seine Bank im schlimmsten Fall vom Staat gerettet wird, dann bin ich fein raus.»'\n",
    "\n",
    "result= NER(raw_text)\n",
    "\n",
    "print(type(result.ents))\n",
    "\n",
    "for word in result.ents:\n",
    "        print(word.text,word.label_)"
   ]
  },
  {
   "attachments": {},
   "cell_type": "markdown",
   "metadata": {},
   "source": [
    "## visualize result"
   ]
  },
  {
   "cell_type": "code",
   "execution_count": 5,
   "metadata": {},
   "outputs": [
    {
     "data": {
      "text/html": [
       "<span class=\"tex2jax_ignore\"><div class=\"entities\" style=\"line-height: 2.5; direction: ltr\">\n",
       "<mark class=\"entity\" style=\"background: #ddd; padding: 0.45em 0.6em; margin: 0 0.25em; line-height: 1; border-radius: 0.35em;\">\n",
       "    Meyer\n",
       "    <span style=\"font-size: 0.8em; font-weight: bold; line-height: 1; border-radius: 0.35em; vertical-align: middle; margin-left: 0.5rem\">PER</span>\n",
       "</mark>\n",
       " entgegnet: «Dieser Unterschied macht gerade dann viel aus, wenn eine Bank hopsgeht. Gerade deshalb ist es wichtig, wenn eine Bank auch einen grossen Teil vom Risiko selbst trägt.» Weiter sagt sie: «Gerade, weil Ex-CS-Chef \n",
       "<mark class=\"entity\" style=\"background: #ddd; padding: 0.45em 0.6em; margin: 0 0.25em; line-height: 1; border-radius: 0.35em;\">\n",
       "    Urs Rohner\n",
       "    <span style=\"font-size: 0.8em; font-weight: bold; line-height: 1; border-radius: 0.35em; vertical-align: middle; margin-left: 0.5rem\">PER</span>\n",
       "</mark>\n",
       " wusste, dass er ein hohes Risiko eingehen kann – und seine Bank im schlimmsten Fall vom Staat gerettet wird, dann bin ich fein raus.»</div></span>"
      ],
      "text/plain": [
       "<IPython.core.display.HTML object>"
      ]
     },
     "metadata": {},
     "output_type": "display_data"
    }
   ],
   "source": [
    "from spacy import displacy\n",
    "\n",
    "displacy.render(text1,style=\"ent\",jupyter=True)\n",
    "\n",
    "# fuer Bild mit weisem hintergrund im Browser\n",
    "# displacy.serve(text1,style=\"ent\") # open http://localhost:5000/"
   ]
  }
 ],
 "metadata": {
  "kernelspec": {
   "display_name": "Project2",
   "language": "python",
   "name": "python3"
  },
  "language_info": {
   "codemirror_mode": {
    "name": "ipython",
    "version": 3
   },
   "file_extension": ".py",
   "mimetype": "text/x-python",
   "name": "python",
   "nbconvert_exporter": "python",
   "pygments_lexer": "ipython3",
   "version": "3.10.8"
  },
  "orig_nbformat": 4
 },
 "nbformat": 4,
 "nbformat_minor": 2
}
