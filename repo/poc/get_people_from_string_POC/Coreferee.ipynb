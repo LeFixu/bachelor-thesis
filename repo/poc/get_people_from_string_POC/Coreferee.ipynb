{
 "cells": [
  {
   "attachments": {},
   "cell_type": "markdown",
   "metadata": {},
   "source": [
    "# spaCy Coreferee with NER to make Coreference Resolution"
   ]
  },
  {
   "attachments": {},
   "cell_type": "markdown",
   "metadata": {},
   "source": [
    "https://spacy.io/universe/project/coreferee\n",
    "\n",
    "\n",
    "Einmalig vorher in Python console : `pip install coreferee`\n",
    "\n",
    "Einmalig vorher in Powershell Promt : `python -m coreferee install de`"
   ]
  },
  {
   "cell_type": "code",
   "execution_count": 3,
   "metadata": {},
   "outputs": [],
   "source": [
    "raw_text1 = f'Meyer entgegnet: «Dieser Unterschied macht gerade dann viel aus, wenn eine Bank hopsgeht. Gerade deshalb ist es wichtig, wenn eine Bank auch einen grossen Teil vom Risiko selbst trägt.» Weiter sagt sie: «Gerade, weil Ex-CS-Chef Urs Rohner wusste, dass er ein hohes Risiko eingehen kann – und seine Bank im schlimmsten Fall vom Staat gerettet wird, dann bin ich fein raus.»'\n",
    "\n",
    "raw_text2 = \"\"\"\n",
    "Dass das Rennen am Sonntag äusserst knapp ausfallen würde, zeigten schon die Umfragewerte im Vorfeld: Gleich drei Parteien lagen fast gleichauf. Die konservative Nationale Sammlungspartei führte nur minimal vor der rechtspopulistischen Partei Die Finnen und vor Sanna Marins Sozialdemokraten. \n",
    "Bereits bei den letzten Wahlen 2019 lagen die drei Parteien nur weniger als einen Prozentpunkt auseinander. Damals konnten die Sozialdemokraten den Sieg für sich entscheiden, dieses Jahr zogen sie den Kürzeren.\n",
    "Dies, obwohl sie gegenüber 2019 mehr Stimmen holten und dadurch drei neue Parlamentssitze gewannen.  Eine Tatsache, über die sich Sanna Marin trotz der Niederlage freute. Das Problem: Den anderen zwei Parteien gelang das auch – und zwar noch ein Spürchen besser.\n",
    "Die Nationale Sammlungspartei unter der Führung des früheren Finanzministers Petteri Orpo holte mit 48 der 200 Sitze einen knappen Wahlsieg. Die Finnen-Partei sicherte sich 46 Sitze, die Sozialdemokraten kamen auf 43.\n",
    "\"\"\"\n",
    "\n",
    "raw_text3 = \"\"\"\n",
    "Sie war von 2017 bis 2020 Frankreichs erste Ministerin für die Gleichheit zwischen Frauen und Männern. Dank ihr sind sexistische Beleidigungen in Frankreich strafbar. Seit ihrer Amtszeit zählt Sex mit Jugendlichen unter 16 Jahren in Frankreich vor Gericht als Vergewaltigung. Und sie ist nun wohl die erste französische Politikerin auf dem Cover des französischen «Playboy».\n",
    "Die Rede ist von der Feministin und Staatssekretärin Marlène Schiappa. Derzeit ist sie in dem Land die Staatsministerin für Staatsbürgerschaft. Dass sie das Cover des Magazins ziert, sorgt für Furore. Vor allem bei politischen Gegner:innen und Kolleg:innen stossen ihre Fotos auf Kritik – und das, obwohl Schiappa darauf nicht einmal hüllenlos abgelichtet ist.\n",
    "In dem dazugehörigen Titel-Interview sprach die 40-Jährige laut Medienberichten auf zwölf Seiten über die Rechte von Frauen und LGBTQ-Themen. Worüber Frankreich nun spricht, ist aber nicht der Inhalt des Interviews, sondern eben doch der tiefe Ausschnitt, den Schiappas Kleid gehabt haben soll – und der Zeitpunkt der Veröffentlichung.\n",
    "«Playboy»-Titel stösst vor allem wegen Rentenreform sauer auf\n",
    "So soll Premierministerin Élisabeth Borne laut Medienberichten am Wochenende mit der Staatssekretärin über das Thema gesprochen haben. Oder, wie der Spiegel den Sender BFMTV zitiert, eher geschimpft. Sie bezeichnete das Interview demnach als «nicht angemessen». Vor allem wegen des Zeitpunktes.\n",
    "Damit spielte Borne wohl auf die landesweiten Unruhen wegen der umstrittenen Rentenreform an. Eine Grünen-Politikerin vermutete hinter der «Playboy»-Story sogar ein Ablenkungsmanöver. \n",
    "\"\"\"\n",
    "\n",
    "raw_text4 = \"\"\"\n",
    "Die Schweizer Alpin-Snowboarder Dario Caviezel und Ladina Jenny fahren im ersten Parallel-Riesenslalom des Weltcup-Winters auf das Podest. Caviezel wird in Carezza Zweiter, Jenny Dritte.\\r Caviezel musste sich nach Platz 7 in der Qualifikation einzig dem zweifachen Weltmeister Andreas Prommegger aus Österreich geschlagen geben. Zu seinem zweiten Weltcupsieg, dem zweiten auf italienischem Boden nach der Premiere vor einem Jahr in Cortina d'Ampezzo, fehlten dem 27-jährigen Bündner zehn Hundertstel.\\r Für Caviezel ist es der siebte Podestplatz im Weltcup. Seine Freundin Ladina Jenny hält nach dem 3. Platz hinter der Niederländerin Michelle Dekker und der Polin Aleksandra Krol sowie vor der Slowenin Gloria Kotnik bei 13 Top-3-Klassierungen. Den möglichen Sieg vergab die 29-jährige St. Gallerin im Halbfinal gegen Dekker, als ihr in Führung liegend im unteren Teil ein Fahrfehler unterlief. (nih/sda)\\rZwei Podestplätze fürs #swissskiteam am Snowboard-Alpin-Weltcup im italienischen Carezza: Dario Caviezel wird Zweiter, Ladina Jenny fährt auf Rang drei 🙌🏂#100percent pic.twitter.com/zwu7y8orrp— SwissSkiTeam (@swissskiteam) December 15, 2022  Sandro Simonet kommt im Europacup zu seinem ersten Podestplatz seit vier Jahren. Der 27-jährige Bündner fuhr im Slalom im italienischen Obereggen nach Platz 13 im ersten Lauf noch in den 3. Rang. Auf den französischen Sieger Steven Amiez verlor Simonet 68 Hundertstel.\\r Der vor Kurzem nach einer Kreuzbandverletzung ins Renngeschehen zurückgekehrte Sandro Simonet sorgte für die Fortsetzung der Erfolgsserie der Simonets: Sein Bruder Livio hatte am Montag und Dienstag die beiden Europacup-Riesenslaloms von Zinal gewonnen. (nih/sda) Mick Schumacher bleibt dem Formel-1-Fahrerlager erhalten. Nach zwei Jahren als Stammfahrer bei Haas geht der 23-Jährige als Reservepilot zu Mercedes.  Schumacher erhält einen Vertrag für die kommende Saison. Er arbeitet damit künftig für den deutschen Autohersteller, bei dem sein Vater Michael 2012 seine ruhmreiche Karriere als Rennfahrer beendet hatte. «Ich betrachte dies als eine Art Neuanfang», sagte Mick Schumacher in einer Mitteilung. Bei Haas hatte er nach zwei Jahren keinen neuen Vertrag über das Jahresende hinaus erhalten, und auch anderweitig fand er keinen Platz als Stammfahrer. (ram/sda/dpa) Die UEFA sieht sich im Kampf gegen die Einführung einer kontinentalen Super League durch ein Gutachten des Europäischen Gerichtshofs gestärkt. Laut Generalanwalt Athanasios Rantos verstossen die Regeln des Kontinentalverbandes und der FIFA nicht gegen das Wettbewerbsrecht der Europäischen Union.\\r Die Super League dürfte zwar ihre eigene Fussball-Liga starten, könnte dann aber nicht mehr parallel an UEFA-Wettbewerben wie der Champions League ohne Erlaubnis der beiden Verbände UEFA und FIFA teilnehmen, erklärte Rantos in seinen Schlussanträgen in Luxemburg.\\r Im April 2021 hatten zwölf europäische Topklubs die Gründung einer Superliga verkündet. Der Plan wurde nach starken Protesten von Ligen, Verbänden und Fans schnell wieder verworfen. Real Madrid, Juventus Turin und der FC Barcelona wollen aber weiterhin eine Super League gründen. (ram/sda/afp/dpa) Die Premiere der Vierschanzentournee der Skispringerinnen verzögert sich. Sie werde nicht vor 2024/25 stattfinden, sagte Roswitha Stadlober, Präsidentin des Österreichischen Skiverbandes (ÖSV). Ursprünglich war die erste Austragung für 2023/24 geplant.\\r Es gebe derzeit «noch viele zu berücksichtigende Faktoren, die eine frühere Einführung nicht ermöglichen», erklärte Stadlober. Stattdessen werden die Skispringerinnen wieder eine Silvester-Tournee mit je zwei Springen in Österreich und Slowenien austragen. (ram/sda/apa/dpa) Noè Ponti hat an den Kurzbahn-Weltmeisterschaften in Melbourne die zweite Medaille innert 24 Stunden gewonnen. Der 21-jährige Tessiner wurde über 200 m Delfin hinter dem Südafrikaner Chad le Clos und dem Japaner Daiya Seto Dritter. In 1:49,42 unterbot Ponti, der tags zuvor in Australien über 50 m Delfin Silber gewonnen hatte, seinen Schweizer Rekord um 0,39 Sekunden. (ram/sda) In der NHL hat Pius Suter mit den Detroit Red Wings eine 1:4-Niederlage gegen die Minnesota Wild erlitten. Suter gab einen Schuss aufs Tor ab und stand während 14:33 Minuten auf dem Eis. Bei Minnesota wurde Frederick Gaudreau zum Matchwinner, der Kanadier schoss das erste und das letzte Tor der Partie. (ram) Die Atlanta Hawks treten im Kampf um den Einzug in die NBA-Playoffs weiter auf der Stelle. Das Team von Clint Capela bezog gegen Orlando die fünfte Niederlage aus den letzten sechs Spielen. Bei der 124:135-Auswärtsniederlage handelten sich die Hawks allein im ersten Viertel eine 22:50-Hypothek ein. 50 oder mehr Punkte waren zuvor erst acht Teams bis zur ersten Pause gelungen.\\r Capela stand nach einer Verletzungspause wegen Achillessehnen-Problemen wieder auf dem Parkett und kam auf 16 Punkte, 6 Rebounds und 2 Assists. Wegen neuerlicher Wadenprobleme beschränkte sich seine Einsatzzeit auf 22 Minuten.\\r Die Golden State Warriors bangen derweil um Steph Curry. Der Teamleader konnte beim 119:125 gegen die Indiana Pacers aufgrund einer Schulterverletzung nicht zu Ende spielen. Für den schwächelnden Titelverteidiger war es im 15. Auswärtsspiel bereits die 13. Niederlage. (ram/sda) SCB-Sportchef Andrew Ebbett kann aufatmen: Thierry Bader hat Biel abgesagt und verlängert um zwei Jahre in Bern. Noch diese Woche wird die Verlängerung von Medienchef Reto Kirchhofer per offizieller Mitteilung bestätigt. Es war eine knappe Entscheidung und das Geld hat nicht den Ausschlag gegeben: Die Offerten von Bern und Biel (andere Klubs waren nicht im Spiel) waren ungefähr gleich.\\r Was den Ausschlag gegeben hat: In Bern fühlt sich Thierry Bader in seiner dritten Saison wohl und das Trainerproblem ist auch gelöst worden. Die Eiszeiten werden vom neuen Trainer Toni Söderholm besser verteilt. Chris DiDomenico ist nicht mehr «Spielertrainer» mit mehr als 25 Minuten Präsenz und Thierry Bader hat in den letzten Partien unter neuer Leitung wieder mehr Eiszeit bekommen. Zudem wirkt die «Magie SCB» – es ist immer noch reizvoll, für den SCB zu spielen.\\r Die Verlängerung mit dem Nationalstürmer ist für Sportchef Andrew Ebbett von zentraler Bedeutung: Ein Wegzug von Thierry Bader nach Biel hätte seine Stellung im SC Bern in den Grundfesten erschüttert. (kza) Das Verletzungspech im Schweizer Skicross-Team reisst nicht ab. Nach Weltmeister Alex Fiva und Luca Lubasch hat sich nun auch Olympiasieger Ryan Regez bei einem Sturz im Weltcup schwer am Knie verletzt.\\r Der Berner Oberländer kam am Montag im Heimrennen in Arosa im kleinen Final zu Fall und zog sich dabei einen Riss des vorderen Kreuzbandes sowie eine Zerrung des Innenbandes zu. Am Meniskus wurden zwei kleine Risse festgestellt. Regez wurde am Mittwoch in Basel operiert. Er dürfte für den Rest des WM-Winters ausfallen.\\r Mit der Bernerin Sanna Lüdi fällt auch im Schweizer Frauen-Team eine Athletin wegen einer nicht näher erörterten Verletzung den gesamten Winter aus. (nih/sda) Der FC Vaduz verpflichtet Jürgen Seeberger als neuen Trainer des Challenge-League-Teams. Der 57-jährige Deutsche stösst per 1. Januar vom Erstligisten FC Freienbach zu den Liechtensteinern. Er unterschrieb einen bis im Sommer 2023 gültigen Vertrag.\\r Seeberger war von 2000 bis 2007 Trainer des FC Schaffhausen, den er von der 1. Liga in die Super League führte. Seither war er bei verschiedenen Klubs in Deutschland und der Schweiz engagiert und war zudem als Ausbildner beim Schweizerischen Fussballverband tätig.\\r Vaduz hat in der aktuellen Saison mit der Qualifikation für die Conference League für Aufsehen gesorgt. In der Meisterschaft lief es dem Team weniger gut: Nach 18 Spieltagen liegt der FCV mit 17 Punkten auf dem zweitletzten Platz.\\r Seebergers Vorgänger Alessandro Mangiarratti war vor Monatsfrist zurückgetreten, weil ihm nach dem «enormen Aufwand» mit nationalen und internationalen Spielen die Kraft und Energie gefehlt habe. (nih/sda)\\rHerzlich Willkommen in Vaduz! 🔴⚪Wir freuen uns sehr, Jürgen Seeberger als neuen Cheftrainer und Walter Thomae als Assistenztrainer präsentieren zu dürfen.Weitere Informationen dazu gibt’s unter:https://t.co/RNiHtdJwYA#hoppvadoz #supportFCV #fcvaduz #liechtenstein pic.twitter.com/6FfpmzdC5M— FC Vaduz (@VaduzFC) December 14, 2022  Swiss Tennis zeigt sich sehr zufrieden mit dem zu Ende gehenden Jahr 2022. Der schweizerische Tennisverband schliesst das Geschäftsjahr 2021/22 mit einem Gewinn von gut 236'000 Franken ab und kann zusätzlich 800'000 in den Fonds für Davis Cup, Billie Jean Cup und Spitzensport überweisen.\\r Erfreulich verlief trotz der zwei schwierigen Jahre mit Corona auch die sportliche Entwicklung. Die Mitgliederzahlen bei den angeschlossenen Klubs und Tenniscentern stiegen im Vergleich zum letzten Jahr um 6,7 Prozent, die Zahl der Lizenzen von Wettkampfspielern um 2,3 Prozent. Sie sind damit auf dem höchsten Stand seit 2016. (ram/sda)\"\n",
    "\"\"\"\n",
    "\n",
    "raw_text5 = \"\"\"\n",
    "Der Palast hat bestätigt, dass Prinz Harry (38) zur Krönung von König Charles III. (74) und dessen Ehefrau, Königin Camilla (75), nach London kommt. Seine Ehefrau und Kinder wird er aber nicht in seine alte Heimat mitbringen. Doch warum reisen Herzogin Meghan (41), sein Sohn Archie (3) und seine Tochter Lilibet (1), nicht aus den USA mit nach England? Eine offizielle Begründung gibt es bisher nicht. Insider glauben aber zu wissen, wie es dazu kommt: Am 6. Mai findet nicht nur die Krönungszeremonie statt, Archie feiert an diesem Tag auch seinen vierten Geburtstag. «Auf keinen Fall würde Meghan den Geburtstag ihres Sohnes verpassen», habe eine anonyme Quelle der «Page Six» verraten. Royal-Experte Omid Scobie (41), der auch als enger Freund der Sussexes gilt, glaubt ebenfalls, dass der Geburtstag von Archie «eine Rolle in der Entscheidung des Paares gespielt» habe. Ein weiterer Grund könnte womöglich sein, dass der Palast vor einigen Wochen angeblich nur Harry und Meghan eingeladen hat. Der «Sunday Telegraph» hatte kürzlich berichtet, dass Archie und Lilibet offenbar nicht mit auf der Einladung stünden, die das Paar laut Angaben eines Sprechers lediglich per E-Mail erhalten hatte. Scobie ist zudem der Ansicht, dass Harry wohl nur kurze Zeit in London bleiben und wieder zügig in die USA zurückkehren möchte. Er schreibt bei Twitter von einem «ziemlich schnellen Trip [...] für Prinz Harry, der nur der Krönungszeremonie in der Westminster Abbey beiwohnen wird». Sollte Scobie Recht behalten, wird der jüngere Bruder von Prinz William (40) offenbar nicht an weiteren für den 7. und 8. Mai geplanten Feierlichkeiten rund um die Krönung seines Vaters teilnehmen. Dem US-Magazin «People» habe ein Freund erzählt, dass Harry seinen Vater bei diesem wichtigen Moment in dessen Leben unterstützen wolle. Und das offenbar auch, obwohl das Verhältnis von Harry, Charles und William als sehr angespannt gilt. Seit ihrem Umzug in die USA haben Meghan und Harry in mehreren Interviews, einer Netflix-Doku und der Autobiografie des Prinzen immer wieder Mitglieder der Königsfamilie teils scharf kritisiert.\n",
    "\"\"\"\n",
    "\n",
    "raw_text6 = \"\"\"\n",
    "Vor rund drei Jahren reiste Fritz Schenkel von Vietnam in die Schweiz ein, um nach dem Tod seines Bruders dessen Wohnung aufzulösen. Er checkte im Park Hotel in Winterthur ein – und blieb dort fast drei Jahre lang. Wegen der Corona-Pandemie strandet Fritz Schenkel in der Schweiz. Die Rückreise nach Vietnam konnte er aufgrund der Reisebeschränkungen nicht mehr antreten. Im südostasiatischen Land betreute Schenkel als Berater ein Projekt zum Bau eines Luxushotels. Zwar könnte Fritz Schenkel wieder zurück nach Vietnam einreisen, wo er als Berater für ein Hotelprojekt arbeitete, wie der «Landbote» schreibt. Die Jobsuche in Südostasien verlief jedoch trotz Headhunter erfolglos. Fritz Schenkel: «Ich bleibe optimistisch.» Die Geschichte des 70-Jährigen ging bereits während der Pandemie durch die Schweizer Medienwelt, unzählige Zeitungen und Onlineportale berichteten über Schenkel. Der passionierte Hotelier hat mit seinen 70 Jahren das Rentenalter in der Schweiz längst erreicht. Laut Schenkel könne man aber in seinem Alter nicht mehr in einer internationalen Hotelkette arbeiten. «Alle klagen über Personalmangel, aber niemand stellt Menschen über 60 an.» In den drei Jahren, die er zuletzt in der Schweiz verbrachte, pflegte er alte Bekanntschaften und Kontakte, besuchte auch Branchentreffs. «Wenn ich gewusst hätte, dass ich so lange hier strande, hätte ich in Winterthur einen kleinen Laden oder ein Café übernommen.» Er könne sich dies immer noch vorstellen, hoffe jedoch auf einen Job im Ausland. «Ich habe Mühe, mich wieder an die Mentalität hier zu gewöhnen.» Mittlerweile wohnt Schenkel im Hotel Wartmann, beim Hauptbahnhof in Winterthur. «Ich muss den Gürtel enger schnallen, auch das Mietauto habe ich abgegeben», so der 70-Jährige. «Wenn ich bis dann keinen Job finde, muss ich in den sauren Apfel beissen und nach Berg am Irchel ziehen.» Dort habe er in einer Wohnung auch einen Grossteil seiner Sachen, unter anderem Familienerbstücke, wie das Inventar aus dem Restaurant Rossberg, wie der «Landbote» schreibt. «Es gibt da keine Infrastruktur, keine Läden, keine Bank und keine Post. Ich würde überschnappen.»\n",
    "\"\"\"\n"
   ]
  },
  {
   "cell_type": "code",
   "execution_count": 4,
   "metadata": {},
   "outputs": [
    {
     "name": "stdout",
     "output_type": "stream",
     "text": [
      "<class 'spacy.tokens.doc.Doc'>\n",
      "coref: \n",
      "0: Schenkel(7), seines(19), Er(25), Schenkel(47), er(57), Schenkel(69), Schenkel(82), er(90), Schenkel(116)\n",
      "1: Schweiz(12), Schweiz(50)\n",
      "2: Bruders(20), dessen(21)\n",
      "3: Vietnam(55), Vietnam(86)\n",
      "4: Hotelier(148), seinen(151), seinem(168), er(199), er(207), Er(243), sich(245)\n",
      "5: Schweiz(203), dies(246)\n",
      "6: 70-Jährige(304), er(332), seiner(339)\n",
      "\n",
      "NER: \n",
      "6\n",
      "Fritz Schenkel PER\n",
      "9\n",
      "Vietnam LOC\n",
      "12\n",
      "Schweiz LOC\n",
      "28\n",
      "Park Hotel LOC\n",
      "31\n",
      "Winterthur LOC\n",
      "46\n",
      "Fritz Schenkel PER\n",
      "50\n",
      "Schweiz LOC\n",
      "55\n",
      "Vietnam LOC\n",
      "69\n",
      "Schenkel PER\n",
      "81\n",
      "Fritz Schenkel PER\n",
      "86\n",
      "Vietnam LOC\n",
      "108\n",
      "Südostasien LOC\n",
      "115\n",
      "Fritz Schenkel: «Ich bleibe optimistisch. PER\n",
      "132\n",
      "Pandemie ORG\n",
      "135\n",
      "Schweizer MISC\n",
      "163\n",
      "Schenkel PER\n",
      "203\n",
      "Schweiz LOC\n",
      "233\n",
      "Winterthur LOC\n",
      "276\n",
      "Schenkel LOC\n",
      "278\n",
      "Hotel Wartmann LOC\n",
      "282\n",
      "Hauptbahnhof LOC\n",
      "284\n",
      "Winterthur. LOC\n",
      "324\n",
      "Berg am Irchel LOC\n"
     ]
    }
   ],
   "source": [
    "import spacy\n",
    "\n",
    "nlp = spacy.load(\"de_core_news_lg\")\n",
    "nlp.add_pipe('coreferee')\n",
    "\n",
    "\n",
    "result= nlp(raw_text6)\n",
    "\n",
    "print(type(result))\n",
    "\n",
    "print(f'coref: ')\n",
    "result._.coref_chains.print()\n",
    "print('')\n",
    "print(f'NER: ')\n",
    "for i in result.ents:\n",
    "        print(i.start)\n",
    "        print(i.text,i.label_)\n",
    "\n",
    "# tagger = nlp.get_pipe(\"tagger\")\n",
    "# print(tagger.labels)"
   ]
  },
  {
   "cell_type": "code",
   "execution_count": 4,
   "metadata": {},
   "outputs": [],
   "source": [
    "from typing import List\n",
    "from typing import Tuple\n",
    "\n",
    "def remove_duplicates(lst: List[Tuple[List[str], List[int]]]):\n",
    "    \"\"\"\n",
    "    Remove duplicates from a list of string arrays\n",
    "    \"\"\"\n",
    "    unique_list = []\n",
    "    for sublist in lst:\n",
    "        is_duplicate = False\n",
    "        for unique_sublist in unique_list:\n",
    "            if all(name in unique_sublist[0] for name in sublist[0]) or \\\n",
    "                all(name in sublist[0] for name in unique_sublist[0])or \\\n",
    "                all(name[:-1] in sublist[0] for name in unique_sublist[0])or \\\n",
    "                all(name[:-1] in unique_sublist[0] for name in sublist[0]):\n",
    "                is_duplicate = True\n",
    "                if len(sublist[0]) > len(unique_sublist[0]):\n",
    "                    sublist[1].extend(unique_sublist[1])\n",
    "                    unique_list.remove(unique_sublist)\n",
    "                    unique_list.append(sublist)\n",
    "                else:\n",
    "                    unique_sublist[1].extend(sublist[1])\n",
    "                break\n",
    "        if not is_duplicate:\n",
    "            unique_list.append(sublist)\n",
    "    \n",
    "    return unique_list"
   ]
  },
  {
   "cell_type": "code",
   "execution_count": 5,
   "metadata": {},
   "outputs": [
    {
     "name": "stdout",
     "output_type": "stream",
     "text": [
      "[(['Meyer'], [2]), (['Urs', 'Rohner'], [233])]\n"
     ]
    }
   ],
   "source": [
    "# clean ner_people list\n",
    "\n",
    "ner_blacklist_words = ['Sex', 'Corona', 'St Gallerin'] # Liste von Wörtern die NER fälschlicherweise als Person intepretiert\n",
    "\n",
    "ner_people_list = []\n",
    "for ent in result.ents:\n",
    "    if ent.label_ == 'PER':\n",
    "        #print(f'start char: {ent.start_char} | end char: {ent.end_char}')\n",
    "        #print(f'mittelwert: {int((ent.start_char+ent.end_char)/2)}')\n",
    "        position_in_text: int = int((ent.start_char+ent.end_char)/2)\n",
    "        clean_text = ent.text.replace(',', '').replace('.', '')\n",
    "        if not clean_text.lower() in [x.lower() for x in ner_blacklist_words]:\n",
    "            ner_people_list.append((clean_text.split(' '), [position_in_text]))\n",
    "\n",
    "ner_people_list\n",
    "\n",
    "# clean ner_people_list\n",
    "\n",
    "clean_ner_people_list = remove_duplicates(ner_people_list)\n",
    "\n",
    "print(clean_ner_people_list)\n"
   ]
  },
  {
   "cell_type": "code",
   "execution_count": 6,
   "metadata": {},
   "outputs": [
    {
     "data": {
      "text/plain": [
       "[' meyer sie', ' ex-cs-chef er seine']"
      ]
     },
     "execution_count": 6,
     "metadata": {},
     "output_type": "execute_result"
    }
   ],
   "source": [
    "# clean coref list\n",
    "\n",
    "coref_chain = result._.coref_chains\n",
    "\n",
    "clean_coref_list = []\n",
    "\n",
    "for i in coref_chain:\n",
    "    line = i.pretty_representation\n",
    "    for c in line:\n",
    "        if c.isdigit() or c == '(' or c == ')' or c == ',' or c == ':':\n",
    "            line = line.replace(c, '')\n",
    "    \n",
    "    clean_coref_list.append(line.lower())\n",
    "\n",
    "clean_coref_list\n"
   ]
  },
  {
   "cell_type": "code",
   "execution_count": 7,
   "metadata": {},
   "outputs": [],
   "source": [
    "#from gender_gap_tracker.classes.person import Person\n",
    "\n",
    "from dataclasses import dataclass\n",
    "\n",
    "@dataclass\n",
    "class Person:\n",
    "    first_name: str\n",
    "    last_name: str\n",
    "    salutation: list[str]       # Herr, Frau, Doktor, Prof.\n",
    "    pronouns_and_articles: list[str]         # er, sie, thei, ihr, ihre, sein, seine # der, die, das\n",
    "    substitute_nouns: list[str]  # Informatikerin, Forscherin, Studentin, Schwester, Tochter\n",
    "    positions_in_text: list[int] # mittelwert ((start+end)/2) von index in text\n",
    "\n",
    "    #def __str__(self):\n",
    "    #    return f'first_name: {self.first_name}, last_name: {self.last_name}, pronouns: {self.pronouns}, substitute_nouns: {self.substitute_nouns}'"
   ]
  },
  {
   "cell_type": "code",
   "execution_count": 8,
   "metadata": {},
   "outputs": [
    {
     "name": "stdout",
     "output_type": "stream",
     "text": [
      "len of people list: 2\n",
      "Person(first_name='Meyer', last_name='', salutation=[], pronouns_and_articles=['sie'], substitute_nouns=[], positions_in_text=[2])\n",
      "Person(first_name='Urs', last_name='Rohner', salutation=[], pronouns_and_articles=[], substitute_nouns=[], positions_in_text=[233])\n"
     ]
    }
   ],
   "source": [
    "\n",
    "# get list of Person class\n",
    "\n",
    "people = []\n",
    "\n",
    "for person_words in clean_ner_people_list:\n",
    "    new_person = Person('','',[],[],[],[])\n",
    "    match = False\n",
    "    for pw in person_words[0]:\n",
    "        for coref_entry in clean_coref_list:\n",
    "            if pw.lower() in coref_entry:\n",
    "                match = True\n",
    "                pos_res = nlp(coref_entry)\n",
    "                for w in pos_res:\n",
    "                    #if w.pos_ == 'PROPN':\n",
    "                    #    new_person.first_name = w\n",
    "                    if w.pos_ == 'PRON':\n",
    "                        new_person.pronouns_and_articles.append(w.text)\n",
    "                    if w.pos_ == 'DET':\n",
    "                        new_person.pronouns_and_articles.append(w.text)\n",
    "                    if w.pos_ == 'NOUN':\n",
    "                        new_person.substitute_nouns.append(w.text)\n",
    "    #if(not match):\n",
    "    new_person.first_name = person_words[0][0]\n",
    "    if len(person_words[0]) > 1:\n",
    "        last_name = ' '.join(person_words[0][1:]) # um Nachnamen wie Le Clos oder von Niederhaeusern zu erkennen\n",
    "        new_person.last_name = last_name\n",
    "    \n",
    "    new_person.positions_in_text = person_words[1]\n",
    "\n",
    "    people.append(new_person)\n",
    "\n",
    "print(f'len of people list: {len(people)}')\n",
    "\n",
    "for p in people:\n",
    "    print(p)\n",
    "                    \n"
   ]
  }
 ],
 "metadata": {
  "kernelspec": {
   "display_name": "Project2",
   "language": "python",
   "name": "python3"
  },
  "language_info": {
   "codemirror_mode": {
    "name": "ipython",
    "version": 3
   },
   "file_extension": ".py",
   "mimetype": "text/x-python",
   "name": "python",
   "nbconvert_exporter": "python",
   "pygments_lexer": "ipython3",
   "version": "3.10.8"
  },
  "orig_nbformat": 4
 },
 "nbformat": 4,
 "nbformat_minor": 2
}
