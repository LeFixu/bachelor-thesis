{
 "cells": [
  {
   "attachments": {},
   "cell_type": "markdown",
   "metadata": {},
   "source": [
    "# Test spacy morphologizer\n",
    "\n",
    "https://www.bfs.admin.ch/bfs/de/home/statistiken/bevoelkerung/geburten-todesfaelle/namen-schweiz.assetdetail.23045206.html\n",
    "\n",
    "https://www.bfs.admin.ch/bfs/de/home/statistiken/bevoelkerung/geburten-todesfaelle/namen-schweiz.assetdetail.23045213.html"
   ]
  },
  {
   "cell_type": "code",
   "execution_count": 10,
   "metadata": {},
   "outputs": [
    {
     "name": "stdout",
     "output_type": "stream",
     "text": [
      "Meyer [] ['Sing']\n",
      "entgegnet [] []\n",
      ": [] []\n",
      "« [] []\n",
      "Dieser ['Masc'] ['Sing']\n",
      "Unterschied ['Masc'] ['Sing']\n",
      "macht [] ['Sing']\n",
      "gerade [] []\n",
      "dann [] []\n",
      "viel [] []\n",
      "aus [] []\n",
      ", [] []\n",
      "wenn [] []\n",
      "eine ['Fem'] ['Sing']\n",
      "Bank ['Fem'] ['Sing']\n",
      "hopsgeht [] ['Sing']\n",
      ". [] []\n",
      "Gerade [] []\n",
      "deshalb [] []\n",
      "ist [] ['Sing']\n",
      "es ['Neut'] ['Sing']\n",
      "wichtig [] []\n",
      ", [] []\n",
      "wenn [] []\n",
      "eine ['Fem'] ['Sing']\n",
      "Bank ['Fem'] ['Sing']\n",
      "auch [] []\n",
      "einen ['Masc'] ['Sing']\n",
      "grossen ['Masc'] ['Sing']\n",
      "Teil ['Masc'] ['Sing']\n",
      "vom ['Neut'] ['Sing']\n",
      "Risiko ['Neut'] ['Sing']\n",
      "selbst [] []\n",
      "trägt [] ['Sing']\n",
      ". [] []\n",
      "» [] []\n",
      "Weiter [] []\n",
      "sagt [] ['Sing']\n",
      "sie ['Fem'] ['Sing']\n",
      ": [] []\n",
      "« [] []\n",
      "Gerade [] []\n",
      ", [] []\n",
      "weil [] []\n",
      "Ex-CS-Chef ['Masc'] ['Sing']\n",
      "Urs ['Masc'] ['Sing']\n",
      "Rohner ['Masc'] ['Sing']\n",
      "wusste [] ['Sing']\n",
      ", [] []\n",
      "dass [] []\n",
      "er ['Masc'] ['Sing']\n",
      "ein ['Neut'] ['Sing']\n",
      "hohes ['Neut'] ['Sing']\n",
      "Risiko ['Neut'] ['Sing']\n",
      "eingehen [] []\n",
      "kann [] ['Sing']\n",
      "– [] []\n",
      "und [] []\n",
      "seine ['Fem'] ['Sing']\n",
      "Bank ['Fem'] ['Sing']\n",
      "im ['Masc'] ['Sing']\n",
      "schlimmsten ['Masc'] ['Sing']\n",
      "Fall ['Masc'] ['Sing']\n",
      "vom ['Masc'] ['Sing']\n",
      "Staat ['Masc'] ['Sing']\n",
      "gerettet [] []\n",
      "wird [] ['Sing']\n",
      ", [] []\n",
      "dann [] []\n",
      "bin [] ['Sing']\n",
      "ich [] ['Sing']\n",
      "fein [] []\n",
      "raus [] []\n",
      ". [] []\n",
      "» [] []\n",
      ". [] []\n",
      "Diese ['Fem'] ['Plur']\n",
      "Banken ['Fem'] ['Plur']\n",
      "sind [] ['Plur']\n",
      "sehr [] []\n",
      "hart [] []\n",
      "umkämpft [] []\n",
      ". [] []\n"
     ]
    }
   ],
   "source": [
    "import spacy\n",
    "\n",
    "nlp = spacy.load(\"de_core_news_lg\")\n",
    "nlp.add_pipe('coreferee')\n",
    "\n",
    "raw_text = f'Meyer entgegnet: «Dieser Unterschied macht gerade dann viel aus, wenn eine Bank hopsgeht. Gerade deshalb ist es wichtig, wenn eine Bank auch einen grossen Teil vom Risiko selbst trägt.» Weiter sagt sie: «Gerade, weil Ex-CS-Chef Urs Rohner wusste, dass er ein hohes Risiko eingehen kann – und seine Bank im schlimmsten Fall vom Staat gerettet wird, dann bin ich fein raus.». Diese Banken sind sehr hart umkämpft.'\n",
    "\n",
    "sample_pron = f'sich seiner seinem Der Sein Es seine ihre'\n",
    "\n",
    "result= nlp(raw_text)\n",
    "\n",
    "# Neut, Masc, Fem\n",
    "for token in result:\n",
    "        print(token.text,token.morph.get(\"Gender\"), token.morph.get(\"Number\"))"
   ]
  },
  {
   "cell_type": "code",
   "execution_count": 12,
   "metadata": {},
   "outputs": [
    {
     "name": "stdout",
     "output_type": "stream",
     "text": [
      "<class 'coreferee.data_model.Mention'>\n",
      "[0]\n",
      "0: Meyer(0), sie(38)\n",
      "<class 'coreferee.data_model.Mention'>\n",
      "[44]\n",
      "1: Ex-CS-Chef(44), er(50), seine(58)\n"
     ]
    },
    {
     "data": {
      "text/plain": [
       "[' Meyer sie', ' Ex-CS-Chef er seine']"
      ]
     },
     "execution_count": 12,
     "metadata": {},
     "output_type": "execute_result"
    }
   ],
   "source": [
    "# clean coref list\n",
    "\n",
    "coref_chain = result._.coref_chains\n",
    "\n",
    "clean_coref_list = []\n",
    "\n",
    "for i in coref_chain:\n",
    "    print(type(i.mentions[0]))\n",
    "    print(i.)\n",
    "    print(i.pretty_representation)\n",
    "    line = i.pretty_representation\n",
    "    for c in line:\n",
    "        if c.isdigit() or c == '(' or c == ')' or c == ',' or c == ':':\n",
    "            line = line.replace(c, '')\n",
    "    \n",
    "    clean_coref_list.append(line)\n",
    "\n",
    "clean_coref_list"
   ]
  }
 ],
 "metadata": {
  "kernelspec": {
   "display_name": "Project2",
   "language": "python",
   "name": "python3"
  },
  "language_info": {
   "codemirror_mode": {
    "name": "ipython",
    "version": 3
   },
   "file_extension": ".py",
   "mimetype": "text/x-python",
   "name": "python",
   "nbconvert_exporter": "python",
   "pygments_lexer": "ipython3",
   "version": "3.10.8"
  },
  "orig_nbformat": 4
 },
 "nbformat": 4,
 "nbformat_minor": 2
}
