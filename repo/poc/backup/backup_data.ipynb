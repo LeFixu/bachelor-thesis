{
 "cells": [
  {
   "attachments": {},
   "cell_type": "markdown",
   "metadata": {},
   "source": [
    "# Backup Data from P2 MongoDB"
   ]
  },
  {
   "cell_type": "code",
   "execution_count": 1,
   "metadata": {},
   "outputs": [],
   "source": [
    "def _get_connection_string() -> str:\n",
    "    server = \"147.87.116.60\"\n",
    "    port = \"27017\"\n",
    "    database = \"articles\"\n",
    "    username = \"paulus-the-workhorse\"\n",
    "    password = \"\"\n",
    "    return f\"mongodb://{username}:{password}@{server}:{port}/{database}\""
   ]
  },
  {
   "cell_type": "code",
   "execution_count": 2,
   "metadata": {},
   "outputs": [],
   "source": [
    "import pymongo\n",
    "\n",
    "# Verbindung zur MongoDB-Datenbank herstellen\n",
    "connection_string = _get_connection_string()\n",
    "client = pymongo.MongoClient(connection_string)\n",
    "db = client[\"articles\"]\n",
    "\n",
    "def get_unique_articles():\n",
    "    collection_unique_articles = db[\"unique_articles\"]\n",
    "    result = list(collection_unique_articles.find())\n",
    "    return result\n",
    "\n",
    "def get_analyzed_articles():\n",
    "    collection_analyzed_articles = db[\"analyzed_articles\"]\n",
    "    result = list(collection_analyzed_articles.find())\n",
    "    return result\n"
   ]
  },
  {
   "cell_type": "code",
   "execution_count": 3,
   "metadata": {},
   "outputs": [],
   "source": [
    "import json\n",
    "from datetime import datetime\n",
    "\n",
    "# unique_articles\n",
    "data_unique_articles = get_unique_articles()\n",
    "\n",
    "date_as_string = datetime.today().strftime('%Y%m%d-%H%M')\n",
    "file_name = f\"./unique_articles_{date_as_string}.json\"\n",
    "\n",
    "with open(file_name, 'w', encoding='utf-8') as f:\n",
    "    json.dump(data_unique_articles, f, ensure_ascii=False, indent=4)"
   ]
  },
  {
   "cell_type": "code",
   "execution_count": 4,
   "metadata": {},
   "outputs": [],
   "source": [
    "# analyzed_articles\n",
    "\n",
    "data_analyzed_articles = get_analyzed_articles()\n",
    "\n",
    "date_as_string = datetime.today().strftime('%Y%m%d-%H%M')\n",
    "file_name = f\"./analyzed_articles_{date_as_string}.json\"\n",
    "\n",
    "with open(file_name, 'w', encoding='utf-8') as f:\n",
    "    json.dump(data_analyzed_articles, f, ensure_ascii=False, indent=4)"
   ]
  }
 ],
 "metadata": {
  "kernelspec": {
   "display_name": "Python 3 (ipykernel)",
   "language": "python",
   "name": "python3"
  },
  "language_info": {
   "codemirror_mode": {
    "name": "ipython",
    "version": 3
   },
   "file_extension": ".py",
   "mimetype": "text/x-python",
   "name": "python",
   "nbconvert_exporter": "python",
   "pygments_lexer": "ipython3",
   "version": "3.10.8"
  }
 },
 "nbformat": 4,
 "nbformat_minor": 2
}
