{
 "cells": [
  {
   "attachments": {},
   "cell_type": "markdown",
   "metadata": {},
   "source": [
    "# Test Document Similarity SRF\n"
   ]
  },
  {
   "cell_type": "code",
   "execution_count": 1,
   "metadata": {},
   "outputs": [],
   "source": [
    "import json\n",
    "\n",
    "# load Data from JSON\n",
    "with open('articles_20230422-1203.json', 'r', encoding='utf8') as file:\n",
    "    data_json = json.load(file)"
   ]
  },
  {
   "cell_type": "code",
   "execution_count": 3,
   "metadata": {},
   "outputs": [
    {
     "name": "stdout",
     "output_type": "stream",
     "text": [
      "len start data 76187\n"
     ]
    }
   ],
   "source": [
    "# Filtern nach Attribut \"source\" mit Wert \"srf\"\n",
    "data_srf = [d for d in data_json if d.get('source') == 'srf']\n",
    "\n",
    "print(f'len start data {len(data_srf)}')"
   ]
  },
  {
   "cell_type": "code",
   "execution_count": 4,
   "metadata": {},
   "outputs": [
    {
     "name": "stdout",
     "output_type": "stream",
     "text": [
      "(76187, 505823)\n"
     ]
    }
   ],
   "source": [
    "from sklearn.feature_extraction.text import TfidfVectorizer\n",
    "\n",
    "# Dokumente aus der Sammlung abrufen und in eine Liste speichern\n",
    "docs = data_srf\n",
    "\n",
    "# TfidfVectorizer-Objekt initialisieren und auf den Text anwenden\n",
    "vectorizer = TfidfVectorizer()\n",
    "vectors = vectorizer.fit_transform([doc['text'] for doc in docs])\n",
    "print(vectors.shape)"
   ]
  },
  {
   "cell_type": "code",
   "execution_count": 5,
   "metadata": {},
   "outputs": [
    {
     "name": "stdout",
     "output_type": "stream",
     "text": [
      "unique docs watson: 71071\n"
     ]
    }
   ],
   "source": [
    "from sklearn.metrics.pairwise import cosine_similarity\n",
    "\n",
    "duplicates = set()\n",
    "\n",
    "# Schwellenwert für die Ähnlichkeit festlegen\n",
    "threshold = 0.90\n",
    "\n",
    "# Cosine-Similaritätsmatrix berechnen\n",
    "for i,v in enumerate(vectors):\n",
    "    cosine_sim = cosine_similarity(vectors, v)\n",
    "    # print(cosine_sim)\n",
    "    # break\n",
    "    for j in range(len(cosine_sim)):\n",
    "        if cosine_sim[j][0] > threshold and j != i:\n",
    "            duplicates.add(j)\n",
    "\n",
    "# Eindeutige Dokumente auswählen\n",
    "unique_docs_watson = []\n",
    "for i in range(len(docs)):\n",
    "    if i not in duplicates:\n",
    "        unique_docs_watson.append(docs[i])\n",
    "\n",
    "print(f'unique docs srf: {len(unique_docs_watson)}')\n",
    "\n",
    "\n",
    "# Als JSON abspeichern\n",
    "import pandas as pd\n",
    "\n",
    "df = pd.DataFrame(unique_docs_watson)\n",
    "\n",
    "records = df.to_dict('records')\n",
    "\n",
    "# Datensätze in eine JSON-Datei schreiben\n",
    "with open('clean-data_srf_cosine.json', 'w', encoding='utf8') as file:\n",
    "    json.dump(records, file)"
   ]
  },
  {
   "attachments": {},
   "cell_type": "markdown",
   "metadata": {},
   "source": [
    "Start len srf Articles: 76187\n",
    "\n",
    "End len unique srf Articles: 71071\n",
    "\n",
    "Time used: 475m ca. 8h"
   ]
  },
  {
   "cell_type": "code",
   "execution_count": 42,
   "metadata": {},
   "outputs": [
    {
     "data": {
      "text/plain": [
       "<pymongo.results.InsertManyResult at 0x22d2e250640>"
      ]
     },
     "execution_count": 42,
     "metadata": {},
     "output_type": "execute_result"
    }
   ],
   "source": [
    "import pymongo\n",
    "import json\n",
    "\n",
    "# Verbindung zur MongoDB-Datenbank herstellen\n",
    "client = pymongo.MongoClient(\"mongodb://localhost:27017/\")\n",
    "db = client[\"mydatabase\"]\n",
    "\n",
    "# JSON-Datei lesen\n",
    "with open('clean-data_srf_cosine.json', 'r') as file:\n",
    "    data = json.load(file)\n",
    "\n",
    "# Datensätze in die MongoDB-Datenbank schreiben\n",
    "collection = db[\"mycollection\"]\n",
    "collection.insert_many(data)"
   ]
  }
 ],
 "metadata": {
  "kernelspec": {
   "display_name": "Project2",
   "language": "python",
   "name": "python3"
  },
  "language_info": {
   "codemirror_mode": {
    "name": "ipython",
    "version": 3
   },
   "file_extension": ".py",
   "mimetype": "text/x-python",
   "name": "python",
   "nbconvert_exporter": "python",
   "pygments_lexer": "ipython3",
   "version": "3.10.8"
  },
  "orig_nbformat": 4
 },
 "nbformat": 4,
 "nbformat_minor": 2
}
