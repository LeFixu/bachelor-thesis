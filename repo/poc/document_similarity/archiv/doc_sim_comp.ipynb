{
 "cells": [
  {
   "attachments": {},
   "cell_type": "markdown",
   "metadata": {},
   "source": [
    "# Test Document Similarity"
   ]
  },
  {
   "attachments": {},
   "cell_type": "markdown",
   "metadata": {},
   "source": [
    "## Levenshtein-Algorithmus"
   ]
  },
  {
   "cell_type": "code",
   "execution_count": 15,
   "metadata": {},
   "outputs": [],
   "source": [
    "raw_text1 = f'Meyer entgegnet: «Dieser Unterschied macht gerade dann viel aus, wenn eine Bank hopsgeht. Gerade deshalb ist es wichtig, wenn eine Bank auch einen grossen Teil vom Risiko selbst trägt.» Weiter sagt sie: «Gerade, weil Ex-CS-Chef Urs Rohner wusste, dass er ein hohes Risiko eingehen kann – und seine Bank im schlimmsten Fall vom Staat gerettet wird, dann bin ich fein raus.»'\n",
    "\n",
    "raw_text1_2 = f'«Dieser Unterschied macht gerade dann viel aus. Gerade deshalb ist es wichtig, wenn eine Bank auch einen grossen Teil vom Risiko selbst trägt.» Weiter sagt sie: «Gerade, weil Ex-CS-Chef Urs Rohner wusste, dass er ein hohes Risiko eingehen kann – vom Staat gerettet wird, dann bin ich fein raus.»'\n",
    "\n",
    "\n",
    "raw_text2 = \"\"\"\n",
    "Dass das Rennen am Sonntag äusserst knapp ausfallen würde, zeigten schon die Umfragewerte im Vorfeld: Gleich drei Parteien lagen fast gleichauf. Die konservative Nationale Sammlungspartei führte nur minimal vor der rechtspopulistischen Partei Die Finnen und vor Sanna Marins Sozialdemokraten. \n",
    "Bereits bei den letzten Wahlen 2019 lagen die drei Parteien nur weniger als einen Prozentpunkt auseinander. Damals konnten die Sozialdemokraten den Sieg für sich entscheiden, dieses Jahr zogen sie den Kürzeren.\n",
    "Dies, obwohl sie gegenüber 2019 mehr Stimmen holten und dadurch drei neue Parlamentssitze gewannen.  Eine Tatsache, über die sich Sanna Marin trotz der Niederlage freute. Das Problem: Den anderen zwei Parteien gelang das auch – und zwar noch ein Spürchen besser.\n",
    "Die Nationale Sammlungspartei unter der Führung des früheren Finanzministers Petteri Orpo holte mit 48 der 200 Sitze einen knappen Wahlsieg. Die Finnen-Partei sicherte sich 46 Sitze, die Sozialdemokraten kamen auf 43.\n",
    "\"\"\"\n",
    "\n",
    "raw_text3 = \"\"\"\n",
    "Sie war von 2017 bis 2020 Frankreichs erste Ministerin für die Gleichheit zwischen Frauen und Männern. Dank ihr sind sexistische Beleidigungen in Frankreich strafbar. Seit ihrer Amtszeit zählt Sex mit Jugendlichen unter 16 Jahren in Frankreich vor Gericht als Vergewaltigung. Und sie ist nun wohl die erste französische Politikerin auf dem Cover des französischen «Playboy».\n",
    "Die Rede ist von der Feministin und Staatssekretärin Marlène Schiappa. Derzeit ist sie in dem Land die Staatsministerin für Staatsbürgerschaft. Dass sie das Cover des Magazins ziert, sorgt für Furore. Vor allem bei politischen Gegner:innen und Kolleg:innen stossen ihre Fotos auf Kritik – und das, obwohl Schiappa darauf nicht einmal hüllenlos abgelichtet ist.\n",
    "In dem dazugehörigen Titel-Interview sprach die 40-Jährige laut Medienberichten auf zwölf Seiten über die Rechte von Frauen und LGBTQ-Themen. Worüber Frankreich nun spricht, ist aber nicht der Inhalt des Interviews, sondern eben doch der tiefe Ausschnitt, den Schiappas Kleid gehabt haben soll – und der Zeitpunkt der Veröffentlichung.\n",
    "«Playboy»-Titel stösst vor allem wegen Rentenreform sauer auf\n",
    "So soll Premierministerin Élisabeth Borne laut Medienberichten am Wochenende mit der Staatssekretärin über das Thema gesprochen haben. Oder, wie der Spiegel den Sender BFMTV zitiert, eher geschimpft. Sie bezeichnete das Interview demnach als «nicht angemessen». Vor allem wegen des Zeitpunktes.\n",
    "Damit spielte Borne wohl auf die landesweiten Unruhen wegen der umstrittenen Rentenreform an. Eine Grünen-Politikerin vermutete hinter der «Playboy»-Story sogar ein Ablenkungsmanöver. \n",
    "\"\"\"\n",
    "\n",
    "raw_text4 = \"\"\"\n",
    "Die Schweizer Alpin-Snowboarder Dario Caviezel und Ladina Jenny fahren im ersten Parallel-Riesenslalom des Weltcup-Winters auf das Podest. Caviezel wird in Carezza Zweiter, Jenny Dritte.\\r Caviezel musste sich nach Platz 7 in der Qualifikation einzig dem zweifachen Weltmeister Andreas Prommegger aus Österreich geschlagen geben. Zu seinem zweiten Weltcupsieg, dem zweiten auf italienischem Boden nach der Premiere vor einem Jahr in Cortina d'Ampezzo, fehlten dem 27-jährigen Bündner zehn Hundertstel.\\r Für Caviezel ist es der siebte Podestplatz im Weltcup. Seine Freundin Ladina Jenny hält nach dem 3. Platz hinter der Niederländerin Michelle Dekker und der Polin Aleksandra Krol sowie vor der Slowenin Gloria Kotnik bei 13 Top-3-Klassierungen. Den möglichen Sieg vergab die 29-jährige St. Gallerin im Halbfinal gegen Dekker, als ihr in Führung liegend im unteren Teil ein Fahrfehler unterlief. (nih/sda)\\rZwei Podestplätze fürs #swissskiteam am Snowboard-Alpin-Weltcup im italienischen Carezza: Dario Caviezel wird Zweiter, Ladina Jenny fährt auf Rang drei 🙌🏂#100percent pic.twitter.com/zwu7y8orrp— SwissSkiTeam (@swissskiteam) December 15, 2022  Sandro Simonet kommt im Europacup zu seinem ersten Podestplatz seit vier Jahren. Der 27-jährige Bündner fuhr im Slalom im italienischen Obereggen nach Platz 13 im ersten Lauf noch in den 3. Rang. Auf den französischen Sieger Steven Amiez verlor Simonet 68 Hundertstel.\\r Der vor Kurzem nach einer Kreuzbandverletzung ins Renngeschehen zurückgekehrte Sandro Simonet sorgte für die Fortsetzung der Erfolgsserie der Simonets: Sein Bruder Livio hatte am Montag und Dienstag die beiden Europacup-Riesenslaloms von Zinal gewonnen. (nih/sda) Mick Schumacher bleibt dem Formel-1-Fahrerlager erhalten. Nach zwei Jahren als Stammfahrer bei Haas geht der 23-Jährige als Reservepilot zu Mercedes.  Schumacher erhält einen Vertrag für die kommende Saison. Er arbeitet damit künftig für den deutschen Autohersteller, bei dem sein Vater Michael 2012 seine ruhmreiche Karriere als Rennfahrer beendet hatte. «Ich betrachte dies als eine Art Neuanfang», sagte Mick Schumacher in einer Mitteilung. Bei Haas hatte er nach zwei Jahren keinen neuen Vertrag über das Jahresende hinaus erhalten, und auch anderweitig fand er keinen Platz als Stammfahrer. (ram/sda/dpa) Die UEFA sieht sich im Kampf gegen die Einführung einer kontinentalen Super League durch ein Gutachten des Europäischen Gerichtshofs gestärkt. Laut Generalanwalt Athanasios Rantos verstossen die Regeln des Kontinentalverbandes und der FIFA nicht gegen das Wettbewerbsrecht der Europäischen Union.\\r Die Super League dürfte zwar ihre eigene Fussball-Liga starten, könnte dann aber nicht mehr parallel an UEFA-Wettbewerben wie der Champions League ohne Erlaubnis der beiden Verbände UEFA und FIFA teilnehmen, erklärte Rantos in seinen Schlussanträgen in Luxemburg.\\r Im April 2021 hatten zwölf europäische Topklubs die Gründung einer Superliga verkündet. Der Plan wurde nach starken Protesten von Ligen, Verbänden und Fans schnell wieder verworfen. Real Madrid, Juventus Turin und der FC Barcelona wollen aber weiterhin eine Super League gründen. (ram/sda/afp/dpa) Die Premiere der Vierschanzentournee der Skispringerinnen verzögert sich. Sie werde nicht vor 2024/25 stattfinden, sagte Roswitha Stadlober, Präsidentin des Österreichischen Skiverbandes (ÖSV). Ursprünglich war die erste Austragung für 2023/24 geplant.\\r Es gebe derzeit «noch viele zu berücksichtigende Faktoren, die eine frühere Einführung nicht ermöglichen», erklärte Stadlober. Stattdessen werden die Skispringerinnen wieder eine Silvester-Tournee mit je zwei Springen in Österreich und Slowenien austragen. (ram/sda/apa/dpa) Noè Ponti hat an den Kurzbahn-Weltmeisterschaften in Melbourne die zweite Medaille innert 24 Stunden gewonnen. Der 21-jährige Tessiner wurde über 200 m Delfin hinter dem Südafrikaner Chad le Clos und dem Japaner Daiya Seto Dritter. In 1:49,42 unterbot Ponti, der tags zuvor in Australien über 50 m Delfin Silber gewonnen hatte, seinen Schweizer Rekord um 0,39 Sekunden. (ram/sda) In der NHL hat Pius Suter mit den Detroit Red Wings eine 1:4-Niederlage gegen die Minnesota Wild erlitten. Suter gab einen Schuss aufs Tor ab und stand während 14:33 Minuten auf dem Eis. Bei Minnesota wurde Frederick Gaudreau zum Matchwinner, der Kanadier schoss das erste und das letzte Tor der Partie. (ram) Die Atlanta Hawks treten im Kampf um den Einzug in die NBA-Playoffs weiter auf der Stelle. Das Team von Clint Capela bezog gegen Orlando die fünfte Niederlage aus den letzten sechs Spielen. Bei der 124:135-Auswärtsniederlage handelten sich die Hawks allein im ersten Viertel eine 22:50-Hypothek ein. 50 oder mehr Punkte waren zuvor erst acht Teams bis zur ersten Pause gelungen.\\r Capela stand nach einer Verletzungspause wegen Achillessehnen-Problemen wieder auf dem Parkett und kam auf 16 Punkte, 6 Rebounds und 2 Assists. Wegen neuerlicher Wadenprobleme beschränkte sich seine Einsatzzeit auf 22 Minuten.\\r Die Golden State Warriors bangen derweil um Steph Curry. Der Teamleader konnte beim 119:125 gegen die Indiana Pacers aufgrund einer Schulterverletzung nicht zu Ende spielen. Für den schwächelnden Titelverteidiger war es im 15. Auswärtsspiel bereits die 13. Niederlage. (ram/sda) SCB-Sportchef Andrew Ebbett kann aufatmen: Thierry Bader hat Biel abgesagt und verlängert um zwei Jahre in Bern. Noch diese Woche wird die Verlängerung von Medienchef Reto Kirchhofer per offizieller Mitteilung bestätigt. Es war eine knappe Entscheidung und das Geld hat nicht den Ausschlag gegeben: Die Offerten von Bern und Biel (andere Klubs waren nicht im Spiel) waren ungefähr gleich.\\r Was den Ausschlag gegeben hat: In Bern fühlt sich Thierry Bader in seiner dritten Saison wohl und das Trainerproblem ist auch gelöst worden. Die Eiszeiten werden vom neuen Trainer Toni Söderholm besser verteilt. Chris DiDomenico ist nicht mehr «Spielertrainer» mit mehr als 25 Minuten Präsenz und Thierry Bader hat in den letzten Partien unter neuer Leitung wieder mehr Eiszeit bekommen. Zudem wirkt die «Magie SCB» – es ist immer noch reizvoll, für den SCB zu spielen.\\r Die Verlängerung mit dem Nationalstürmer ist für Sportchef Andrew Ebbett von zentraler Bedeutung: Ein Wegzug von Thierry Bader nach Biel hätte seine Stellung im SC Bern in den Grundfesten erschüttert. (kza) Das Verletzungspech im Schweizer Skicross-Team reisst nicht ab. Nach Weltmeister Alex Fiva und Luca Lubasch hat sich nun auch Olympiasieger Ryan Regez bei einem Sturz im Weltcup schwer am Knie verletzt.\\r Der Berner Oberländer kam am Montag im Heimrennen in Arosa im kleinen Final zu Fall und zog sich dabei einen Riss des vorderen Kreuzbandes sowie eine Zerrung des Innenbandes zu. Am Meniskus wurden zwei kleine Risse festgestellt. Regez wurde am Mittwoch in Basel operiert. Er dürfte für den Rest des WM-Winters ausfallen.\\r Mit der Bernerin Sanna Lüdi fällt auch im Schweizer Frauen-Team eine Athletin wegen einer nicht näher erörterten Verletzung den gesamten Winter aus. (nih/sda) Der FC Vaduz verpflichtet Jürgen Seeberger als neuen Trainer des Challenge-League-Teams. Der 57-jährige Deutsche stösst per 1. Januar vom Erstligisten FC Freienbach zu den Liechtensteinern. Er unterschrieb einen bis im Sommer 2023 gültigen Vertrag.\\r Seeberger war von 2000 bis 2007 Trainer des FC Schaffhausen, den er von der 1. Liga in die Super League führte. Seither war er bei verschiedenen Klubs in Deutschland und der Schweiz engagiert und war zudem als Ausbildner beim Schweizerischen Fussballverband tätig.\\r Vaduz hat in der aktuellen Saison mit der Qualifikation für die Conference League für Aufsehen gesorgt. In der Meisterschaft lief es dem Team weniger gut: Nach 18 Spieltagen liegt der FCV mit 17 Punkten auf dem zweitletzten Platz.\\r Seebergers Vorgänger Alessandro Mangiarratti war vor Monatsfrist zurückgetreten, weil ihm nach dem «enormen Aufwand» mit nationalen und internationalen Spielen die Kraft und Energie gefehlt habe. (nih/sda)\\rHerzlich Willkommen in Vaduz! 🔴⚪Wir freuen uns sehr, Jürgen Seeberger als neuen Cheftrainer und Walter Thomae als Assistenztrainer präsentieren zu dürfen.Weitere Informationen dazu gibt’s unter:https://t.co/RNiHtdJwYA#hoppvadoz #supportFCV #fcvaduz #liechtenstein pic.twitter.com/6FfpmzdC5M— FC Vaduz (@VaduzFC) December 14, 2022  Swiss Tennis zeigt sich sehr zufrieden mit dem zu Ende gehenden Jahr 2022. Der schweizerische Tennisverband schliesst das Geschäftsjahr 2021/22 mit einem Gewinn von gut 236'000 Franken ab und kann zusätzlich 800'000 in den Fonds für Davis Cup, Billie Jean Cup und Spitzensport überweisen.\\r Erfreulich verlief trotz der zwei schwierigen Jahre mit Corona auch die sportliche Entwicklung. Die Mitgliederzahlen bei den angeschlossenen Klubs und Tenniscentern stiegen im Vergleich zum letzten Jahr um 6,7 Prozent, die Zahl der Lizenzen von Wettkampfspielern um 2,3 Prozent. Sie sind damit auf dem höchsten Stand seit 2016. (ram/sda)\"\n",
    "\"\"\"\n",
    "\n",
    "raw_text5 = \"\"\"\n",
    "Der Palast hat bestätigt, dass Prinz Harry (38) zur Krönung von König Charles III. (74) und dessen Ehefrau, Königin Camilla (75), nach London kommt. Seine Ehefrau und Kinder wird er aber nicht in seine alte Heimat mitbringen. Doch warum reisen Herzogin Meghan (41), sein Sohn Archie (3) und seine Tochter Lilibet (1), nicht aus den USA mit nach England? Eine offizielle Begründung gibt es bisher nicht. Insider glauben aber zu wissen, wie es dazu kommt: Am 6. Mai findet nicht nur die Krönungszeremonie statt, Archie feiert an diesem Tag auch seinen vierten Geburtstag. «Auf keinen Fall würde Meghan den Geburtstag ihres Sohnes verpassen», habe eine anonyme Quelle der «Page Six» verraten. Royal-Experte Omid Scobie (41), der auch als enger Freund der Sussexes gilt, glaubt ebenfalls, dass der Geburtstag von Archie «eine Rolle in der Entscheidung des Paares gespielt» habe. Ein weiterer Grund könnte womöglich sein, dass der Palast vor einigen Wochen angeblich nur Harry und Meghan eingeladen hat. Der «Sunday Telegraph» hatte kürzlich berichtet, dass Archie und Lilibet offenbar nicht mit auf der Einladung stünden, die das Paar laut Angaben eines Sprechers lediglich per E-Mail erhalten hatte. Scobie ist zudem der Ansicht, dass Harry wohl nur kurze Zeit in London bleiben und wieder zügig in die USA zurückkehren möchte. Er schreibt bei Twitter von einem «ziemlich schnellen Trip [...] für Prinz Harry, der nur der Krönungszeremonie in der Westminster Abbey beiwohnen wird». Sollte Scobie Recht behalten, wird der jüngere Bruder von Prinz William (40) offenbar nicht an weiteren für den 7. und 8. Mai geplanten Feierlichkeiten rund um die Krönung seines Vaters teilnehmen. Dem US-Magazin «People» habe ein Freund erzählt, dass Harry seinen Vater bei diesem wichtigen Moment in dessen Leben unterstützen wolle. Und das offenbar auch, obwohl das Verhältnis von Harry, Charles und William als sehr angespannt gilt. Seit ihrem Umzug in die USA haben Meghan und Harry in mehreren Interviews, einer Netflix-Doku und der Autobiografie des Prinzen immer wieder Mitglieder der Königsfamilie teils scharf kritisiert.\n",
    "\"\"\"\n",
    "\n",
    "raw_text_5_2 = \"\"\"\n",
    "Wie die BBC am Mittwoch um 16.09 Uhr meldete, wird Prinz Harry am 6. Mai an der Krönung seines Vaters teilnehmen. Harrys Gattin Meghan dagegen nicht. Harry wird damit einer von 2000 Gästen in der Westminster Abbey sein. Es ist das erste Mal, dass er seiner Familie seit dem Erscheinen seiner Autobiographie «Spare» gegenüberstehen wird.\n",
    "\n",
    "Im März war er überraschend in London, um an einem Verfahren wegen angeblicher Verletzung des Datenschutzes durch die Medien teilzunehmen, aber es wird vermutet, dass er dabei weder seinen Vater Charles noch seinen Bruder William getroffen hat.\n",
    "\n",
    "Der 6. Mai ist auch der 4. Geburtstag von Harrys und Meghans Sohn Archie. Die beiden seien vor einem Monat vom Palast wegen einer möglichen Teilnahme an den Krönungsfeierlichkeiten kontaktiert worden, heisst es in der Meldung der BBC. Die Entscheidung, dass Meghan – angeblich wegen Archies Geburtstag – zuhause in Kalifornien bei den Kindern bleibt, sei ein weiteres Zeichen für die Distanz zwischen ihr und der Royal Family, teilt die BBC mit.\n",
    "\n",
    "Harry wird an der Krönung von Charles III. und Camilla keine grosse Rolle spielen, die sei dem Thronfolger Prinz William vorbehalten, heisst es.\n",
    "\"\"\"\n",
    "\n",
    "raw_text6 = \"\"\"\n",
    "Vor rund drei Jahren reiste Fritz Schenkel von Vietnam in die Schweiz ein, um nach dem Tod seines Bruders dessen Wohnung aufzulösen. Er checkte im Park Hotel in Winterthur ein – und blieb dort fast drei Jahre lang. Wegen der Corona-Pandemie strandet Fritz Schenkel in der Schweiz. Die Rückreise nach Vietnam konnte er aufgrund der Reisebeschränkungen nicht mehr antreten. Im südostasiatischen Land betreute Schenkel als Berater ein Projekt zum Bau eines Luxushotels. Zwar könnte Fritz Schenkel wieder zurück nach Vietnam einreisen, wo er als Berater für ein Hotelprojekt arbeitete, wie der «Landbote» schreibt. Die Jobsuche in Südostasien verlief jedoch trotz Headhunter erfolglos. Fritz Schenkel: «Ich bleibe optimistisch.» Die Geschichte des 70-Jährigen ging bereits während der Pandemie durch die Schweizer Medienwelt, unzählige Zeitungen und Onlineportale berichteten über Schenkel. Der passionierte Hotelier hat mit seinen 70 Jahren das Rentenalter in der Schweiz längst erreicht. Laut Schenkel könne man aber in seinem Alter nicht mehr in einer internationalen Hotelkette arbeiten. «Alle klagen über Personalmangel, aber niemand stellt Menschen über 60 an.» In den drei Jahren, die er zuletzt in der Schweiz verbrachte, pflegte er alte Bekanntschaften und Kontakte, besuchte auch Branchentreffs. «Wenn ich gewusst hätte, dass ich so lange hier strande, hätte ich in Winterthur einen kleinen Laden oder ein Café übernommen.» Er könne sich dies immer noch vorstellen, hoffe jedoch auf einen Job im Ausland. «Ich habe Mühe, mich wieder an die Mentalität hier zu gewöhnen.» Mittlerweile wohnt Schenkel im Hotel Wartmann, beim Hauptbahnhof in Winterthur. «Ich muss den Gürtel enger schnallen, auch das Mietauto habe ich abgegeben», so der 70-Jährige. «Wenn ich bis dann keinen Job finde, muss ich in den sauren Apfel beissen und nach Berg am Irchel ziehen.» Dort habe er in einer Wohnung auch einen Grossteil seiner Sachen, unter anderem Familienerbstücke, wie das Inventar aus dem Restaurant Rossberg, wie der «Landbote» schreibt. «Es gibt da keine Infrastruktur, keine Läden, keine Bank und keine Post. Ich würde überschnappen.»\n",
    "\"\"\""
   ]
  },
  {
   "cell_type": "code",
   "execution_count": 16,
   "metadata": {},
   "outputs": [
    {
     "name": "stdout",
     "output_type": "stream",
     "text": [
      "len of col: 8\n",
      "len of new col: 7\n"
     ]
    }
   ],
   "source": [
    "import Levenshtein\n",
    "\n",
    "collection = []\n",
    "collection.append(raw_text1)\n",
    "collection.append(raw_text1_2)\n",
    "collection.append(raw_text2)\n",
    "collection.append(raw_text3)\n",
    "collection.append(raw_text4)\n",
    "collection.append(raw_text5)\n",
    "collection.append(raw_text6)\n",
    "#collection.append(raw_text1)\n",
    "collection.append(raw_text_5_2)\n",
    "\n",
    "print(f'len of col: {len(collection)}')\n",
    "\n",
    "# Schwellenwert für die Ähnlichkeit festlegen\n",
    "threshold = 0.8\n",
    "\n",
    "# Ähnliche Dokumente entfernen\n",
    "unique_documents = []\n",
    "for doc in collection:\n",
    "    is_similar = False\n",
    "    for unique_doc in unique_documents:\n",
    "        if Levenshtein.ratio(doc, unique_doc) > threshold:\n",
    "            is_similar = True\n",
    "            break\n",
    "    if not is_similar:\n",
    "        unique_documents.append(doc)\n",
    "\n",
    "print(f'len of new col: {len(unique_documents)}')\n",
    "\n"
   ]
  },
  {
   "attachments": {},
   "cell_type": "markdown",
   "metadata": {},
   "source": [
    "## cosine similarity"
   ]
  },
  {
   "cell_type": "code",
   "execution_count": 12,
   "metadata": {},
   "outputs": [
    {
     "name": "stdout",
     "output_type": "stream",
     "text": [
      "len of new col: 1\n"
     ]
    }
   ],
   "source": [
    "from sklearn.feature_extraction.text import TfidfVectorizer\n",
    "from sklearn.metrics.pairwise import cosine_similarity\n",
    "\n",
    "\n",
    "docs = collection\n",
    "\n",
    "# TfidfVectorizer-Objekt initialisieren und auf den Text anwenden\n",
    "vectorizer = TfidfVectorizer()\n",
    "vectors = vectorizer.fit_transform(docs)\n",
    "\n",
    "# Cosine-Similaritätsmatrix berechnen\n",
    "cosine_sim = cosine_similarity(vectors)\n",
    "\n",
    "# Duplikate finden und entfernen\n",
    "duplicates = []\n",
    "for i in range(len(cosine_sim)):\n",
    "    for j in range(i+1, len(cosine_sim)):\n",
    "        if cosine_sim[i,j] > 0.8:  # Schwellenwert für Ähnlichkeit anpassen\n",
    "            duplicates.append(j)\n",
    "\n",
    "\n",
    "print(f'len of new col: {len(duplicates)}')"
   ]
  },
  {
   "attachments": {},
   "cell_type": "markdown",
   "metadata": {},
   "source": [
    "## Erster Versuch mit produktiven Daten"
   ]
  },
  {
   "cell_type": "code",
   "execution_count": 17,
   "metadata": {},
   "outputs": [],
   "source": [
    "import json\n",
    "\n",
    "# load Data from JSON\n",
    "with open('articles_20230422-1203.json', 'r') as file:\n",
    "    data = json.load(file)"
   ]
  },
  {
   "cell_type": "code",
   "execution_count": 19,
   "metadata": {},
   "outputs": [
    {
     "name": "stdout",
     "output_type": "stream",
     "text": [
      "len start data 20758\n"
     ]
    }
   ],
   "source": [
    "# Filtern nach Attribut \"source\" mit Wert \"20min\"\n",
    "data_20min = [d for d in data if d.get('source') == '20min']\n",
    "\n",
    "print(f'len start data {len(data_20min)}')"
   ]
  },
  {
   "cell_type": "code",
   "execution_count": 21,
   "metadata": {},
   "outputs": [
    {
     "name": "stdout",
     "output_type": "stream",
     "text": [
      "len clean data20485\n"
     ]
    }
   ],
   "source": [
    "import Levenshtein\n",
    "\n",
    "# Schwellenwert für die Ähnlichkeit festlegen\n",
    "threshold = 0.8\n",
    "\n",
    "# Duplikate entfernen mit Levenshtein-Algorithmus\n",
    "def remove_similar(data):\n",
    "    unique_documents = []\n",
    "    for doc in data:\n",
    "        is_similar = False\n",
    "        for unique_doc in unique_documents:\n",
    "            if Levenshtein.ratio(doc.get('text'), unique_doc.get('text')) > threshold:\n",
    "                is_similar = True\n",
    "                break\n",
    "        if not is_similar:\n",
    "            unique_documents.append(doc)\n",
    "\n",
    "    return unique_documents\n",
    "\n",
    "# Daten bereinigen und in Pandas DataFrame umwandeln\n",
    "clean_data = remove_similar(data_20min)\n",
    "print(f'len clean data{len(clean_data)}')\n",
    "\n"
   ]
  },
  {
   "cell_type": "code",
   "execution_count": null,
   "metadata": {},
   "outputs": [],
   "source": [
    "# 765m 12.75h neu 20485\n",
    "# vorher 20758\n",
    "# 273 dublikate gelöscht"
   ]
  },
  {
   "cell_type": "code",
   "execution_count": 22,
   "metadata": {},
   "outputs": [],
   "source": [
    "import pandas as pd\n",
    "\n",
    "df = pd.DataFrame(clean_data)\n",
    "\n",
    "records = df.to_dict('records')\n",
    "\n",
    "# Datensätze in eine JSON-Datei schreiben\n",
    "with open('clean-data_20min.json', 'w') as file:\n",
    "    json.dump(records, file)"
   ]
  },
  {
   "cell_type": "code",
   "execution_count": 25,
   "metadata": {},
   "outputs": [
    {
     "ename": "BulkWriteError",
     "evalue": "batch op errors occurred, full error: {'writeErrors': [{'index': 0, 'code': 11000, 'errmsg': 'E11000 duplicate key error collection: articles.articles_clean index: _id_ dup key: { _id: \"824ec0d87d2e11ed812884fdd198927f\" }', 'keyPattern': {'_id': 1}, 'keyValue': {'_id': '824ec0d87d2e11ed812884fdd198927f'}, 'op': {'_id': '824ec0d87d2e11ed812884fdd198927f', 'title': 'Berlin: 16 Meter hohes Aquarium\\xa0geplatzt – ist «Materialermüdung» schuld?', 'lead': 'Es ist eine bekannte Touristenattraktion in Berlin: das Grossaquarium Sealife in einem Hotel in der Nähe des Alexanderplatzes. Ein grosser Teil davon wurde jetzt zerstört.', 'url': 'www.20min.ch/story/16-meter-hohes-aquarium-geplatzt-grosseinsatz-in-hotel-634854949427', 'author': '', 'source': '20min', 'published': 1671173468, 'updated': None, 'text': 'Das Grossaquarium im Sea Life nahe dem Berliner Dom ist geplatzt. Gegen 5.45 Uhr habe es ein sehr lautes Geräusch gegeben. Teile der Fassade des Hotels, in dem sich das Aquarium befand, seien auf die Strasse geflogen, sagt ein Polizeisprecher. Durch den Druck der Explosion zersprangen Türen und Fenster. Zwei Personen wurden durch Glassplitter verletzt. Im Aquarium befanden sich rund 1500 tropische Fische unterschiedlicher Arten und 1000 Kubikmeter Wasser. Gemäss «Focus» sind alle Tiere verendet. Kurz nach acht Uhr wurden die 350 Hotelgäste aufgefordert, das Hotel zu verlassen. Die Feuerwehr hatte am Morgen über Twitter gemeldet: «Das Aquarium ist beschädigt, Wasser tritt aus. Die Lage ist zurzeit nicht übersichtlich.» Die Feuerwehr sei mit 100 Einsatzkräften im Dom Aquarée im Einsatz. «Das ist nicht ein kleiner Riss, aus dem das Wasser austritt, sondern das komplette Aquarium ist schlagartig geplatzt», sagte ein Feuerwehrsprecher. Die Verkehrsinformationszentrale Berlin twitterte, die Karl-Liebknecht-Strasse, an der das Hotel mit dem Aquarium liegt, sei gesperrt. «Es gibt extrem viel Wasser auf der Fahrbahn. Bisher ist die Ursache noch unklar.» Der Ort befindet sich ganz in der Nähe des Berliner Alexanderplatzes mit dem Fernsehturm. In dem Gebäudekomplex namens Dom Aquarée befinden sich das Grossaquarium Sea Life und der sogenannte Aqua Dom mit 1500 tropischen Fischen, eine vielen Touristen bekannte Attraktion in Berlin. Wie es im Dom-Aquarée-Internetauftritt heisst, sei der Aqua Dom das «grösste freistehende zylindrische Aquarium der Welt» und sei bis Sommer 2020 umfassend modernisiert worden. Das Unglück ist nach ersten Erkenntnissen wohl auf eine Materialermüdung zurückzuführen.\\xa0«Die Ermittlungen zur Ursache sind natürlich noch nicht abgeschlossen, erste Anzeichen deuten jedoch aus eine Materialermüdung», sagte Berlins Innensenatorin Iris Spranger am Freitag der Deutschen Presse-Agentur.', 'paragraph_hashes': []}}], 'writeConcernErrors': [], 'nInserted': 0, 'nUpserted': 0, 'nMatched': 0, 'nModified': 0, 'nRemoved': 0, 'upserted': []}",
     "output_type": "error",
     "traceback": [
      "\u001b[1;31m---------------------------------------------------------------------------\u001b[0m",
      "\u001b[1;31mBulkWriteError\u001b[0m                            Traceback (most recent call last)",
      "Cell \u001b[1;32mIn[25], line 11\u001b[0m\n\u001b[0;32m      8\u001b[0m \u001b[39m# DataFrame in MongoDB-Datenbank schreiben\u001b[39;00m\n\u001b[0;32m      9\u001b[0m collection \u001b[39m=\u001b[39m db[\u001b[39m\"\u001b[39m\u001b[39marticles_clean\u001b[39m\u001b[39m\"\u001b[39m]\n\u001b[1;32m---> 11\u001b[0m collection\u001b[39m.\u001b[39;49minsert_many(records)\n",
      "File \u001b[1;32mc:\\Users\\anina\\anaconda3\\envs\\Project2\\lib\\site-packages\\pymongo\\collection.py:770\u001b[0m, in \u001b[0;36mCollection.insert_many\u001b[1;34m(self, documents, ordered, bypass_document_validation, session)\u001b[0m\n\u001b[0;32m    768\u001b[0m blk \u001b[39m=\u001b[39m _Bulk(\u001b[39mself\u001b[39m, ordered, bypass_document_validation)\n\u001b[0;32m    769\u001b[0m blk\u001b[39m.\u001b[39mops \u001b[39m=\u001b[39m [doc \u001b[39mfor\u001b[39;00m doc \u001b[39min\u001b[39;00m gen()]\n\u001b[1;32m--> 770\u001b[0m blk\u001b[39m.\u001b[39;49mexecute(write_concern, session\u001b[39m=\u001b[39;49msession)\n\u001b[0;32m    771\u001b[0m \u001b[39mreturn\u001b[39;00m InsertManyResult(inserted_ids, write_concern\u001b[39m.\u001b[39macknowledged)\n",
      "File \u001b[1;32mc:\\Users\\anina\\anaconda3\\envs\\Project2\\lib\\site-packages\\pymongo\\bulk.py:529\u001b[0m, in \u001b[0;36m_Bulk.execute\u001b[1;34m(self, write_concern, session)\u001b[0m\n\u001b[0;32m    527\u001b[0m         \u001b[39mself\u001b[39m\u001b[39m.\u001b[39mexecute_no_results(sock_info, generator)\n\u001b[0;32m    528\u001b[0m \u001b[39melse\u001b[39;00m:\n\u001b[1;32m--> 529\u001b[0m     \u001b[39mreturn\u001b[39;00m \u001b[39mself\u001b[39;49m\u001b[39m.\u001b[39;49mexecute_command(generator, write_concern, session)\n",
      "File \u001b[1;32mc:\\Users\\anina\\anaconda3\\envs\\Project2\\lib\\site-packages\\pymongo\\bulk.py:364\u001b[0m, in \u001b[0;36m_Bulk.execute_command\u001b[1;34m(self, generator, write_concern, session)\u001b[0m\n\u001b[0;32m    360\u001b[0m     client\u001b[39m.\u001b[39m_retry_with_session(\n\u001b[0;32m    361\u001b[0m         \u001b[39mself\u001b[39m\u001b[39m.\u001b[39mis_retryable, retryable_bulk, s, \u001b[39mself\u001b[39m)\n\u001b[0;32m    363\u001b[0m \u001b[39mif\u001b[39;00m full_result[\u001b[39m\"\u001b[39m\u001b[39mwriteErrors\u001b[39m\u001b[39m\"\u001b[39m] \u001b[39mor\u001b[39;00m full_result[\u001b[39m\"\u001b[39m\u001b[39mwriteConcernErrors\u001b[39m\u001b[39m\"\u001b[39m]:\n\u001b[1;32m--> 364\u001b[0m     _raise_bulk_write_error(full_result)\n\u001b[0;32m    365\u001b[0m \u001b[39mreturn\u001b[39;00m full_result\n",
      "File \u001b[1;32mc:\\Users\\anina\\anaconda3\\envs\\Project2\\lib\\site-packages\\pymongo\\bulk.py:140\u001b[0m, in \u001b[0;36m_raise_bulk_write_error\u001b[1;34m(full_result)\u001b[0m\n\u001b[0;32m    137\u001b[0m \u001b[39mif\u001b[39;00m full_result[\u001b[39m\"\u001b[39m\u001b[39mwriteErrors\u001b[39m\u001b[39m\"\u001b[39m]:\n\u001b[0;32m    138\u001b[0m     full_result[\u001b[39m\"\u001b[39m\u001b[39mwriteErrors\u001b[39m\u001b[39m\"\u001b[39m]\u001b[39m.\u001b[39msort(\n\u001b[0;32m    139\u001b[0m         key\u001b[39m=\u001b[39m\u001b[39mlambda\u001b[39;00m error: error[\u001b[39m\"\u001b[39m\u001b[39mindex\u001b[39m\u001b[39m\"\u001b[39m])\n\u001b[1;32m--> 140\u001b[0m \u001b[39mraise\u001b[39;00m BulkWriteError(full_result)\n",
      "\u001b[1;31mBulkWriteError\u001b[0m: batch op errors occurred, full error: {'writeErrors': [{'index': 0, 'code': 11000, 'errmsg': 'E11000 duplicate key error collection: articles.articles_clean index: _id_ dup key: { _id: \"824ec0d87d2e11ed812884fdd198927f\" }', 'keyPattern': {'_id': 1}, 'keyValue': {'_id': '824ec0d87d2e11ed812884fdd198927f'}, 'op': {'_id': '824ec0d87d2e11ed812884fdd198927f', 'title': 'Berlin: 16 Meter hohes Aquarium\\xa0geplatzt – ist «Materialermüdung» schuld?', 'lead': 'Es ist eine bekannte Touristenattraktion in Berlin: das Grossaquarium Sealife in einem Hotel in der Nähe des Alexanderplatzes. Ein grosser Teil davon wurde jetzt zerstört.', 'url': 'www.20min.ch/story/16-meter-hohes-aquarium-geplatzt-grosseinsatz-in-hotel-634854949427', 'author': '', 'source': '20min', 'published': 1671173468, 'updated': None, 'text': 'Das Grossaquarium im Sea Life nahe dem Berliner Dom ist geplatzt. Gegen 5.45 Uhr habe es ein sehr lautes Geräusch gegeben. Teile der Fassade des Hotels, in dem sich das Aquarium befand, seien auf die Strasse geflogen, sagt ein Polizeisprecher. Durch den Druck der Explosion zersprangen Türen und Fenster. Zwei Personen wurden durch Glassplitter verletzt. Im Aquarium befanden sich rund 1500 tropische Fische unterschiedlicher Arten und 1000 Kubikmeter Wasser. Gemäss «Focus» sind alle Tiere verendet. Kurz nach acht Uhr wurden die 350 Hotelgäste aufgefordert, das Hotel zu verlassen. Die Feuerwehr hatte am Morgen über Twitter gemeldet: «Das Aquarium ist beschädigt, Wasser tritt aus. Die Lage ist zurzeit nicht übersichtlich.» Die Feuerwehr sei mit 100 Einsatzkräften im Dom Aquarée im Einsatz. «Das ist nicht ein kleiner Riss, aus dem das Wasser austritt, sondern das komplette Aquarium ist schlagartig geplatzt», sagte ein Feuerwehrsprecher. Die Verkehrsinformationszentrale Berlin twitterte, die Karl-Liebknecht-Strasse, an der das Hotel mit dem Aquarium liegt, sei gesperrt. «Es gibt extrem viel Wasser auf der Fahrbahn. Bisher ist die Ursache noch unklar.» Der Ort befindet sich ganz in der Nähe des Berliner Alexanderplatzes mit dem Fernsehturm. In dem Gebäudekomplex namens Dom Aquarée befinden sich das Grossaquarium Sea Life und der sogenannte Aqua Dom mit 1500 tropischen Fischen, eine vielen Touristen bekannte Attraktion in Berlin. Wie es im Dom-Aquarée-Internetauftritt heisst, sei der Aqua Dom das «grösste freistehende zylindrische Aquarium der Welt» und sei bis Sommer 2020 umfassend modernisiert worden. Das Unglück ist nach ersten Erkenntnissen wohl auf eine Materialermüdung zurückzuführen.\\xa0«Die Ermittlungen zur Ursache sind natürlich noch nicht abgeschlossen, erste Anzeichen deuten jedoch aus eine Materialermüdung», sagte Berlins Innensenatorin Iris Spranger am Freitag der Deutschen Presse-Agentur.', 'paragraph_hashes': []}}], 'writeConcernErrors': [], 'nInserted': 0, 'nUpserted': 0, 'nMatched': 0, 'nModified': 0, 'nRemoved': 0, 'upserted': []}"
     ]
    }
   ],
   "source": [
    "import pymongo\n",
    "\n",
    "\n",
    "# Verbindung zur MongoDB-Datenbank herstellen\n",
    "client = pymongo.MongoClient(\"mongodb://localhost:27017/\")\n",
    "db = client[\"articles\"]\n",
    "\n",
    "# DataFrame in MongoDB-Datenbank schreiben\n",
    "collection = db[\"articles_clean\"]\n",
    "\n",
    "collection.insert_many(records)\n",
    "\n",
    "# mongosh \"mongodb://localhost:27017/articles\"\n",
    "# db.articles-clean.count()"
   ]
  },
  {
   "attachments": {},
   "cell_type": "markdown",
   "metadata": {},
   "source": [
    "## Watson Tests"
   ]
  },
  {
   "cell_type": "code",
   "execution_count": 1,
   "metadata": {},
   "outputs": [],
   "source": [
    "import json\n",
    "\n",
    "# load Data from JSON\n",
    "with open('articles_20230422-1203.json', 'r') as file:\n",
    "    data_json = json.load(file)"
   ]
  },
  {
   "cell_type": "code",
   "execution_count": 2,
   "metadata": {},
   "outputs": [
    {
     "name": "stdout",
     "output_type": "stream",
     "text": [
      "len start data 77220\n"
     ]
    }
   ],
   "source": [
    "# Filtern nach Attribut \"source\" mit Wert \"20min\"\n",
    "data_watson = [d for d in data_json if d.get('source') == 'Watson']\n",
    "\n",
    "print(f'len start data {len(data_watson)}')"
   ]
  },
  {
   "cell_type": "code",
   "execution_count": 3,
   "metadata": {},
   "outputs": [
    {
     "name": "stdout",
     "output_type": "stream",
     "text": [
      "len start data 1000\n"
     ]
    }
   ],
   "source": [
    "# just take 100\n",
    "\n",
    "data_watson_1000 = []\n",
    "counter = 0\n",
    "for d in data_watson:\n",
    "    if counter < 1000:\n",
    "        counter = counter + 1\n",
    "        data_watson_1000.append(d)\n",
    "    else:\n",
    "        break\n",
    "\n",
    "print(f'len start data {len(data_watson_1000)}')\n"
   ]
  },
  {
   "cell_type": "code",
   "execution_count": 32,
   "metadata": {},
   "outputs": [
    {
     "name": "stdout",
     "output_type": "stream",
     "text": [
      "len clean data 983\n"
     ]
    }
   ],
   "source": [
    "# Levenshtein\n",
    "import Levenshtein\n",
    "\n",
    "# Schwellenwert für die Ähnlichkeit festlegen\n",
    "threshold = 0.8\n",
    "\n",
    "# Duplikate entfernen mit Levenshtein-Algorithmus\n",
    "def remove_similar(data):\n",
    "    unique_documents = []\n",
    "    for doc in data:\n",
    "        is_similar = False\n",
    "        for unique_doc in unique_documents:\n",
    "            if Levenshtein.ratio(doc.get('text'), unique_doc.get('text')) > threshold:\n",
    "                is_similar = True\n",
    "                break\n",
    "        if not is_similar:\n",
    "            unique_documents.append(doc)\n",
    "\n",
    "    return unique_documents\n",
    "\n",
    "# Daten bereinigen und in Pandas DataFrame umwandeln\n",
    "clean_data_watson = remove_similar(data_watson_1000)\n",
    "print(f'len clean data {len(clean_data_watson)}')"
   ]
  },
  {
   "cell_type": "code",
   "execution_count": 35,
   "metadata": {},
   "outputs": [
    {
     "name": "stdout",
     "output_type": "stream",
     "text": [
      "len of new col: 9\n"
     ]
    }
   ],
   "source": [
    "from sklearn.feature_extraction.text import TfidfVectorizer\n",
    "from sklearn.metrics.pairwise import cosine_similarity\n",
    "\n",
    "docs = list(map(lambda p: p.get('text'), data_watson_1000))\n",
    "\n",
    "# TfidfVectorizer-Objekt initialisieren und auf den Text anwenden\n",
    "vectorizer = TfidfVectorizer()\n",
    "vectors = vectorizer.fit_transform(docs)\n",
    "\n",
    "# Cosine-Similaritätsmatrix berechnen\n",
    "cosine_sim = cosine_similarity(vectors)\n",
    "\n",
    "# Duplikate finden und entfernen\n",
    "duplicates = []\n",
    "for i in range(len(cosine_sim)):\n",
    "    for j in range(i+1, len(cosine_sim)):\n",
    "        if cosine_sim[i,j] > 0.8:  # Schwellenwert für Ähnlichkeit anpassen\n",
    "            duplicates.append(j)\n",
    "\n",
    "\n",
    "print(f'len of new col: {len(duplicates)}')"
   ]
  },
  {
   "attachments": {},
   "cell_type": "markdown",
   "metadata": {},
   "source": [
    "## Insert 20min clean Data"
   ]
  },
  {
   "cell_type": "code",
   "execution_count": 4,
   "metadata": {},
   "outputs": [
    {
     "data": {
      "text/plain": [
       "<pymongo.results.InsertManyResult at 0x214e4fd6940>"
      ]
     },
     "execution_count": 4,
     "metadata": {},
     "output_type": "execute_result"
    }
   ],
   "source": [
    "import pymongo\n",
    "import json\n",
    "\n",
    "# Verbindung zur MongoDB-Datenbank herstellen\n",
    "client = pymongo.MongoClient(\"mongodb://localhost:27017/\")\n",
    "db = client[\"mydatabase\"]\n",
    "\n",
    "# JSON-Datei lesen\n",
    "with open('clean-data_20min.json', 'r') as file:\n",
    "    data = json.load(file)\n",
    "\n",
    "# Datensätze in die MongoDB-Datenbank schreiben\n",
    "collection = db[\"mycollection\"]\n",
    "collection.insert_many(data)"
   ]
  },
  {
   "cell_type": "code",
   "execution_count": 5,
   "metadata": {},
   "outputs": [
    {
     "data": {
      "text/plain": [
       "<pymongo.results.InsertManyResult at 0x21591102340>"
      ]
     },
     "execution_count": 5,
     "metadata": {},
     "output_type": "execute_result"
    }
   ],
   "source": [
    "# JSON-Datei lesen\n",
    "with open('clean-data_watson_1000.json', 'r') as file:\n",
    "    data = json.load(file)\n",
    "\n",
    "# Datensätze in die MongoDB-Datenbank schreiben\n",
    "collection = db[\"mycollection\"]\n",
    "collection.insert_many(data)"
   ]
  }
 ],
 "metadata": {
  "kernelspec": {
   "display_name": "Project2",
   "language": "python",
   "name": "python3"
  },
  "language_info": {
   "codemirror_mode": {
    "name": "ipython",
    "version": 3
   },
   "file_extension": ".py",
   "mimetype": "text/x-python",
   "name": "python",
   "nbconvert_exporter": "python",
   "pygments_lexer": "ipython3",
   "version": "3.10.8"
  },
  "orig_nbformat": 4
 },
 "nbformat": 4,
 "nbformat_minor": 2
}
