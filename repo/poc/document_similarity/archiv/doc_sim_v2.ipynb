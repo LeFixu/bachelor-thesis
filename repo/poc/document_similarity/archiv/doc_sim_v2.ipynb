{
 "cells": [
  {
   "attachments": {},
   "cell_type": "markdown",
   "metadata": {},
   "source": [
    "# Test Document Similarity v2\n"
   ]
  },
  {
   "cell_type": "code",
   "execution_count": 35,
   "metadata": {},
   "outputs": [],
   "source": [
    "import json\n",
    "\n",
    "# load Data from JSON\n",
    "with open('articles_20230422-1203.json', 'r', encoding='utf8') as file:\n",
    "    data_json = json.load(file)"
   ]
  },
  {
   "cell_type": "code",
   "execution_count": 36,
   "metadata": {},
   "outputs": [
    {
     "name": "stdout",
     "output_type": "stream",
     "text": [
      "len start data 77220\n"
     ]
    }
   ],
   "source": [
    "# Filtern nach Attribut \"source\" mit Wert \"Watson\"\n",
    "data_watson = [d for d in data_json if d.get('source') == 'Watson']\n",
    "\n",
    "print(f'len start data {len(data_watson)}')"
   ]
  },
  {
   "cell_type": "code",
   "execution_count": 37,
   "metadata": {},
   "outputs": [
    {
     "name": "stdout",
     "output_type": "stream",
     "text": [
      "len start data 1000\n"
     ]
    }
   ],
   "source": [
    "# just take 100\n",
    "\n",
    "data_watson_1000 = []\n",
    "counter = 0\n",
    "for d in data_watson:\n",
    "    if counter < 1000:\n",
    "        counter = counter + 1\n",
    "        data_watson_1000.append(d)\n",
    "    else:\n",
    "        break\n",
    "\n",
    "print(f'len start data {len(data_watson_1000)}')"
   ]
  },
  {
   "cell_type": "code",
   "execution_count": 38,
   "metadata": {},
   "outputs": [
    {
     "name": "stdout",
     "output_type": "stream",
     "text": [
      "(1000, 44693)\n"
     ]
    }
   ],
   "source": [
    "from sklearn.feature_extraction.text import CountVectorizer\n",
    "from sklearn.feature_extraction.text import TfidfVectorizer\n",
    "\n",
    "# Dokumente aus der Sammlung abrufen und in eine Liste speichern\n",
    "docs = data_watson_1000\n",
    "\n",
    "# TfidfVectorizer-Objekt initialisieren und auf den Text anwenden\n",
    "vectorizer = TfidfVectorizer()\n",
    "vectors = vectorizer.fit_transform([doc['text'] for doc in docs])\n",
    "print(vectors.shape)"
   ]
  },
  {
   "cell_type": "code",
   "execution_count": 39,
   "metadata": {},
   "outputs": [
    {
     "name": "stdout",
     "output_type": "stream",
     "text": [
      " Erfreulich verlief trotz der zwei schwierigen Jahre mit Corona auch die sportliche Entwicklung. Die Mitgliederzahlen bei den angeschlossenen Klubs und Tenniscentern stiegen im Vergleich zum letzten Jahr um 6,7 Prozent, die Zahl der Lizenzen von Wettkampfspielern um 2,3 Prozent. Sie sind damit auf dem höchsten Stand seit 2016. (ram/sda)Tennis zeigt sich sehr zufrieden mit dem zu Ende gehenden Jahr 2022. Der schweizerische Tennisverband schliesst das Geschäftsjahr 2021/22 mit einem Gewinn von gut 236'000 Franken ab und kann zusätzlich 800'000 in den Fonds für Davis Cup, Billie Jean Cup und Spitzensport überweisen.ubs waren nicht im Spiel) waren ungefähr gleich.at Pius Suter mit den Detroit Red Wings eine 1:4-Niederlage gegen die Minnesota Wild erlitten. Suter gab einen Schuss aufs Tor ab und stand während 14:33 Minuten auf dem Eis. Bei Minnesota wurde Frederick Gaudreau zum Matchwinner, der Kanadier schoss das erste und das letzte Tor der Partie. (ram) Die Atlanta Hawks treten im Kampf um den Einzug in die NBA-Playoffs weiter auf der Stelle. Das Team von Clint Capela bezog gegen Orlando die fünfte Niederlage aus den letzten sechs Spielen. Bei der 124:135-Auswärtsniederlage handelten sich die Hawks allein im ersten Viertel eine 22:50-Hypothek ein. 50 oder mehr Punkte waren zuvor erst acht Teams bis zur ersten Pause gelungen.\n",
      " Erfreulich verlief trotz der zwei schwierigen Jahre mit Corona auch die sportliche Entwicklung. Die Mitgliederzahlen bei den angeschlossenen Klubs und Tenniscentern stiegen im Vergleich zum letzten Jahr um 6,7 Prozent, die Zahl der Lizenzen von Wettkampfspielern um 2,3 Prozent. Sie sind damit auf dem höchsten Stand seit 2016. (ram/sda)Tennis zeigt sich sehr zufrieden mit dem zu Ende gehenden Jahr 2022. Der schweizerische Tennisverband schliesst das Geschäftsjahr 2021/22 mit einem Gewinn von gut 236'000 Franken ab und kann zusätzlich 800'000 in den Fonds für Davis Cup, Billie Jean Cup und Spitzensport überweisen.ubs waren nicht im Spiel) waren ungefähr gleich.at Pius Suter mit den Detroit Red Wings eine 1:4-Niederlage gegen die Minnesota Wild erlitten. Suter gab einen Schuss aufs Tor ab und stand während 14:33 Minuten auf dem Eis. Bei Minnesota wurde Frederick Gaudreau zum Matchwinner, der Kanadier schoss das erste und das letzte Tor der Partie. (ram) Die Atlanta Hawks treten im Kampf um den Einzug in die NBA-Playoffs weiter auf der Stelle. Das Team von Clint Capela bezog gegen Orlando die fünfte Niederlage aus den letzten sechs Spielen. Bei der 124:135-Auswärtsniederlage handelten sich die Hawks allein im ersten Viertel eine 22:50-Hypothek ein. 50 oder mehr Punkte waren zuvor erst acht Teams bis zur ersten Pause gelungen.\n",
      "0.9732618315845584\n",
      " Erfreulich verlief trotz der zwei schwierigen Jahre mit Corona auch die sportliche Entwicklung. Die Mitgliederzahlen bei den angeschlossenen Klubs und Tenniscentern stiegen im Vergleich zum letzten Jahr um 6,7 Prozent, die Zahl der Lizenzen von Wettkampfspielern um 2,3 Prozent. Sie sind damit auf dem höchsten Stand seit 2016. (ram/sda)Tennis zeigt sich sehr zufrieden mit dem zu Ende gehenden Jahr 2022. Der schweizerische Tennisverband schliesst das Geschäftsjahr 2021/22 mit einem Gewinn von gut 236'000 Franken ab und kann zusätzlich 800'000 in den Fonds für Davis Cup, Billie Jean Cup und Spitzensport überweisen.ubs waren nicht im Spiel) waren ungefähr gleich.at Pius Suter mit den Detroit Red Wings eine 1:4-Niederlage gegen die Minnesota Wild erlitten. Suter gab einen Schuss aufs Tor ab und stand während 14:33 Minuten auf dem Eis. Bei Minnesota wurde Frederick Gaudreau zum Matchwinner, der Kanadier schoss das erste und das letzte Tor der Partie. (ram) Die Atlanta Hawks treten im Kampf um den Einzug in die NBA-Playoffs weiter auf der Stelle. Das Team von Clint Capela bezog gegen Orlando die fünfte Niederlage aus den letzten sechs Spielen. Bei der 124:135-Auswärtsniederlage handelten sich die Hawks allein im ersten Viertel eine 22:50-Hypothek ein. 50 oder mehr Punkte waren zuvor erst acht Teams bis zur ersten Pause gelungen.\n",
      " Erfreulich verlief trotz der zwei schwierigen Jahre mit Corona auch die sportliche Entwicklung. Die Mitgliederzahlen bei den angeschlossenen Klubs und Tenniscentern stiegen im Vergleich zum letzten Jahr um 6,7 Prozent, die Zahl der Lizenzen von Wettkampfspielern um 2,3 Prozent. Sie sind damit auf dem höchsten Stand seit 2016. (ram/sda)Tennis zeigt sich sehr zufrieden mit dem zu Ende gehenden Jahr 2022. Der schweizerische Tennisverband schliesst das Geschäftsjahr 2021/22 mit einem Gewinn von gut 236'000 Franken ab und kann zusätzlich 800'000 in den Fonds für Davis Cup, Billie Jean Cup und Spitzensport überweisen.ubs waren nicht im Spiel) waren ungefähr gleich.at Pius Suter mit den Detroit Red Wings eine 1:4-Niederlage gegen die Minnesota Wild erlitten. Suter gab einen Schuss aufs Tor ab und stand während 14:33 Minuten auf dem Eis. Bei Minnesota wurde Frederick Gaudreau zum Matchwinner, der Kanadier schoss das erste und das letzte Tor der Partie. (ram) Die Atlanta Hawks treten im Kampf um den Einzug in die NBA-Playoffs weiter auf der Stelle. Das Team von Clint Capela bezog gegen Orlando die fünfte Niederlage aus den letzten sechs Spielen. Bei der 124:135-Auswärtsniederlage handelten sich die Hawks allein im ersten Viertel eine 22:50-Hypothek ein. 50 oder mehr Punkte waren zuvor erst acht Teams bis zur ersten Pause gelungen.\n",
      "0.9732618315845584\n",
      " Erfreulich verlief trotz der zwei schwierigen Jahre mit Corona auch die sportliche Entwicklung. Die Mitgliederzahlen bei den angeschlossenen Klubs und Tenniscentern stiegen im Vergleich zum letzten Jahr um 6,7 Prozent, die Zahl der Lizenzen von Wettkampfspielern um 2,3 Prozent. Sie sind damit auf dem höchsten Stand seit 2016. (ram/sda)Tennis zeigt sich sehr zufrieden mit dem zu Ende gehenden Jahr 2022. Der schweizerische Tennisverband schliesst das Geschäftsjahr 2021/22 mit einem Gewinn von gut 236'000 Franken ab und kann zusätzlich 800'000 in den Fonds für Davis Cup, Billie Jean Cup und Spitzensport überweisen.ubs waren nicht im Spiel) waren ungefähr gleich.at Pius Suter mit den Detroit Red Wings eine 1:4-Niederlage gegen die Minnesota Wild erlitten. Suter gab einen Schuss aufs Tor ab und stand während 14:33 Minuten auf dem Eis. Bei Minnesota wurde Frederick Gaudreau zum Matchwinner, der Kanadier schoss das erste und das letzte Tor der Partie. (ram) Die Atlanta Hawks treten im Kampf um den Einzug in die NBA-Playoffs weiter auf der Stelle. Das Team von Clint Capela bezog gegen Orlando die fünfte Niederlage aus den letzten sechs Spielen. Bei der 124:135-Auswärtsniederlage handelten sich die Hawks allein im ersten Viertel eine 22:50-Hypothek ein. 50 oder mehr Punkte waren zuvor erst acht Teams bis zur ersten Pause gelungen.\n",
      " Erfreulich verlief trotz der zwei schwierigen Jahre mit Corona auch die sportliche Entwicklung. Die Mitgliederzahlen bei den angeschlossenen Klubs und Tenniscentern stiegen im Vergleich zum letzten Jahr um 6,7 Prozent, die Zahl der Lizenzen von Wettkampfspielern um 2,3 Prozent. Sie sind damit auf dem höchsten Stand seit 2016. (ram/sda)Tennis zeigt sich sehr zufrieden mit dem zu Ende gehenden Jahr 2022. Der schweizerische Tennisverband schliesst das Geschäftsjahr 2021/22 mit einem Gewinn von gut 236'000 Franken ab und kann zusätzlich 800'000 in den Fonds für Davis Cup, Billie Jean Cup und Spitzensport überweisen.ubs waren nicht im Spiel) waren ungefähr gleich.at Pius Suter mit den Detroit Red Wings eine 1:4-Niederlage gegen die Minnesota Wild erlitten. Suter gab einen Schuss aufs Tor ab und stand während 14:33 Minuten auf dem Eis. Bei Minnesota wurde Frederick Gaudreau zum Matchwinner, der Kanadier schoss das erste und das letzte Tor der Partie. (ram) Die Atlanta Hawks treten im Kampf um den Einzug in die NBA-Playoffs weiter auf der Stelle. Das Team von Clint Capela bezog gegen Orlando die fünfte Niederlage aus den letzten sechs Spielen. Bei der 124:135-Auswärtsniederlage handelten sich die Hawks allein im ersten Viertel eine 22:50-Hypothek ein. 50 oder mehr Punkte waren zuvor erst acht Teams bis zur ersten Pause gelungen.\n",
      "0.9732618315845584\n",
      " Erfreulich verlief trotz der zwei schwierigen Jahre mit Corona auch die sportliche Entwicklung. Die Mitgliederzahlen bei den angeschlossenen Klubs und Tenniscentern stiegen im Vergleich zum letzten Jahr um 6,7 Prozent, die Zahl der Lizenzen von Wettkampfspielern um 2,3 Prozent. Sie sind damit auf dem höchsten Stand seit 2016. (ram/sda)Tennis zeigt sich sehr zufrieden mit dem zu Ende gehenden Jahr 2022. Der schweizerische Tennisverband schliesst das Geschäftsjahr 2021/22 mit einem Gewinn von gut 236'000 Franken ab und kann zusätzlich 800'000 in den Fonds für Davis Cup, Billie Jean Cup und Spitzensport überweisen.ubs waren nicht im Spiel) waren ungefähr gleich.at Pius Suter mit den Detroit Red Wings eine 1:4-Niederlage gegen die Minnesota Wild erlitten. Suter gab einen Schuss aufs Tor ab und stand während 14:33 Minuten auf dem Eis. Bei Minnesota wurde Frederick Gaudreau zum Matchwinner, der Kanadier schoss das erste und das letzte Tor der Partie. (ram) Die Atlanta Hawks treten im Kampf um den Einzug in die NBA-Playoffs weiter auf der Stelle. Das Team von Clint Capela bezog gegen Orlando die fünfte Niederlage aus den letzten sechs Spielen. Bei der 124:135-Auswärtsniederlage handelten sich die Hawks allein im ersten Viertel eine 22:50-Hypothek ein. 50 oder mehr Punkte waren zuvor erst acht Teams bis zur ersten Pause gelungen.\n",
      " Erfreulich verlief trotz der zwei schwierigen Jahre mit Corona auch die sportliche Entwicklung. Die Mitgliederzahlen bei den angeschlossenen Klubs und Tenniscentern stiegen im Vergleich zum letzten Jahr um 6,7 Prozent, die Zahl der Lizenzen von Wettkampfspielern um 2,3 Prozent. Sie sind damit auf dem höchsten Stand seit 2016. (ram/sda)Tennis zeigt sich sehr zufrieden mit dem zu Ende gehenden Jahr 2022. Der schweizerische Tennisverband schliesst das Geschäftsjahr 2021/22 mit einem Gewinn von gut 236'000 Franken ab und kann zusätzlich 800'000 in den Fonds für Davis Cup, Billie Jean Cup und Spitzensport überweisen.ubs waren nicht im Spiel) waren ungefähr gleich.at Pius Suter mit den Detroit Red Wings eine 1:4-Niederlage gegen die Minnesota Wild erlitten. Suter gab einen Schuss aufs Tor ab und stand während 14:33 Minuten auf dem Eis. Bei Minnesota wurde Frederick Gaudreau zum Matchwinner, der Kanadier schoss das erste und das letzte Tor der Partie. (ram) Die Atlanta Hawks treten im Kampf um den Einzug in die NBA-Playoffs weiter auf der Stelle. Das Team von Clint Capela bezog gegen Orlando die fünfte Niederlage aus den letzten sechs Spielen. Bei der 124:135-Auswärtsniederlage handelten sich die Hawks allein im ersten Viertel eine 22:50-Hypothek ein. 50 oder mehr Punkte waren zuvor erst acht Teams bis zur ersten Pause gelungen.\n",
      "0.9732618315845584\n",
      "12\n",
      "988\n"
     ]
    }
   ],
   "source": [
    "from sklearn.metrics.pairwise import cosine_similarity\n",
    "\n",
    "duplicates = set()\n",
    "\n",
    "# Schwellenwert für die Ähnlichkeit festlegen\n",
    "threshold = 0.90\n",
    "\n",
    "# Cosine-Similaritätsmatrix berechnen\n",
    "for i,v in enumerate(vectors):\n",
    "    cosine_sim = cosine_similarity(vectors, v)\n",
    "    # print(cosine_sim)\n",
    "    # break\n",
    "    for j in range(len(cosine_sim)):\n",
    "        if cosine_sim[j][0] > threshold and j != i:\n",
    "            duplicates.add(j)\n",
    "            # print(cosine_sim[j][0])\n",
    "            if cosine_sim[j][0] > 0.98:\n",
    "                 continue\n",
    "            print(docs[j]['text'])\n",
    "            print(docs[i]['text'])\n",
    "            print(cosine_sim[j][0])\n",
    "\n",
    "print(len(duplicates))\n",
    "\n",
    "# Eindeutige Dokumente auswählen\n",
    "unique_docs_watson = []\n",
    "for i in range(len(docs)):\n",
    "    if i not in duplicates:\n",
    "        unique_docs_watson.append(docs[i])\n",
    "\n",
    "print(len(unique_docs_watson))"
   ]
  },
  {
   "cell_type": "code",
   "execution_count": 40,
   "metadata": {},
   "outputs": [],
   "source": [
    "import pandas as pd\n",
    "\n",
    "df = pd.DataFrame(unique_docs_watson)\n",
    "\n",
    "records = df.to_dict('records')\n",
    "\n",
    "# Datensätze in eine JSON-Datei schreiben\n",
    "with open('clean-data_watson_1000_v2.json', 'w', encoding='utf8') as file:\n",
    "    json.dump(records, file)"
   ]
  },
  {
   "cell_type": "code",
   "execution_count": 42,
   "metadata": {},
   "outputs": [
    {
     "data": {
      "text/plain": [
       "<pymongo.results.InsertManyResult at 0x22d2e250640>"
      ]
     },
     "execution_count": 42,
     "metadata": {},
     "output_type": "execute_result"
    }
   ],
   "source": [
    "import pymongo\n",
    "import json\n",
    "\n",
    "# Verbindung zur MongoDB-Datenbank herstellen\n",
    "client = pymongo.MongoClient(\"mongodb://localhost:27017/\")\n",
    "db = client[\"mydatabase\"]\n",
    "\n",
    "# JSON-Datei lesen\n",
    "with open('clean-data_watson_1000_v2.json', 'r') as file:\n",
    "    data = json.load(file)\n",
    "\n",
    "# Datensätze in die MongoDB-Datenbank schreiben\n",
    "collection = db[\"mycollection\"]\n",
    "collection.insert_many(data)"
   ]
  },
  {
   "cell_type": "code",
   "execution_count": 9,
   "metadata": {},
   "outputs": [
    {
     "name": "stdout",
     "output_type": "stream",
     "text": [
      "len of new col: 396\n"
     ]
    }
   ],
   "source": [
    "from sklearn.feature_extraction.text import TfidfVectorizer\n",
    "from sklearn.metrics.pairwise import cosine_similarity\n",
    "\n",
    "docs_2 = list(map(lambda p: p.get('text'), data_watson_1000))\n",
    "\n",
    "# TfidfVectorizer-Objekt initialisieren und auf den Text anwenden\n",
    "vectorizer = CountVectorizer()\n",
    "vectors = vectorizer.fit_transform(docs_2)\n",
    "\n",
    "# Cosine-Similaritätsmatrix berechnen\n",
    "cosine_sim = cosine_similarity(vectors)\n",
    "\n",
    "# print(cosine_sim[0,0])\n",
    "\n",
    "# Duplikate finden und entfernen\n",
    "duplicates = []\n",
    "for i in range(len(cosine_sim)):\n",
    "    for j in range(i+1, len(cosine_sim)):\n",
    "        if cosine_sim[i,j] > 0.8:  # Schwellenwert für Ähnlichkeit anpassen\n",
    "            duplicates.append(j)\n",
    "\n",
    "\n",
    "print(f'len of new col: {len(duplicates)}')"
   ]
  },
  {
   "cell_type": "code",
   "execution_count": null,
   "metadata": {},
   "outputs": [],
   "source": [
    "\n",
    "# Duplikate finden und entfernen\n",
    "duplicates = set()\n",
    "for i in range(len(cosine_sim)):\n",
    "    for j in range(i+1, len(cosine_sim)):\n",
    "        if cosine_sim[i,j] > 0.7:  # Schwellenwert für Ähnlichkeit anpassen\n",
    "            duplicates.add(j)\n",
    "\n",
    "# Eindeutige Dokumente auswählen\n",
    "unique_docs = []\n",
    "for i in range(len(docs)):\n",
    "    if i not in duplicates:\n",
    "        unique_docs.append(docs[i])\n",
    "\n",
    "print(f'len of new unique collection: {len(unique_docs)}')"
   ]
  }
 ],
 "metadata": {
  "kernelspec": {
   "display_name": "Project2",
   "language": "python",
   "name": "python3"
  },
  "language_info": {
   "codemirror_mode": {
    "name": "ipython",
    "version": 3
   },
   "file_extension": ".py",
   "mimetype": "text/x-python",
   "name": "python",
   "nbconvert_exporter": "python",
   "pygments_lexer": "ipython3",
   "version": "3.10.8"
  },
  "orig_nbformat": 4
 },
 "nbformat": 4,
 "nbformat_minor": 2
}
