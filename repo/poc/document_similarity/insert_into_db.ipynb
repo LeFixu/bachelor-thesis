{
 "cells": [
  {
   "attachments": {},
   "cell_type": "markdown",
   "metadata": {},
   "source": [
    "# Insert Data into P2 MongoDB"
   ]
  },
  {
   "cell_type": "code",
   "execution_count": 6,
   "metadata": {},
   "outputs": [],
   "source": [
    "def _get_connection_string() -> str:\n",
    "    server = \"147.87.116.60\"\n",
    "    port = \"27017\"\n",
    "    database = \"articles\"\n",
    "    username = \"paulus-the-workhorse\"\n",
    "    password = \"\"\n",
    "    return f\"mongodb://{username}:{password}@{server}:{port}/{database}\""
   ]
  },
  {
   "cell_type": "code",
   "execution_count": 7,
   "metadata": {},
   "outputs": [],
   "source": [
    "import pymongo\n",
    "import json\n",
    "\n",
    "# Verbindung zur MongoDB-Datenbank herstellen\n",
    "connection_string = _get_connection_string()\n",
    "client = pymongo.MongoClient(connection_string)\n",
    "db = client[\"articles\"]"
   ]
  },
  {
   "attachments": {},
   "cell_type": "markdown",
   "metadata": {},
   "source": [
    "# Insert Watson Data\n"
   ]
  },
  {
   "cell_type": "code",
   "execution_count": 3,
   "metadata": {},
   "outputs": [
    {
     "data": {
      "text/plain": [
       "<pymongo.results.InsertManyResult at 0x23c2091c080>"
      ]
     },
     "execution_count": 3,
     "metadata": {},
     "output_type": "execute_result"
    }
   ],
   "source": [
    "# JSON-Datei lesen\n",
    "with open('clean-data_watson_cosine.json', 'r') as file:\n",
    "    data_watson = json.load(file)\n",
    "\n",
    "# Datensätze in die MongoDB-Datenbank schreiben\n",
    "collection = db[\"clean_articles\"]\n",
    "collection.insert_many(data_watson)"
   ]
  },
  {
   "attachments": {},
   "cell_type": "markdown",
   "metadata": {},
   "source": [
    "# Insert SRF Data"
   ]
  },
  {
   "cell_type": "code",
   "execution_count": 4,
   "metadata": {},
   "outputs": [
    {
     "data": {
      "text/plain": [
       "<pymongo.results.InsertManyResult at 0x23c2e189000>"
      ]
     },
     "execution_count": 4,
     "metadata": {},
     "output_type": "execute_result"
    }
   ],
   "source": [
    "# JSON-Datei lesen\n",
    "with open('clean-data_srf_cosine.json', 'r') as file:\n",
    "    data_srf = json.load(file)\n",
    "\n",
    "# Datensätze in die MongoDB-Datenbank schreiben\n",
    "collection = db[\"clean_articles\"]\n",
    "collection.insert_many(data_srf)"
   ]
  },
  {
   "attachments": {},
   "cell_type": "markdown",
   "metadata": {},
   "source": [
    "# Insert 20min Data"
   ]
  },
  {
   "cell_type": "code",
   "execution_count": 5,
   "metadata": {},
   "outputs": [
    {
     "data": {
      "text/plain": [
       "<pymongo.results.InsertManyResult at 0x23c46789e40>"
      ]
     },
     "execution_count": 5,
     "metadata": {},
     "output_type": "execute_result"
    }
   ],
   "source": [
    "# JSON-Datei lesen\n",
    "with open('clean-data_20min_cosine.json', 'r') as file:\n",
    "    data_20min = json.load(file)\n",
    "\n",
    "# Datensätze in die MongoDB-Datenbank schreiben\n",
    "collection = db[\"clean_articles\"]\n",
    "collection.insert_many(data_20min)"
   ]
  },
  {
   "attachments": {},
   "cell_type": "markdown",
   "metadata": {},
   "source": [
    "# Insert Blick Data"
   ]
  },
  {
   "cell_type": "code",
   "execution_count": 8,
   "metadata": {},
   "outputs": [
    {
     "data": {
      "text/plain": [
       "<pymongo.results.InsertManyResult at 0x23c1d87b540>"
      ]
     },
     "execution_count": 8,
     "metadata": {},
     "output_type": "execute_result"
    }
   ],
   "source": [
    "# JSON-Datei lesen\n",
    "with open('clean-data_blick_cosine.json', 'r') as file:\n",
    "    data_blick = json.load(file)\n",
    "\n",
    "# Datensätze in die MongoDB-Datenbank schreiben\n",
    "collection = db[\"clean_articles\"]\n",
    "collection.insert_many(data_blick)"
   ]
  }
 ],
 "metadata": {
  "kernelspec": {
   "display_name": "Python 3 (ipykernel)",
   "language": "python",
   "name": "python3"
  },
  "language_info": {
   "codemirror_mode": {
    "name": "ipython",
    "version": 3
   },
   "file_extension": ".py",
   "mimetype": "text/x-python",
   "name": "python",
   "nbconvert_exporter": "python",
   "pygments_lexer": "ipython3",
   "version": "3.10.9"
  }
 },
 "nbformat": 4,
 "nbformat_minor": 2
}
