{
 "cells": [
  {
   "cell_type": "code",
   "execution_count": 8,
   "id": "47b7c5f2",
   "metadata": {},
   "outputs": [
    {
     "name": "stdout",
     "output_type": "stream",
     "text": [
      "key:  _id\n",
      " value:  5f16ed107c8511edb3c10242ac110002\n",
      "key:  title\n",
      " value:  Adventure Challenge: Entscheide, wer den MINI Countryman gewinnt\n",
      "key:  lead\n",
      " value:  Es ist so weit! Herzlich willkommen beim Grande Finale der MINI Adventure Challenge! Entscheide jetzt, welches Glückskind ein unvergessliches Abenteuer mit dem MINI Countryman gewinnt.\n",
      "key:  author\n",
      " value:  \n",
      "key:  source\n",
      " value:  Watson\n",
      "key:  published\n",
      " value:  1670824800\n",
      "key:  updated\n",
      " value:  1670843880\n",
      "key:  text\n",
      " value:  Die MINI Fans haben sich ins Zeug gelegt, so viel steht fest! Um den MINI Countryman für ihr ganz persönliches Traum-Abenteuer zu gewinnen, haben sie grossartige, inspirierende, ja gar künstlerische Werke eingesendet. Unter all den Traumdestinationen und langersehnten Abenteuern haben wir die besten der besten ausgewählt und schicken sie ins legendäre «This or that»-Duell. Nun ist es an dir! Du bestimmst, wer den geräumigen MINI Countryman inklusive Dachzelt für sein ganz persönliches Abenteuer erhält. Die Glückspilzin oder der Glückspilz kann für bis zu zwei Wochen mit dem Power-Auto auf Tour gehen. Klick dich durch die Bilder und Fotos und wähle jeweils dein Lieblingssujet. Du darfst dich dabei unbedingt auch gleich inspirieren lassen für dein nächstes Abenteuer oder einen unvergesslichen Roadtrip, den du noch nicht auf dem Navi hattest. PS.: Wir sind schon sehr gespannt auf die Abenteuer-Fotos und -Videos der Gewinnerin oder des Gewinners. Ready, steady, go!\n",
      "key:  paragraph_hashes\n",
      " value:  ['5322685eee594dad9a2fefd6158f247bd11efbd3', '9b7ff858613d89fbf97c9a10d41b8bcee7138ce9', 'a2875b785f4fd8d2631cc46eb7bf8d2583e60c9c', '6595c43bab60e166766ae57ae52073b932dfadd3']\n",
      "key:  url\n",
      " value:  https://www.watson.ch/promotion/wettbewerbe/871486713-adventure-challenge-entscheide-wer-den-mini-countryman-gewinnt\n",
      "Watson\n"
     ]
    }
   ],
   "source": [
    "import ijson\n",
    "\n",
    "jsonData = ijson.items(open('articles_20230422-1203.json', 'rb'), 'item')\n",
    "\n",
    "for prefix in jsonData:\n",
    "    for key,value in prefix.items():\n",
    "        print('key: ', key)\n",
    "        print(' value: ', value)\n",
    "    print(prefix['source'])\n",
    "    break\n"
   ]
  },
  {
   "cell_type": "code",
   "execution_count": null,
   "id": "ac378d34",
   "metadata": {},
   "outputs": [],
   "source": []
  }
 ],
 "metadata": {
  "kernelspec": {
   "display_name": "Python 3 (ipykernel)",
   "language": "python",
   "name": "python3"
  },
  "language_info": {
   "codemirror_mode": {
    "name": "ipython",
    "version": 3
   },
   "file_extension": ".py",
   "mimetype": "text/x-python",
   "name": "python",
   "nbconvert_exporter": "python",
   "pygments_lexer": "ipython3",
   "version": "3.10.8"
  }
 },
 "nbformat": 4,
 "nbformat_minor": 5
}
